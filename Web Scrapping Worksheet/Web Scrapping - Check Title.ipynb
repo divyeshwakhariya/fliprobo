{
 "cells": [
  {
   "cell_type": "markdown",
   "metadata": {},
   "source": [
    "### Problem Statement: Write a python program to check whether a webpage contains a title or not"
   ]
  },
  {
   "cell_type": "code",
   "execution_count": 1,
   "metadata": {
    "scrolled": true
   },
   "outputs": [],
   "source": [
    "import requests\n",
    "from requests import get\n",
    "from bs4 import BeautifulSoup"
   ]
  },
  {
   "cell_type": "code",
   "execution_count": 2,
   "metadata": {},
   "outputs": [],
   "source": [
    "def check_title(url):\n",
    "    response = requests.get(url)\n",
    "    soup = BeautifulSoup(response.content)\n",
    "    webtitle = soup.find('title')\n",
    "    if webtitle is None:\n",
    "        print('Title not present')\n",
    "    else:\n",
    "        title = webtitle.text\n",
    "        print('Title present for {}'.format(url))\n",
    "        print()\n",
    "        print('Title is =>',title)"
   ]
  },
  {
   "cell_type": "code",
   "execution_count": 4,
   "metadata": {},
   "outputs": [
    {
     "name": "stdout",
     "output_type": "stream",
     "text": [
      "Title present for https://www.iplt20.com/\n",
      "\n",
      "Title is => IPLT20.com - Indian Premier League Official Website\n"
     ]
    }
   ],
   "source": [
    "url = \"https://www.iplt20.com/\"\n",
    "check_title(url)"
   ]
  },
  {
   "cell_type": "markdown",
   "metadata": {},
   "source": [
    "### Conclusion"
   ]
  },
  {
   "cell_type": "markdown",
   "metadata": {},
   "source": [
    "Here in this script, I've checked whether a webpage is having a title or not using requests and BeautifulSoup. I've created a function where you can pass any webpage URL, and it will check whether a title is present or not. If title is not available it will print \"Title not present\". If title is present then it wil print \"Title Present\" along with webpage Title."
   ]
  },
  {
   "cell_type": "code",
   "execution_count": null,
   "metadata": {},
   "outputs": [],
   "source": []
  }
 ],
 "metadata": {
  "kernelspec": {
   "display_name": "Python 3",
   "language": "python",
   "name": "python3"
  },
  "language_info": {
   "codemirror_mode": {
    "name": "ipython",
    "version": 3
   },
   "file_extension": ".py",
   "mimetype": "text/x-python",
   "name": "python",
   "nbconvert_exporter": "python",
   "pygments_lexer": "ipython3",
   "version": "3.7.4"
  }
 },
 "nbformat": 4,
 "nbformat_minor": 2
}
