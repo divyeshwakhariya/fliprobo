{
 "cells": [
  {
   "cell_type": "markdown",
   "metadata": {},
   "source": [
    "# DATA AUGMENTATION AND CLASSIFICATION"
   ]
  },
  {
   "cell_type": "code",
   "execution_count": 1,
   "metadata": {},
   "outputs": [],
   "source": [
    "import cv2\n",
    "import numpy as np\n",
    "import glob\n",
    "import matplotlib.pyplot as plt\n",
    "import random\n",
    "from random import choice\n",
    "from string import ascii_uppercase\n",
    "from time import sleep"
   ]
  },
  {
   "cell_type": "markdown",
   "metadata": {},
   "source": [
    "### DATA AUGMENTATION"
   ]
  },
  {
   "cell_type": "code",
   "execution_count": 2,
   "metadata": {},
   "outputs": [],
   "source": [
    "def brightness_increase(img, value):\n",
    "    hsv = cv2.cvtColor(img, cv2.COLOR_BGR2HSV)\n",
    "    hsv = np.array(hsv, dtype = np.float64)\n",
    "    hsv[:,:,1] = hsv[:,:,1]*value\n",
    "    hsv[:,:,1][hsv[:,:,1]>255]  = 255\n",
    "    hsv[:,:,2] = hsv[:,:,2]*value \n",
    "    hsv[:,:,2][hsv[:,:,2]>255]  = 255\n",
    "    hsv = np.array(hsv, dtype = np.uint8)\n",
    "    img = cv2.cvtColor(hsv, cv2.COLOR_HSV2BGR)\n",
    "    return img"
   ]
  },
  {
   "cell_type": "code",
   "execution_count": 3,
   "metadata": {},
   "outputs": [],
   "source": [
    "def brightness_decrease(img, value):\n",
    "    hsv = cv2.cvtColor(img, cv2.COLOR_BGR2HSV)\n",
    "    hsv = np.array(hsv, dtype = np.float64)\n",
    "    hsv[:,:,1] = hsv[:,:,1]*value\n",
    "    hsv[:,:,1][hsv[:,:,1]>255]  = 255\n",
    "    hsv[:,:,2] = hsv[:,:,2]*value \n",
    "    hsv[:,:,2][hsv[:,:,2]>255]  = 255\n",
    "    hsv = np.array(hsv, dtype = np.uint8)\n",
    "    img = cv2.cvtColor(hsv, cv2.COLOR_HSV2BGR)\n",
    "    return img"
   ]
  },
  {
   "cell_type": "code",
   "execution_count": 4,
   "metadata": {},
   "outputs": [],
   "source": [
    "def rotation(img, angle):\n",
    "    angle = int(random.uniform(-angle, angle))\n",
    "    h, w = img.shape[:2]\n",
    "    M = cv2.getRotationMatrix2D((int(w/2), int(h/2)), angle, 1)\n",
    "    img = cv2.warpAffine(img, M, (w, h))\n",
    "    return img"
   ]
  },
  {
   "cell_type": "code",
   "execution_count": 5,
   "metadata": {},
   "outputs": [],
   "source": [
    "def horizontal_flip(img, flag):\n",
    "    if flag:\n",
    "        return cv2.flip(img, 1)\n",
    "    else:\n",
    "        return img"
   ]
  },
  {
   "cell_type": "code",
   "execution_count": 6,
   "metadata": {},
   "outputs": [],
   "source": [
    "def vertical_flip(img, flag):\n",
    "    if flag:\n",
    "        return cv2.flip(img, 0)\n",
    "    else:\n",
    "        return img"
   ]
  },
  {
   "cell_type": "code",
   "execution_count": 7,
   "metadata": {},
   "outputs": [],
   "source": [
    "def sharpning(img):\n",
    "    kernel_sharpening = np.array([[-1,-1,-1], \n",
    "                              [-1, 9,-1],\n",
    "                              [-1,-1,-1]])\n",
    "    # applying the sharpening kernel to the input image & displaying it.\n",
    "    image = cv2.filter2D(img, -1, kernel_sharpening)\n",
    "    return image"
   ]
  },
  {
   "cell_type": "code",
   "execution_count": 8,
   "metadata": {
    "scrolled": false
   },
   "outputs": [],
   "source": [
    "augpath = \"D:/DATASCIENCE/TshirtShirt/training/tshirts/\"\n",
    "path = \"D:/DATASCIENCE/TshirtShirt/images/tshirtsbk/*.*\"\n",
    "for file in glob.glob(path):\n",
    "    randomname  = ''.join(choice(ascii_uppercase) for i in range(10))\n",
    "    \n",
    "    #reading image\n",
    "    img= cv2.imread(file)\n",
    "    \n",
    "    #Increasing brightness\n",
    "    imgbi = brightness_increase(img,2.5)\n",
    "    \n",
    "    #writing image\n",
    "    imgbiname = augpath+'TSHIRTBRIINC'+randomname+'.jpg'\n",
    "    status = cv2.imwrite(imgbiname,imgbi)\n",
    "    \n",
    "    #Decreasing brightness\n",
    "    imgbd = brightness_increase(img,0.5)\n",
    "    \n",
    "    #writing image\n",
    "    imgbdname = augpath+'TSHIRTBRIDEC'+randomname+'.jpg'\n",
    "    status = cv2.imwrite(imgbdname,imgbd)\n",
    "    \n",
    "    #Rotating image\n",
    "    imgrotate = rotation(img, 30) \n",
    "    \n",
    "    #writing image\n",
    "    imgrotname = augpath+'TSHIRTROTATE'+randomname+'.jpg'\n",
    "    status = cv2.imwrite(imgrotname,imgrotate)\n",
    "    \n",
    "    #Flipping image horizontally\n",
    "    imgfliph = horizontal_flip(img, 30) \n",
    "    \n",
    "    #writing image\n",
    "    imgfliphname = augpath+'TSHIRTFLIPH'+randomname+'.jpg'\n",
    "    status = cv2.imwrite(imgfliphname,imgfliph)\n",
    "    \n",
    "    #Flipping image vertically\n",
    "    imgflipv = vertical_flip(img, 30) \n",
    "    \n",
    "    #writing image\n",
    "    imgflipvname = augpath+'TSHIRTFLIPV'+randomname+'.jpg'\n",
    "    status = cv2.imwrite(imgflipvname,imgflipv)\n",
    "    \n",
    "    #Flipping image vertically\n",
    "    imgsharp = sharpning(img) \n",
    "    \n",
    "    #writing image\n",
    "    imgsharpname = augpath+'TSHIRTSHARP'+randomname+'.jpg'\n",
    "    status = cv2.imwrite(imgsharpname,imgsharp)"
   ]
  },
  {
   "cell_type": "code",
   "execution_count": 9,
   "metadata": {},
   "outputs": [],
   "source": [
    "augpath = \"D:/DATASCIENCE/TshirtShirt/training/shirts/\"\n",
    "path = \"D:/DATASCIENCE/TshirtShirt/images/shirtsbk/*.*\"\n",
    "for file in glob.glob(path):\n",
    "    randomname  = ''.join(choice(ascii_uppercase) for i in range(10))\n",
    "    \n",
    "    #reading image\n",
    "    img= cv2.imread(file)\n",
    "    \n",
    "    #Increasing brightness\n",
    "    imgbi = brightness_increase(img,2.5)\n",
    "    \n",
    "    #writing image\n",
    "    imgbiname = augpath+'SHIRTBRIINC'+randomname+'.jpg'\n",
    "    status = cv2.imwrite(imgbiname,imgbi)\n",
    "    \n",
    "    #Decreasing brightness\n",
    "    imgbd = brightness_increase(img,0.5)\n",
    "    \n",
    "    #writing image\n",
    "    imgbdname = augpath+'SHIRTBRIDEC'+randomname+'.jpg'\n",
    "    status = cv2.imwrite(imgbdname,imgbd)\n",
    "    \n",
    "    #Rotating image\n",
    "    imgrotate = rotation(img, 30) \n",
    "    \n",
    "    #writing image\n",
    "    imgrotname = augpath+'SHIRTROTATE'+randomname+'.jpg'\n",
    "    status = cv2.imwrite(imgrotname,imgrotate)\n",
    "    \n",
    "    #Flipping image horizontally\n",
    "    imgfliph = horizontal_flip(img, 30) \n",
    "    \n",
    "    #writing image\n",
    "    imgfliphname = augpath+'SHIRTFLIPH'+randomname+'.jpg'\n",
    "    status = cv2.imwrite(imgfliphname,imgfliph)\n",
    "    \n",
    "    #Flipping image vertically\n",
    "    imgflipv = vertical_flip(img, 30) \n",
    "    \n",
    "    #writing image\n",
    "    imgflipvname = augpath+'SHIRTFLIPV'+randomname+'.jpg'\n",
    "    status = cv2.imwrite(imgflipvname,imgflipv)\n",
    "    \n",
    "    #Flipping image vertically\n",
    "    imgsharp = sharpning(img) \n",
    "    \n",
    "    #writing image\n",
    "    imgsharpname = augpath+'SHIRTSHARP'+randomname+'.jpg'\n",
    "    status = cv2.imwrite(imgsharpname,imgsharp)"
   ]
  },
  {
   "cell_type": "markdown",
   "metadata": {},
   "source": [
    "### CLASSIFICATION"
   ]
  },
  {
   "cell_type": "code",
   "execution_count": 10,
   "metadata": {},
   "outputs": [],
   "source": [
    "import keras\n",
    "from keras.models import Sequential\n",
    "from keras.layers import Conv2D, Dense, Dropout, MaxPooling2D, Flatten\n",
    "from keras.preprocessing.image import ImageDataGenerator"
   ]
  },
  {
   "cell_type": "code",
   "execution_count": 11,
   "metadata": {},
   "outputs": [],
   "source": [
    "model = Sequential()"
   ]
  },
  {
   "cell_type": "code",
   "execution_count": 12,
   "metadata": {},
   "outputs": [],
   "source": [
    "#Adding Convolution layer\n",
    "img_width, img_height = 64,64\n",
    "model.add(Conv2D(32,(3,3),input_shape=(img_width,img_height,3),activation='relu'))\n",
    "model.add(MaxPooling2D(pool_size = (2,2)))\n",
    "model.add(Dropout(0.25))"
   ]
  },
  {
   "cell_type": "code",
   "execution_count": 13,
   "metadata": {},
   "outputs": [],
   "source": [
    "model.add(Conv2D(32,(3,3),activation='relu'))\n",
    "model.add(MaxPooling2D(pool_size = (2,2)))\n",
    "model.add(Dropout(0.5))"
   ]
  },
  {
   "cell_type": "code",
   "execution_count": 14,
   "metadata": {},
   "outputs": [],
   "source": [
    "model.add(Conv2D(64, (3, 3), activation='relu'))\n",
    "model.add(MaxPooling2D(pool_size=(2, 2)))\n",
    "model.add(Dropout(0.5))"
   ]
  },
  {
   "cell_type": "code",
   "execution_count": 15,
   "metadata": {},
   "outputs": [],
   "source": [
    "model.add(Flatten())\n",
    "model.add(Dense(512,activation='relu'))\n",
    "model.add(Dropout(0.5))\n",
    "model.add(Dense(1,activation='sigmoid'))"
   ]
  },
  {
   "cell_type": "code",
   "execution_count": 16,
   "metadata": {},
   "outputs": [],
   "source": [
    "#Compiling the CNN\n",
    "model.compile(optimizer = 'adam',loss = 'binary_crossentropy',metrics = ['accuracy'])"
   ]
  },
  {
   "cell_type": "code",
   "execution_count": 17,
   "metadata": {},
   "outputs": [
    {
     "name": "stdout",
     "output_type": "stream",
     "text": [
      "Model: \"sequential\"\n",
      "_________________________________________________________________\n",
      "Layer (type)                 Output Shape              Param #   \n",
      "=================================================================\n",
      "conv2d (Conv2D)              (None, 62, 62, 32)        896       \n",
      "_________________________________________________________________\n",
      "max_pooling2d (MaxPooling2D) (None, 31, 31, 32)        0         \n",
      "_________________________________________________________________\n",
      "dropout (Dropout)            (None, 31, 31, 32)        0         \n",
      "_________________________________________________________________\n",
      "conv2d_1 (Conv2D)            (None, 29, 29, 32)        9248      \n",
      "_________________________________________________________________\n",
      "max_pooling2d_1 (MaxPooling2 (None, 14, 14, 32)        0         \n",
      "_________________________________________________________________\n",
      "dropout_1 (Dropout)          (None, 14, 14, 32)        0         \n",
      "_________________________________________________________________\n",
      "conv2d_2 (Conv2D)            (None, 12, 12, 64)        18496     \n",
      "_________________________________________________________________\n",
      "max_pooling2d_2 (MaxPooling2 (None, 6, 6, 64)          0         \n",
      "_________________________________________________________________\n",
      "dropout_2 (Dropout)          (None, 6, 6, 64)          0         \n",
      "_________________________________________________________________\n",
      "flatten (Flatten)            (None, 2304)              0         \n",
      "_________________________________________________________________\n",
      "dense (Dense)                (None, 512)               1180160   \n",
      "_________________________________________________________________\n",
      "dropout_3 (Dropout)          (None, 512)               0         \n",
      "_________________________________________________________________\n",
      "dense_1 (Dense)              (None, 1)                 513       \n",
      "=================================================================\n",
      "Total params: 1,209,313\n",
      "Trainable params: 1,209,313\n",
      "Non-trainable params: 0\n",
      "_________________________________________________________________\n"
     ]
    }
   ],
   "source": [
    "model.summary()"
   ]
  },
  {
   "cell_type": "code",
   "execution_count": 18,
   "metadata": {},
   "outputs": [],
   "source": [
    "#Generating image data\n",
    "\n",
    "train_datagen = ImageDataGenerator(rescale=1./255,\n",
    "                                  shear_range = 0.2,\n",
    "                                  zoom_range = 0.2,\n",
    "                                  horizontal_flip=True)\n",
    "\n",
    "test_datagen  = ImageDataGenerator(rescale=1./255)"
   ]
  },
  {
   "cell_type": "code",
   "execution_count": 19,
   "metadata": {},
   "outputs": [
    {
     "name": "stdout",
     "output_type": "stream",
     "text": [
      "Found 1397 images belonging to 2 classes.\n",
      "Found 40 images belonging to 2 classes.\n"
     ]
    }
   ],
   "source": [
    "#Fitting image to the CNN\n",
    "#Defining data directory\n",
    "train_data_dir = 'D:/DATASCIENCE/TshirtShirt/training'\n",
    "validation_data_dir = 'D:/DATASCIENCE/TshirtShirt/validation'\n",
    "\n",
    "nb_train_samples =1400\n",
    "nb_validation_samples = 40\n",
    "epochs = 50\n",
    "batch_size = 30\n",
    "\n",
    "training_set = train_datagen.flow_from_directory(train_data_dir,\n",
    "                                                 target_size=(64,64),\n",
    "                                                batch_size = batch_size,\n",
    "                                                class_mode = 'binary')\n",
    "\n",
    "\n",
    "test_set = test_datagen.flow_from_directory(validation_data_dir,\n",
    "                                           target_size=(64,64),\n",
    "                                           batch_size=batch_size,\n",
    "                                           class_mode='binary')"
   ]
  },
  {
   "cell_type": "code",
   "execution_count": 20,
   "metadata": {
    "scrolled": true
   },
   "outputs": [
    {
     "name": "stdout",
     "output_type": "stream",
     "text": [
      "Epoch 1/50\n",
      "46/46 [==============================] - 19s 424ms/step - loss: 0.6840 - accuracy: 0.5867 - val_loss: 0.6162 - val_accuracy: 0.7667\n",
      "Epoch 2/50\n",
      "46/46 [==============================] - 15s 324ms/step - loss: 0.6018 - accuracy: 0.6928 - val_loss: 0.6318 - val_accuracy: 0.6333\n",
      "Epoch 3/50\n",
      "46/46 [==============================] - 15s 322ms/step - loss: 0.5218 - accuracy: 0.7557 - val_loss: 0.5103 - val_accuracy: 0.8667\n",
      "Epoch 4/50\n",
      "46/46 [==============================] - 14s 314ms/step - loss: 0.4451 - accuracy: 0.7857 - val_loss: 0.4636 - val_accuracy: 0.8333\n",
      "Epoch 5/50\n",
      "46/46 [==============================] - 15s 331ms/step - loss: 0.4280 - accuracy: 0.8127 - val_loss: 0.3683 - val_accuracy: 0.9000\n",
      "Epoch 6/50\n",
      "46/46 [==============================] - 14s 304ms/step - loss: 0.3803 - accuracy: 0.8310 - val_loss: 0.3837 - val_accuracy: 0.8333\n",
      "Epoch 7/50\n",
      "46/46 [==============================] - 15s 329ms/step - loss: 0.4063 - accuracy: 0.8178 - val_loss: 0.4162 - val_accuracy: 0.7667\n",
      "Epoch 8/50\n",
      "46/46 [==============================] - 14s 306ms/step - loss: 0.3918 - accuracy: 0.8339 - val_loss: 0.2770 - val_accuracy: 0.9000\n",
      "Epoch 9/50\n",
      "46/46 [==============================] - 15s 328ms/step - loss: 0.3520 - accuracy: 0.8398 - val_loss: 0.3317 - val_accuracy: 0.8667\n",
      "Epoch 10/50\n",
      "46/46 [==============================] - 18s 395ms/step - loss: 0.3319 - accuracy: 0.8581 - val_loss: 0.3351 - val_accuracy: 0.8333\n",
      "Epoch 11/50\n",
      "46/46 [==============================] - 17s 377ms/step - loss: 0.3207 - accuracy: 0.8617 - val_loss: 0.3191 - val_accuracy: 0.9000\n",
      "Epoch 12/50\n",
      "46/46 [==============================] - 20s 435ms/step - loss: 0.2999 - accuracy: 0.8654 - val_loss: 0.2947 - val_accuracy: 0.8667\n",
      "Epoch 13/50\n",
      "46/46 [==============================] - 15s 334ms/step - loss: 0.2857 - accuracy: 0.8873 - val_loss: 0.2646 - val_accuracy: 0.9333\n",
      "Epoch 14/50\n",
      "46/46 [==============================] - 15s 325ms/step - loss: 0.2684 - accuracy: 0.8881 - val_loss: 0.2540 - val_accuracy: 0.9333\n",
      "Epoch 15/50\n",
      "46/46 [==============================] - 14s 309ms/step - loss: 0.2681 - accuracy: 0.8786 - val_loss: 0.2464 - val_accuracy: 0.9667\n",
      "Epoch 16/50\n",
      "46/46 [==============================] - 14s 294ms/step - loss: 0.2532 - accuracy: 0.9034 - val_loss: 0.2752 - val_accuracy: 0.9333\n",
      "Epoch 17/50\n",
      "46/46 [==============================] - 15s 327ms/step - loss: 0.2502 - accuracy: 0.9005 - val_loss: 0.1671 - val_accuracy: 0.9333\n",
      "Epoch 18/50\n",
      "46/46 [==============================] - 15s 318ms/step - loss: 0.2375 - accuracy: 0.8990 - val_loss: 0.2454 - val_accuracy: 0.9333\n",
      "Epoch 19/50\n",
      "46/46 [==============================] - 14s 302ms/step - loss: 0.2252 - accuracy: 0.9203 - val_loss: 0.2279 - val_accuracy: 0.9000\n",
      "Epoch 20/50\n",
      "46/46 [==============================] - 15s 323ms/step - loss: 0.1934 - accuracy: 0.9247 - val_loss: 0.2286 - val_accuracy: 0.9333\n",
      "Epoch 21/50\n",
      "46/46 [==============================] - 14s 310ms/step - loss: 0.1997 - accuracy: 0.9217 - val_loss: 0.3063 - val_accuracy: 0.9333\n",
      "Epoch 22/50\n",
      "46/46 [==============================] - 15s 320ms/step - loss: 0.2039 - accuracy: 0.9078 - val_loss: 0.2289 - val_accuracy: 0.9667\n",
      "Epoch 23/50\n",
      "46/46 [==============================] - 15s 318ms/step - loss: 0.1910 - accuracy: 0.9225 - val_loss: 0.1902 - val_accuracy: 0.9667\n",
      "Epoch 24/50\n",
      "46/46 [==============================] - 14s 309ms/step - loss: 0.1691 - accuracy: 0.9364 - val_loss: 0.0737 - val_accuracy: 1.0000\n",
      "Epoch 25/50\n",
      "46/46 [==============================] - 15s 329ms/step - loss: 0.1931 - accuracy: 0.9144 - val_loss: 0.2134 - val_accuracy: 0.9333\n",
      "Epoch 26/50\n",
      "46/46 [==============================] - 14s 312ms/step - loss: 0.1645 - accuracy: 0.9276 - val_loss: 0.1296 - val_accuracy: 0.9333\n",
      "Epoch 27/50\n",
      "46/46 [==============================] - 15s 320ms/step - loss: 0.1761 - accuracy: 0.9261 - val_loss: 0.2254 - val_accuracy: 0.9333\n",
      "Epoch 28/50\n",
      "46/46 [==============================] - 15s 319ms/step - loss: 0.1552 - accuracy: 0.9429 - val_loss: 0.2795 - val_accuracy: 0.9333\n",
      "Epoch 29/50\n",
      "46/46 [==============================] - 14s 314ms/step - loss: 0.1664 - accuracy: 0.9334 - val_loss: 0.2257 - val_accuracy: 0.9667\n",
      "Epoch 30/50\n",
      "46/46 [==============================] - 14s 314ms/step - loss: 0.1490 - accuracy: 0.9393 - val_loss: 0.1931 - val_accuracy: 0.9333\n",
      "Epoch 31/50\n",
      "46/46 [==============================] - 15s 328ms/step - loss: 0.1458 - accuracy: 0.9327 - val_loss: 0.1373 - val_accuracy: 0.9333\n",
      "Epoch 32/50\n",
      "46/46 [==============================] - 14s 308ms/step - loss: 0.1712 - accuracy: 0.9320 - val_loss: 0.2848 - val_accuracy: 0.9333\n",
      "Epoch 33/50\n",
      "46/46 [==============================] - 15s 326ms/step - loss: 0.1548 - accuracy: 0.9415 - val_loss: 0.2244 - val_accuracy: 0.9333\n",
      "Epoch 34/50\n",
      "46/46 [==============================] - 14s 310ms/step - loss: 0.1415 - accuracy: 0.9488 - val_loss: 0.2524 - val_accuracy: 0.9000\n",
      "Epoch 35/50\n",
      "46/46 [==============================] - 15s 316ms/step - loss: 0.1463 - accuracy: 0.9342 - val_loss: 0.1190 - val_accuracy: 0.9667\n",
      "Epoch 36/50\n",
      "46/46 [==============================] - 14s 311ms/step - loss: 0.1361 - accuracy: 0.9481 - val_loss: 0.2308 - val_accuracy: 0.9333\n",
      "Epoch 37/50\n",
      "46/46 [==============================] - 15s 323ms/step - loss: 0.1090 - accuracy: 0.9546 - val_loss: 0.2821 - val_accuracy: 0.9333\n",
      "Epoch 38/50\n",
      "46/46 [==============================] - 14s 310ms/step - loss: 0.1252 - accuracy: 0.9539 - val_loss: 0.0917 - val_accuracy: 0.9667\n",
      "Epoch 39/50\n",
      "46/46 [==============================] - 14s 309ms/step - loss: 0.1170 - accuracy: 0.9546 - val_loss: 0.2498 - val_accuracy: 0.9667\n",
      "Epoch 40/50\n",
      "46/46 [==============================] - 14s 311ms/step - loss: 0.1084 - accuracy: 0.9539 - val_loss: 0.0858 - val_accuracy: 0.9667\n",
      "Epoch 41/50\n",
      "46/46 [==============================] - 14s 311ms/step - loss: 0.1201 - accuracy: 0.9517 - val_loss: 0.3201 - val_accuracy: 0.9000\n",
      "Epoch 42/50\n",
      "46/46 [==============================] - 15s 318ms/step - loss: 0.1222 - accuracy: 0.9514 - val_loss: 0.2974 - val_accuracy: 0.9333\n",
      "Epoch 43/50\n",
      "46/46 [==============================] - 14s 308ms/step - loss: 0.1263 - accuracy: 0.9561 - val_loss: 0.3273 - val_accuracy: 0.8667\n",
      "Epoch 44/50\n",
      "46/46 [==============================] - 15s 324ms/step - loss: 0.0944 - accuracy: 0.9678 - val_loss: 0.0283 - val_accuracy: 1.0000\n",
      "Epoch 45/50\n",
      "46/46 [==============================] - 14s 311ms/step - loss: 0.0830 - accuracy: 0.9671 - val_loss: 0.2913 - val_accuracy: 0.9333\n",
      "Epoch 46/50\n",
      "46/46 [==============================] - 14s 309ms/step - loss: 0.1403 - accuracy: 0.9525 - val_loss: 0.2959 - val_accuracy: 0.9333\n",
      "Epoch 47/50\n",
      "46/46 [==============================] - 15s 317ms/step - loss: 0.0994 - accuracy: 0.9583 - val_loss: 0.2727 - val_accuracy: 0.9000\n",
      "Epoch 48/50\n",
      "46/46 [==============================] - 14s 311ms/step - loss: 0.1121 - accuracy: 0.9634 - val_loss: 0.3166 - val_accuracy: 0.9333\n",
      "Epoch 49/50\n",
      "46/46 [==============================] - 15s 320ms/step - loss: 0.1158 - accuracy: 0.9576 - val_loss: 0.2151 - val_accuracy: 0.9667\n",
      "Epoch 50/50\n",
      "46/46 [==============================] - 14s 312ms/step - loss: 0.1031 - accuracy: 0.9649 - val_loss: 0.0980 - val_accuracy: 1.0000\n"
     ]
    }
   ],
   "source": [
    "#Training and Evaluating the model\n",
    "\n",
    "\n",
    "history = model.fit( \n",
    "    training_set, \n",
    "    steps_per_epoch=nb_train_samples // batch_size, \n",
    "    epochs=epochs, \n",
    "    validation_data=test_set, \n",
    "    validation_steps=nb_validation_samples // batch_size) "
   ]
  },
  {
   "cell_type": "code",
   "execution_count": 21,
   "metadata": {},
   "outputs": [
    {
     "data": {
      "text/plain": [
       "Text(0.5, 1.0, 'Loss Curves')"
      ]
     },
     "execution_count": 21,
     "metadata": {},
     "output_type": "execute_result"
    },
    {
     "data": {
      "image/png": "[encoded data removed]",
      "text/plain": [
       "<Figure size 360x360 with 1 Axes>"
      ]
     },
     "metadata": {
      "needs_background": "light"
     },
     "output_type": "display_data"
    }
   ],
   "source": [
    "# Loss Curves\n",
    "plt.figure(figsize=[5,5])\n",
    "plt.plot(history.history['loss'],'r',linewidth=1.0)\n",
    "plt.plot(history.history['val_loss'],'b',linewidth=1.0)\n",
    "plt.legend(['Training loss', 'Validation Loss'],fontsize=12)\n",
    "plt.xlabel('Epochs ',fontsize=12)\n",
    "plt.ylabel('Loss',fontsize=12)\n",
    "plt.title('Loss Curves',fontsize=12)"
   ]
  },
  {
   "cell_type": "code",
   "execution_count": 22,
   "metadata": {},
   "outputs": [
    {
     "data": {
      "text/plain": [
       "Text(0.5, 1.0, 'Accuracy Curves')"
      ]
     },
     "execution_count": 22,
     "metadata": {},
     "output_type": "execute_result"
    },
    {
     "data": {
      "image/png": "[encoded data removed]",
      "text/plain": [
       "<Figure size 360x360 with 1 Axes>"
      ]
     },
     "metadata": {
      "needs_background": "light"
     },
     "output_type": "display_data"
    }
   ],
   "source": [
    "# Accuracy Curves\n",
    "plt.figure(figsize=[5,5])\n",
    "plt.plot(history.history['accuracy'],'r',linewidth=3.0)\n",
    "plt.plot(history.history['val_accuracy'],'b',linewidth=3.0)\n",
    "plt.legend(['Training Accuracy', 'Validation Accuracy'],fontsize=12)\n",
    "plt.xlabel('Epochs ',fontsize=12)\n",
    "plt.ylabel('Accuracy',fontsize=12)\n",
    "plt.title('Accuracy Curves',fontsize=12)"
   ]
  },
  {
   "cell_type": "code",
   "execution_count": 23,
   "metadata": {},
   "outputs": [
    {
     "data": {
      "image/png": "[encoded data removed]",
      "text/plain": [
       "<Figure size 432x288 with 1 Axes>"
      ]
     },
     "metadata": {
      "needs_background": "light"
     },
     "output_type": "display_data"
    },
    {
     "data": {
      "image/png": "[encoded data removed]",
      "text/plain": [
       "<Figure size 432x288 with 1 Axes>"
      ]
     },
     "metadata": {
      "needs_background": "light"
     },
     "output_type": "display_data"
    }
   ],
   "source": [
    "\n",
    "import matplotlib.pyplot as plt\n",
    "%matplotlib inline\n",
    "\n",
    "history4 = history\n",
    "accuracy = history4.history['accuracy']\n",
    "val_accuracy = history4.history['val_accuracy']\n",
    "loss = history4.history['loss']\n",
    "val_loss = history4.history['val_loss']\n",
    "epochs = range(len(accuracy))\n",
    "\n",
    "plt.plot(epochs, accuracy, 'bo', label='Training accuracy')\n",
    "plt.plot(epochs, val_accuracy, 'b', label='Validation accuracy')\n",
    "plt.title('Training and validation accuracy')\n",
    "plt.legend()\n",
    "plt.figure()\n",
    "\n",
    "plt.plot(epochs, loss, 'bo', label='Training loss')\n",
    "plt.plot(epochs, val_loss, 'b', label='Validation loss')\n",
    "plt.title('Training and validation loss')\n",
    "plt.legend()\n",
    "plt.show()"
   ]
  },
  {
   "cell_type": "code",
   "execution_count": 24,
   "metadata": {},
   "outputs": [],
   "source": [
    "#Saving the model\n",
    "model.save('tshirtandshirtaugmentatioincnn_model.h5')"
   ]
  },
  {
   "cell_type": "code",
   "execution_count": 25,
   "metadata": {},
   "outputs": [],
   "source": [
    "#loading the model for testing\n",
    "from keras.models import load_model \n",
    "classifier = load_model('tshirtandshirtaugmentatioincnn_model.h5')"
   ]
  },
  {
   "cell_type": "code",
   "execution_count": 26,
   "metadata": {},
   "outputs": [
    {
     "name": "stdout",
     "output_type": "stream",
     "text": [
      "shirt\n"
     ]
    }
   ],
   "source": [
    "from keras.preprocessing import image\n",
    "import numpy as np\n",
    "\n",
    "#Loading image from drive\n",
    "test_image =image.load_img('D:/DATASCIENCE/TshirtShirt/manual_test/17.jpg',target_size =(64,64))\n",
    "\n",
    "#Converting image to array\n",
    "test_image =image.img_to_array(test_image)\n",
    "test_image =np.expand_dims(test_image, axits =0)\n",
    "\n",
    "#Predicting image\n",
    "result = classifier.predict(test_image)\n",
    "if result[0][0] >= 0.5:\n",
    "    prediction = 'tshirt'\n",
    "else:\n",
    "    prediction = 'shirt'\n",
    "print(prediction)"
   ]
  },
  {
   "cell_type": "markdown",
   "metadata": {},
   "source": [
    "### CONCLUSION"
   ]
  },
  {
   "cell_type": "markdown",
   "metadata": {},
   "source": [
    "In this assignment, I've tried to classify two category images. I downloaded images from Flipkart for two different categories by using a web scraping script. Then, saved all images in a directory with two labels as a t-shirt and shirt. After downloading, I've applied multiple augmentation techniques such as brightness, flip, rotation, and sharpening. Then imported the required libraries of Keras and created a model with two convolutional layers, a dense layer, and also added dropout to avoid overfitting/underfitting, then compiled the model with test and train data and got the accuracy score of 0.9. After testing multiple images manually I found that the model is predicting 8 out of 10 images correctly."
   ]
  }
 ],
 "metadata": {
  "kernelspec": {
   "display_name": "Python 3",
   "language": "python",
   "name": "python3"
  },
  "language_info": {
   "codemirror_mode": {
    "name": "ipython",
    "version": 3
   },
   "file_extension": ".py",
   "mimetype": "text/x-python",
   "name": "python",
   "nbconvert_exporter": "python",
   "pygments_lexer": "ipython3",
   "version": "3.7.4"
  }
 },
 "nbformat": 4,
 "nbformat_minor": 2
}
