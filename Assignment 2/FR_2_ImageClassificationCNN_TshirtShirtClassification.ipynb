{
 "cells": [
  {
   "cell_type": "code",
   "execution_count": 1,
   "metadata": {},
   "outputs": [],
   "source": [
    "from keras.models import Sequential\n",
    "from keras.layers import Conv2D, MaxPooling2D, Flatten, Dense, Dropout\n",
    "from keras.preprocessing.image import ImageDataGenerator"
   ]
  },
  {
   "cell_type": "code",
   "execution_count": 2,
   "metadata": {},
   "outputs": [],
   "source": [
    "#Initializing the CNN \n",
    "\n",
    "model = Sequential()"
   ]
  },
  {
   "cell_type": "code",
   "execution_count": 3,
   "metadata": {},
   "outputs": [],
   "source": [
    "#Adding Convolution layer\n",
    "img_width, img_height = 64,64\n",
    "model.add(Conv2D(32,(2,2),\n",
    "                 input_shape=(img_width,img_height,3),\n",
    "                 activation='relu'))\n",
    "\n",
    "#32 = Using 32 filters\n",
    "#3,3 = Kernel_size or filter size"
   ]
  },
  {
   "cell_type": "code",
   "execution_count": 4,
   "metadata": {},
   "outputs": [],
   "source": [
    "model.add(MaxPooling2D(pool_size = (2,2)))\n",
    "\n",
    "#pool_size = shape of pooling window"
   ]
  },
  {
   "cell_type": "code",
   "execution_count": 5,
   "metadata": {},
   "outputs": [],
   "source": [
    "#Adding one more convolutional layer\n",
    "\n",
    "model.add(Conv2D(32,(2,2),activation='relu'))\n",
    "model.add(MaxPooling2D(pool_size=(2,2)))\n",
    "\n",
    "model.add(Conv2D(32,(2,2),activation='relu'))\n",
    "model.add(MaxPooling2D(pool_size=(2,2)))\n"
   ]
  },
  {
   "cell_type": "code",
   "execution_count": 6,
   "metadata": {},
   "outputs": [],
   "source": [
    "#Flattening Layer\n",
    "\n",
    "model.add(Flatten())"
   ]
  },
  {
   "cell_type": "code",
   "execution_count": 7,
   "metadata": {},
   "outputs": [],
   "source": [
    "#Adding hidden layers \n",
    "\n",
    "model.add(Dense(128,activation='relu'))\n",
    "model.add(Dropout(0.4))\n",
    "model.add(Dense(1,activation='sigmoid'))\n",
    "\n",
    "\n",
    "#Units = Numbber of nodes in the hidden layer"
   ]
  },
  {
   "cell_type": "code",
   "execution_count": 8,
   "metadata": {},
   "outputs": [],
   "source": [
    "#Compiling the CNN\n",
    "model.compile(optimizer = 'adam',loss = 'binary_crossentropy',metrics = ['accuracy'])"
   ]
  },
  {
   "cell_type": "code",
   "execution_count": 9,
   "metadata": {},
   "outputs": [],
   "source": [
    "#Generating image data\n",
    "\n",
    "train_datagen = ImageDataGenerator(rescale=1./255,\n",
    "                                  shear_range = 0.2,\n",
    "                                  zoom_range = 0.2,\n",
    "                                  horizontal_flip=True)\n",
    "\n",
    "test_datagen  = ImageDataGenerator(rescale=1./255)\n"
   ]
  },
  {
   "cell_type": "code",
   "execution_count": 10,
   "metadata": {},
   "outputs": [
    {
     "name": "stdout",
     "output_type": "stream",
     "text": [
      "Found 200 images belonging to 2 classes.\n",
      "Found 100 images belonging to 2 classes.\n"
     ]
    }
   ],
   "source": [
    "#Fitting image to the CNN\n",
    "#Defining data directory\n",
    "train_data_dir = 'D:/DATASCIENCE/TshirtShirt/training'\n",
    "validation_data_dir = 'D:/DATASCIENCE/TshirtShirt/Validation'\n",
    "\n",
    "nb_train_samples =200\n",
    "nb_validation_samples = 100\n",
    "epochs = 50\n",
    "batch_size = 5\n",
    "\n",
    "training_set = train_datagen.flow_from_directory(train_data_dir,\n",
    "                                                 target_size=(64,64),\n",
    "                                                batch_size = batch_size,\n",
    "                                                class_mode = 'binary')\n",
    "\n",
    "\n",
    "test_set = test_datagen.flow_from_directory(validation_data_dir,\n",
    "                                           target_size=(64,64),\n",
    "                                           batch_size=batch_size,\n",
    "                                           class_mode='binary')"
   ]
  },
  {
   "cell_type": "code",
   "execution_count": 11,
   "metadata": {
    "scrolled": false
   },
   "outputs": [
    {
     "name": "stdout",
     "output_type": "stream",
     "text": [
      "WARNING:tensorflow:From <ipython-input-11-971824fdc3c5>:9: Model.fit_generator (from tensorflow.python.keras.engine.training) is deprecated and will be removed in a future version.\n",
      "Instructions for updating:\n",
      "Please use Model.fit, which supports generators.\n",
      "Epoch 1/50\n",
      "40/40 [==============================] - 2s 50ms/step - loss: 0.6706 - accuracy: 0.5750 - val_loss: 0.5721 - val_accuracy: 0.7100\n",
      "Epoch 2/50\n",
      "40/40 [==============================] - 2s 45ms/step - loss: 0.5024 - accuracy: 0.7950 - val_loss: 0.4228 - val_accuracy: 0.8500\n",
      "Epoch 3/50\n",
      "40/40 [==============================] - 2s 55ms/step - loss: 0.3629 - accuracy: 0.8750 - val_loss: 0.3523 - val_accuracy: 0.8800\n",
      "Epoch 4/50\n",
      "40/40 [==============================] - 2s 45ms/step - loss: 0.2445 - accuracy: 0.8950 - val_loss: 0.5438 - val_accuracy: 0.8100\n",
      "Epoch 5/50\n",
      "40/40 [==============================] - 2s 50ms/step - loss: 0.2150 - accuracy: 0.9350 - val_loss: 0.2061 - val_accuracy: 0.9500\n",
      "Epoch 6/50\n",
      "40/40 [==============================] - 2s 61ms/step - loss: 0.2156 - accuracy: 0.9400 - val_loss: 0.3221 - val_accuracy: 0.8700\n",
      "Epoch 7/50\n",
      "40/40 [==============================] - 2s 47ms/step - loss: 0.1837 - accuracy: 0.9250 - val_loss: 0.1623 - val_accuracy: 0.9500\n",
      "Epoch 8/50\n",
      "40/40 [==============================] - 2s 44ms/step - loss: 0.1147 - accuracy: 0.9550 - val_loss: 0.0952 - val_accuracy: 0.9500\n",
      "Epoch 9/50\n",
      "40/40 [==============================] - 2s 55ms/step - loss: 0.0692 - accuracy: 0.9800 - val_loss: 0.0434 - val_accuracy: 1.0000\n",
      "Epoch 10/50\n",
      "40/40 [==============================] - 2s 45ms/step - loss: 0.1603 - accuracy: 0.9300 - val_loss: 0.1144 - val_accuracy: 0.9700\n",
      "Epoch 11/50\n",
      "40/40 [==============================] - 2s 45ms/step - loss: 0.1230 - accuracy: 0.9500 - val_loss: 0.3519 - val_accuracy: 0.8300\n",
      "Epoch 12/50\n",
      "40/40 [==============================] - 2s 55ms/step - loss: 0.0860 - accuracy: 0.9800 - val_loss: 0.2706 - val_accuracy: 0.8900\n",
      "Epoch 13/50\n",
      "40/40 [==============================] - 2s 45ms/step - loss: 0.1159 - accuracy: 0.9600 - val_loss: 0.0706 - val_accuracy: 0.9700\n",
      "Epoch 14/50\n",
      "40/40 [==============================] - 2s 46ms/step - loss: 0.0598 - accuracy: 0.9800 - val_loss: 0.0516 - val_accuracy: 0.9800\n",
      "Epoch 15/50\n",
      "40/40 [==============================] - 2s 54ms/step - loss: 0.0667 - accuracy: 0.9550 - val_loss: 0.0565 - val_accuracy: 0.9800\n",
      "Epoch 16/50\n",
      "40/40 [==============================] - 2s 45ms/step - loss: 0.0476 - accuracy: 0.9800 - val_loss: 0.0238 - val_accuracy: 1.0000\n",
      "Epoch 17/50\n",
      "40/40 [==============================] - 2s 45ms/step - loss: 0.0454 - accuracy: 0.9800 - val_loss: 0.0296 - val_accuracy: 1.0000\n",
      "Epoch 18/50\n",
      "40/40 [==============================] - 2s 54ms/step - loss: 0.0584 - accuracy: 0.9850 - val_loss: 0.0104 - val_accuracy: 1.0000\n",
      "Epoch 19/50\n",
      "40/40 [==============================] - 2s 45ms/step - loss: 0.0677 - accuracy: 0.9750 - val_loss: 0.1525 - val_accuracy: 0.9200\n",
      "Epoch 20/50\n",
      "40/40 [==============================] - 2s 46ms/step - loss: 0.0371 - accuracy: 0.9800 - val_loss: 0.0072 - val_accuracy: 1.0000\n",
      "Epoch 21/50\n",
      "40/40 [==============================] - 2s 54ms/step - loss: 0.1403 - accuracy: 0.9550 - val_loss: 0.1304 - val_accuracy: 0.9400\n",
      "Epoch 22/50\n",
      "40/40 [==============================] - 2s 44ms/step - loss: 0.0417 - accuracy: 0.9900 - val_loss: 0.0069 - val_accuracy: 1.0000\n",
      "Epoch 23/50\n",
      "40/40 [==============================] - 2s 45ms/step - loss: 0.0241 - accuracy: 0.9950 - val_loss: 0.0907 - val_accuracy: 0.9300\n",
      "Epoch 24/50\n",
      "40/40 [==============================] - 2s 53ms/step - loss: 0.0152 - accuracy: 0.9950 - val_loss: 0.0187 - val_accuracy: 0.9900\n",
      "Epoch 25/50\n",
      "40/40 [==============================] - 2s 45ms/step - loss: 0.0245 - accuracy: 0.9900 - val_loss: 0.0117 - val_accuracy: 1.0000\n",
      "Epoch 26/50\n",
      "40/40 [==============================] - 2s 45ms/step - loss: 0.0285 - accuracy: 0.9850 - val_loss: 0.0054 - val_accuracy: 1.0000\n",
      "Epoch 27/50\n",
      "40/40 [==============================] - 2s 54ms/step - loss: 0.0213 - accuracy: 0.9950 - val_loss: 0.0033 - val_accuracy: 1.0000\n",
      "Epoch 28/50\n",
      "40/40 [==============================] - 2s 44ms/step - loss: 0.0092 - accuracy: 0.9950 - val_loss: 0.0021 - val_accuracy: 1.0000\n",
      "Epoch 29/50\n",
      "40/40 [==============================] - 2s 45ms/step - loss: 0.0601 - accuracy: 0.9900 - val_loss: 0.0287 - val_accuracy: 1.0000\n",
      "Epoch 30/50\n",
      "40/40 [==============================] - 2s 54ms/step - loss: 0.0539 - accuracy: 0.9800 - val_loss: 0.0552 - val_accuracy: 0.9800\n",
      "Epoch 31/50\n",
      "40/40 [==============================] - 2s 44ms/step - loss: 0.0090 - accuracy: 1.0000 - val_loss: 0.0032 - val_accuracy: 1.0000\n",
      "Epoch 32/50\n",
      "40/40 [==============================] - 2s 45ms/step - loss: 0.0122 - accuracy: 0.9950 - val_loss: 0.0902 - val_accuracy: 0.9600\n",
      "Epoch 33/50\n",
      "40/40 [==============================] - 2s 55ms/step - loss: 0.0522 - accuracy: 0.9800 - val_loss: 0.0106 - val_accuracy: 1.0000\n",
      "Epoch 34/50\n",
      "40/40 [==============================] - 2s 45ms/step - loss: 0.0084 - accuracy: 1.0000 - val_loss: 0.0082 - val_accuracy: 1.0000\n",
      "Epoch 35/50\n",
      "40/40 [==============================] - 2s 45ms/step - loss: 0.0109 - accuracy: 0.9950 - val_loss: 0.0079 - val_accuracy: 1.0000\n",
      "Epoch 36/50\n",
      "40/40 [==============================] - 2s 54ms/step - loss: 0.0319 - accuracy: 0.9850 - val_loss: 0.0441 - val_accuracy: 0.9800\n",
      "Epoch 37/50\n",
      "40/40 [==============================] - 2s 45ms/step - loss: 0.0122 - accuracy: 0.9950 - val_loss: 0.0033 - val_accuracy: 1.0000\n",
      "Epoch 38/50\n",
      "40/40 [==============================] - 2s 45ms/step - loss: 0.0092 - accuracy: 1.0000 - val_loss: 0.0023 - val_accuracy: 1.0000\n",
      "Epoch 39/50\n",
      "40/40 [==============================] - 2s 55ms/step - loss: 0.0024 - accuracy: 1.0000 - val_loss: 3.6437e-04 - val_accuracy: 1.0000\n",
      "Epoch 40/50\n",
      "40/40 [==============================] - 2s 44ms/step - loss: 0.0048 - accuracy: 1.0000 - val_loss: 7.4128e-04 - val_accuracy: 1.0000\n",
      "Epoch 41/50\n",
      "40/40 [==============================] - 2s 44ms/step - loss: 0.0039 - accuracy: 1.0000 - val_loss: 5.9045e-04 - val_accuracy: 1.0000\n",
      "Epoch 42/50\n",
      "40/40 [==============================] - 2s 54ms/step - loss: 0.0115 - accuracy: 0.9950 - val_loss: 3.9570e-04 - val_accuracy: 1.0000\n",
      "Epoch 43/50\n",
      "40/40 [==============================] - 2s 45ms/step - loss: 0.0125 - accuracy: 1.0000 - val_loss: 0.0025 - val_accuracy: 1.0000\n",
      "Epoch 44/50\n",
      "40/40 [==============================] - 2s 45ms/step - loss: 0.0039 - accuracy: 1.0000 - val_loss: 0.0011 - val_accuracy: 1.0000\n",
      "Epoch 45/50\n",
      "40/40 [==============================] - 2s 57ms/step - loss: 0.0025 - accuracy: 1.0000 - val_loss: 2.5422e-04 - val_accuracy: 1.0000loss: 0.0020 \n",
      "Epoch 46/50\n",
      "40/40 [==============================] - 2s 45ms/step - loss: 6.9473e-04 - accuracy: 1.0000 - val_loss: 1.2519e-04 - val_accuracy: 1.0000\n",
      "Epoch 47/50\n",
      "40/40 [==============================] - 2s 46ms/step - loss: 0.0027 - accuracy: 1.0000 - val_loss: 1.2352e-04 - val_accuracy: 1.0000\n",
      "Epoch 48/50\n",
      "40/40 [==============================] - 2s 56ms/step - loss: 0.0028 - accuracy: 1.0000 - val_loss: 0.0049 - val_accuracy: 1.0000\n",
      "Epoch 49/50\n",
      "40/40 [==============================] - 2s 46ms/step - loss: 0.0023 - accuracy: 1.0000 - val_loss: 6.5316e-05 - val_accuracy: 1.0000\n",
      "Epoch 50/50\n",
      "40/40 [==============================] - 2s 45ms/step - loss: 0.0012 - accuracy: 1.0000 - val_loss: 4.5838e-04 - val_accuracy: 1.0000\n"
     ]
    }
   ],
   "source": [
    "#Training and Evaluating the model\n",
    "\n",
    "\n",
    "history = model.fit_generator( \n",
    "    training_set, \n",
    "    steps_per_epoch=nb_train_samples // batch_size, \n",
    "    epochs=epochs, \n",
    "    validation_data=test_set, \n",
    "    validation_steps=nb_validation_samples // batch_size) "
   ]
  },
  {
   "cell_type": "code",
   "execution_count": 12,
   "metadata": {},
   "outputs": [],
   "source": [
    "#Saving the model\n",
    "model.save('tshirtandshirtcnn_model.h5')"
   ]
  },
  {
   "cell_type": "code",
   "execution_count": 13,
   "metadata": {},
   "outputs": [],
   "source": [
    "#loading the model for testing\n",
    "from keras.models import load_model \n",
    "classifier = load_model('tshirtandshirtcnn_model.h5')"
   ]
  },
  {
   "cell_type": "code",
   "execution_count": 14,
   "metadata": {
    "scrolled": false
   },
   "outputs": [
    {
     "name": "stdout",
     "output_type": "stream",
     "text": [
      "shirt\n"
     ]
    }
   ],
   "source": [
    "from keras.preprocessing import image\n",
    "import numpy as np\n",
    "\n",
    "#Loading image from drive\n",
    "test_image =image.load_img('D:/DATASCIENCE/TshirtShirt/manual_test/6.jpg',target_size =(64,64))\n",
    "\n",
    "#Converting image to array\n",
    "test_image =image.img_to_array(test_image)\n",
    "test_image =np.expand_dims(test_image, axis =0)\n",
    "\n",
    "#Predicting image\n",
    "result = classifier.predict(test_image)\n",
    "if result[0][0] >= 0.5:\n",
    "    prediction = 'tshirt'\n",
    "else:\n",
    "    prediction = 'shirt'\n",
    "print(prediction)"
   ]
  },
  {
   "cell_type": "code",
   "execution_count": 15,
   "metadata": {},
   "outputs": [
    {
     "data": {
      "image/png": "[encoded data removed]",
      "text/plain": [
       "<Figure size 432x288 with 1 Axes>"
      ]
     },
     "metadata": {
      "needs_background": "light"
     },
     "output_type": "display_data"
    },
    {
     "data": {
      "image/png": "[encoded data removed]",
      "text/plain": [
       "<Figure size 432x288 with 1 Axes>"
      ]
     },
     "metadata": {
      "needs_background": "light"
     },
     "output_type": "display_data"
    }
   ],
   "source": [
    "\n",
    "import matplotlib.pyplot as plt\n",
    "%matplotlib inline\n",
    "\n",
    "history4 = history\n",
    "accuracy = history4.history['accuracy']\n",
    "val_accuracy = history4.history['val_accuracy']\n",
    "loss = history4.history['loss']\n",
    "val_loss = history4.history['val_loss']\n",
    "epochs = range(len(accuracy))\n",
    "\n",
    "plt.plot(epochs, accuracy, 'bo', label='Training accuracy')\n",
    "plt.plot(epochs, val_accuracy, 'b', label='Validation accuracy')\n",
    "plt.title('Training and validation accuracy')\n",
    "plt.legend()\n",
    "plt.figure()\n",
    "\n",
    "plt.plot(epochs, loss, 'bo', label='Training loss')\n",
    "plt.plot(epochs, val_loss, 'b', label='Validation loss')\n",
    "plt.title('Training and validation loss')\n",
    "plt.legend()\n",
    "plt.show()"
   ]
  },
  {
   "cell_type": "markdown",
   "metadata": {},
   "source": [
    "##### Conclusion"
   ]
  },
  {
   "cell_type": "markdown",
   "metadata": {},
   "source": [
    "\n",
    "In this assignment, I've tried to classify two category images. \n",
    "Then I downloaded images from flipkart for two different categories by using web scrapping script. Then saved all images in a directory with two labels as tshirt and shirt. Then imported required libraries of keras and created model with two convolutional layers, a dense layer and also added dropout to avoid overfitting/underfitting, then compiled the model with test and train data and got the accuracy score of 0.9. After testing multiple images manually I found that model is predicting 8 out of 10 images correctly."
   ]
  },
  {
   "cell_type": "code",
   "execution_count": null,
   "metadata": {},
   "outputs": [],
   "source": []
  }
 ],
 "metadata": {
  "kernelspec": {
   "display_name": "Python 3",
   "language": "python",
   "name": "python3"
  },
  "language_info": {
   "codemirror_mode": {
    "name": "ipython",
    "version": 3
   },
   "file_extension": ".py",
   "mimetype": "text/x-python",
   "name": "python",
   "nbconvert_exporter": "python",
   "pygments_lexer": "ipython3",
   "version": "3.7.4"
  }
 },
 "nbformat": 4,
 "nbformat_minor": 2
}
