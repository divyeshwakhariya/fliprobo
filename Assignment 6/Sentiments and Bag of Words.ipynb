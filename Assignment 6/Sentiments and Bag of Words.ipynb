{
 "cells": [
  {
   "cell_type": "markdown",
   "metadata": {},
   "source": [
    "#### Problem Statement 1"
   ]
  },
  {
   "cell_type": "markdown",
   "metadata": {},
   "source": [
    "Objective: Pick your own document (say A) and create BOW using a count vectorizer. Use another document (say B) and identify how many words of the B document are present in the BOW of A."
   ]
  },
  {
   "cell_type": "code",
   "execution_count": 13,
   "metadata": {},
   "outputs": [],
   "source": [
    "import pandas as pd\n",
    "from sklearn.feature_extraction.text import CountVectorizer\n",
    "from nltk.corpus import stopwords\n",
    "\n",
    "doc_1=[\"In supervised learning, we use known or labeled data for the training data. Since the data is known, the learning is, therefore, supervised, i.e., directed into successful execution. The input data goes through the Machine Learning algorithm and is used to train the model. Once the model is trained based on the known data, you can use unknown data into the model and get a new response.\"]\n",
    "doc_2=[\"In unsupervised learning, the training data is unknown and unlabeled - meaning that no one has looked at the data before. Without the aspect of known data, the input cannot be guided to the algorithm, which is where the unsupervised term originates from. This data is fed to the Machine Learning algorithm and is used to train the model. The trained model tries to search for a pattern and give the desired response. In this case, it is often like the algorithm is trying to break code like the Enigma machine but without the human mind directly involved but rather a machine.\"]\n",
    "\n"
   ]
  },
  {
   "cell_type": "code",
   "execution_count": 32,
   "metadata": {},
   "outputs": [
    {
     "name": "stdout",
     "output_type": "stream",
     "text": [
      "Bag of Words of DOC 1 : ['algorithm', 'based', 'data', 'directed', 'execution', 'get', 'goes', 'input', 'known', 'labeled', 'learning', 'machine', 'model', 'new', 'response', 'since', 'successful', 'supervised', 'therefore', 'train', 'trained', 'training', 'unknown', 'use', 'used']\n"
     ]
    }
   ],
   "source": [
    "#defining stopwords\n",
    "stop_words = stopwords.words('english')\n",
    "\n",
    "#Using countvectorizer to convert sentence into tokens\n",
    "c_vect = CountVectorizer(stop_words=stop_words)\n",
    "\n",
    "c_vect.fit_transform(doc_1)\n",
    "print(\"Bag of Words of DOC 1 :\",c_vect.get_feature_names())"
   ]
  },
  {
   "cell_type": "code",
   "execution_count": 33,
   "metadata": {},
   "outputs": [
    {
     "name": "stdout",
     "output_type": "stream",
     "text": [
      "Bag of Words of DOC 2 : ['algorithm', 'aspect', 'break', 'cannot', 'case', 'code', 'data', 'desired', 'directly', 'enigma', 'fed', 'give', 'guided', 'human', 'input', 'involved', 'known', 'learning', 'like', 'looked', 'machine', 'meaning', 'mind', 'model', 'often', 'one', 'originates', 'pattern', 'rather', 'response', 'search', 'term', 'train', 'trained', 'training', 'tries', 'trying', 'unknown', 'unlabeled', 'unsupervised', 'used', 'without']\n"
     ]
    }
   ],
   "source": [
    "c_vect.fit_transform(doc_2)\n",
    "print(\"Bag of Words of DOC 2 :\",c_vect.get_feature_names())"
   ]
  },
  {
   "cell_type": "code",
   "execution_count": 37,
   "metadata": {},
   "outputs": [],
   "source": [
    "c_vect_2 = c_vect.transform(doc_2)"
   ]
  },
  {
   "cell_type": "code",
   "execution_count": 42,
   "metadata": {},
   "outputs": [],
   "source": [
    "df = pd.DataFrame(c_vect_2.toarray(),columns=c_vect.get_feature_names())"
   ]
  },
  {
   "cell_type": "code",
   "execution_count": 46,
   "metadata": {
    "scrolled": true
   },
   "outputs": [
    {
     "data": {
      "text/plain": [
       "Index(['algorithm', 'based', 'data', 'directed', 'execution', 'get', 'goes',\n",
       "       'input', 'known', 'labeled', 'learning', 'machine', 'model', 'new',\n",
       "       'response', 'since', 'successful', 'supervised', 'therefore', 'train',\n",
       "       'trained', 'training', 'unknown', 'use', 'used'],\n",
       "      dtype='object')"
      ]
     },
     "execution_count": 46,
     "metadata": {},
     "output_type": "execute_result"
    }
   ],
   "source": [
    "df.columns"
   ]
  },
  {
   "cell_type": "code",
   "execution_count": 48,
   "metadata": {},
   "outputs": [
    {
     "data": {
      "text/html": [
       "<div>\n",
       "<style scoped>\n",
       "    .dataframe tbody tr th:only-of-type {\n",
       "        vertical-align: middle;\n",
       "    }\n",
       "\n",
       "    .dataframe tbody tr th {\n",
       "        vertical-align: top;\n",
       "    }\n",
       "\n",
       "    .dataframe thead th {\n",
       "        text-align: right;\n",
       "    }\n",
       "</style>\n",
       "<table border=\"1\" class=\"dataframe\">\n",
       "  <thead>\n",
       "    <tr style=\"text-align: right;\">\n",
       "      <th></th>\n",
       "      <th>algorithm</th>\n",
       "      <th>based</th>\n",
       "      <th>data</th>\n",
       "      <th>directed</th>\n",
       "      <th>execution</th>\n",
       "      <th>get</th>\n",
       "      <th>goes</th>\n",
       "      <th>input</th>\n",
       "      <th>known</th>\n",
       "      <th>labeled</th>\n",
       "      <th>learning</th>\n",
       "      <th>machine</th>\n",
       "      <th>model</th>\n",
       "      <th>new</th>\n",
       "      <th>response</th>\n",
       "      <th>since</th>\n",
       "      <th>successful</th>\n",
       "      <th>supervised</th>\n",
       "      <th>therefore</th>\n",
       "      <th>train</th>\n",
       "      <th>trained</th>\n",
       "      <th>training</th>\n",
       "      <th>unknown</th>\n",
       "      <th>use</th>\n",
       "      <th>used</th>\n",
       "    </tr>\n",
       "  </thead>\n",
       "  <tbody>\n",
       "    <tr>\n",
       "      <td>0</td>\n",
       "      <td>3</td>\n",
       "      <td>0</td>\n",
       "      <td>4</td>\n",
       "      <td>0</td>\n",
       "      <td>0</td>\n",
       "      <td>0</td>\n",
       "      <td>0</td>\n",
       "      <td>1</td>\n",
       "      <td>1</td>\n",
       "      <td>0</td>\n",
       "      <td>2</td>\n",
       "      <td>3</td>\n",
       "      <td>2</td>\n",
       "      <td>0</td>\n",
       "      <td>1</td>\n",
       "      <td>0</td>\n",
       "      <td>0</td>\n",
       "      <td>0</td>\n",
       "      <td>0</td>\n",
       "      <td>1</td>\n",
       "      <td>1</td>\n",
       "      <td>1</td>\n",
       "      <td>1</td>\n",
       "      <td>0</td>\n",
       "      <td>1</td>\n",
       "    </tr>\n",
       "  </tbody>\n",
       "</table>\n",
       "</div>"
      ],
      "text/plain": [
       "   algorithm  based  data  directed  execution  get  goes  input  known  \\\n",
       "0          3      0     4         0          0    0     0      1      1   \n",
       "\n",
       "   labeled  learning  machine  model  new  response  since  successful  \\\n",
       "0        0         2        3      2    0         1      0           0   \n",
       "\n",
       "   supervised  therefore  train  trained  training  unknown  use  used  \n",
       "0           0          0      1        1         1        1    0     1  "
      ]
     },
     "execution_count": 48,
     "metadata": {},
     "output_type": "execute_result"
    }
   ],
   "source": [
    "pd.set_option('display.max_columns', None)\n",
    "df"
   ]
  },
  {
   "cell_type": "markdown",
   "metadata": {},
   "source": [
    "From the above table we can see the BOW 2 Present in BOW 1"
   ]
  },
  {
   "cell_type": "markdown",
   "metadata": {},
   "source": [
    "#### Problem Statement 2"
   ]
  },
  {
   "cell_type": "markdown",
   "metadata": {},
   "source": [
    "Objective: Pick your choice of document and update the emotion document accordingly (you document words and associated emotion where applicable) and analyse the sentiments of people."
   ]
  },
  {
   "cell_type": "code",
   "execution_count": 74,
   "metadata": {},
   "outputs": [],
   "source": [
    "import string\n",
    "from collections import Counter\n",
    "import matplotlib.pyplot as plt\n",
    "from nltk.corpus import stopwords\n",
    "from nltk.stem import WordNetLemmatizer\n",
    "from nltk.tokenize import word_tokenize\n",
    "from nltk.sentiment.vader import SentimentIntensityAnalyzer"
   ]
  },
  {
   "cell_type": "code",
   "execution_count": 54,
   "metadata": {},
   "outputs": [],
   "source": [
    "#Reading our text document file\n",
    "\n",
    "file = open('story.txt').read()\n"
   ]
  },
  {
   "cell_type": "code",
   "execution_count": 56,
   "metadata": {},
   "outputs": [
    {
     "data": {
      "text/plain": [
       "'knowing that mrs. mallard was afflicted with a heart trouble, great care was taken to break to her as gently as possible the news of her husband\\'s death.\\n\\n     it was her sister josephine who told her, in broken sentences; veiled hints that revealed in half concealing. her husband\\'s friend richards was there, too, near her. it was he who had been in the newspaper office when intelligence of the railroad disaster was received, with brently mallard\\'s name leading the list of \"killed.\" he had only taken the time to assure himself of its truth by a second telegram, and had hastened to forestall any less careful, less tender friend in bearing the sad message.\\n\\n     she did not hear the story as many women have heard the same, with a paralyzed inability to accept its significance. she wept at once, with sudden, wild abandonment, in her sister\\'s arms. when the storm of grief had spent itself she went away to her room alone. she would have no one follow her.\\n\\n     there stood, facing the open window, a comfortable, roomy armchair. into this she sank, pressed down by a physical exhaustion that haunted her body and seemed to reach into her soul.\\n\\n     she could see in the open square before her house the tops of trees that were all aquiver with the new spring life. the delicious breath of rain was in the air. in the street below a peddler was crying his wares. the notes of a distant song which some one was singing reached her faintly, and countless sparrows were twittering in the eaves.\\n\\n     there were patches of blue sky showing here and there through the clouds that had met and piled one above the other in the west facing her window.\\n\\n     she sat with her head thrown back upon the cushion of the chair, quite motionless, except when a sob came up into her throat and shook her, as a child who has cried itself to sleep continues to sob in its dreams.\\n\\n<  2  >\\n     she was young, with a fair, calm face, whose lines bespoke repression and even a certain strength. but now there was a dull stare in her eyes, whose gaze was fixed away off yonder on one of those patches of blue sky. it was not a glance of reflection, but rather indicated a suspension of intelligent thought.\\n\\n     there was something coming to her and she was waiting for it, fearfully. what was it? she did not know; it was too subtle and elusive to name. but she felt it, creeping out of the sky, reaching toward her through the sounds, the scents, the color that filled the air.\\n\\n     now her bosom rose and fell tumultuously. she was beginning to recognize this thing that was approaching to possess her, and she was striving to beat it back with her will - as powerless as her two white slender hands would have been.\\n\\n     when she abandoned herself a little whispered word escaped her slightly parted lips. she said it over and over under her breath: \"free, free, free!\" the vacant stare and the look of terror that had followed it went from her eyes. they stayed keen and bright. her pulses beat fast, and the coursing blood warmed and relaxed every inch of her body.\\n\\n     she did not stop to ask if it were or were not a monstrous joy that held her. a clear and exalted perception enabled her to dismiss the suggestion as trivial.\\n\\n     she knew that she would weep again when she saw the kind, tender hands folded in death; the face that had never looked save with love upon her, fixed and gray and dead. but she saw beyond that bitter moment a long procession of years to come that would belong to her absolutely. and she opened and spread her arms out to them in welcome.\\n\\n     there would be no one to live for during those coming years; she would live for herself. there would be no powerful will bending hers in that blind persistence with which men and women believe they have a right to impose a private will upon a fellow-creature. a kind intention or a cruel intention made the act seem no less a crime as she looked upon it in that brief moment of illumination.\\n\\n     and yet she had loved him - sometimes. often she had not. what did it matter! what could love, the unsolved mystery, count for in face of this possession of self-assertion which she suddenly recognized as the strongest impulse of her being!\\n\\n     \"free! body and soul free!\" she kept whispering.\\n\\n     josephine was kneeling before the closed door with her lips to the keyhole, imploring for admission. \"louise, open the door! i beg, open the door - you will make yourself ill. what are you doing louise? for heaven\\'s sake open the door.\"\\n\\n     \"go away. i am not making myself ill.\" no; she was drinking in a very elixir of life through that open window.\\n\\n     her fancy was running riot along those days ahead of her. spring days, and summer days, and all sorts of days that would be her own. she breathed a quick prayer that life might be long. it was only yesterday she had thought with a shudder that life might be long.\\n\\n     she arose at length and opened the door to her sister\\'s importunities. there was a feverish triumph in her eyes, and she carried herself unwittingly like a goddess of victory. she clasped her sister\\'s waist, and together they descended the stairs. richards stood waiting for them at the bottom.\\n\\n     some one was opening the front door with a latchkey. it was brently mallard who entered, a little travel-stained, composedly carrying his grip-sack and umbrella. he had been far from the scene of accident, and did not even know there had been one. he stood amazed at josephine\\'s piercing cry; at richards\\' quick motion to screen him from the view of his wife.\\n\\n     but richards was too late.\\n\\n     when the doctors came they said she had died of heart disease - of joy that kills.'"
      ]
     },
     "execution_count": 56,
     "metadata": {},
     "output_type": "execute_result"
    }
   ],
   "source": [
    "#Lets convert all text into lower case letter \n",
    "file_lower = file.lower()\n",
    "file_lower"
   ]
  },
  {
   "cell_type": "code",
   "execution_count": 57,
   "metadata": {},
   "outputs": [
    {
     "data": {
      "text/plain": [
       "'knowing that mrs mallard was afflicted with a heart trouble great care was taken to break to her as gently as possible the news of her husbands death\\n\\n     it was her sister josephine who told her in broken sentences veiled hints that revealed in half concealing her husbands friend richards was there too near her it was he who had been in the newspaper office when intelligence of the railroad disaster was received with brently mallards name leading the list of killed he had only taken the time to assure himself of its truth by a second telegram and had hastened to forestall any less careful less tender friend in bearing the sad message\\n\\n     she did not hear the story as many women have heard the same with a paralyzed inability to accept its significance she wept at once with sudden wild abandonment in her sisters arms when the storm of grief had spent itself she went away to her room alone she would have no one follow her\\n\\n     there stood facing the open window a comfortable roomy armchair into this she sank pressed down by a physical exhaustion that haunted her body and seemed to reach into her soul\\n\\n     she could see in the open square before her house the tops of trees that were all aquiver with the new spring life the delicious breath of rain was in the air in the street below a peddler was crying his wares the notes of a distant song which some one was singing reached her faintly and countless sparrows were twittering in the eaves\\n\\n     there were patches of blue sky showing here and there through the clouds that had met and piled one above the other in the west facing her window\\n\\n     she sat with her head thrown back upon the cushion of the chair quite motionless except when a sob came up into her throat and shook her as a child who has cried itself to sleep continues to sob in its dreams\\n\\n  2  \\n     she was young with a fair calm face whose lines bespoke repression and even a certain strength but now there was a dull stare in her eyes whose gaze was fixed away off yonder on one of those patches of blue sky it was not a glance of reflection but rather indicated a suspension of intelligent thought\\n\\n     there was something coming to her and she was waiting for it fearfully what was it she did not know it was too subtle and elusive to name but she felt it creeping out of the sky reaching toward her through the sounds the scents the color that filled the air\\n\\n     now her bosom rose and fell tumultuously she was beginning to recognize this thing that was approaching to possess her and she was striving to beat it back with her will  as powerless as her two white slender hands would have been\\n\\n     when she abandoned herself a little whispered word escaped her slightly parted lips she said it over and over under her breath free free free the vacant stare and the look of terror that had followed it went from her eyes they stayed keen and bright her pulses beat fast and the coursing blood warmed and relaxed every inch of her body\\n\\n     she did not stop to ask if it were or were not a monstrous joy that held her a clear and exalted perception enabled her to dismiss the suggestion as trivial\\n\\n     she knew that she would weep again when she saw the kind tender hands folded in death the face that had never looked save with love upon her fixed and gray and dead but she saw beyond that bitter moment a long procession of years to come that would belong to her absolutely and she opened and spread her arms out to them in welcome\\n\\n     there would be no one to live for during those coming years she would live for herself there would be no powerful will bending hers in that blind persistence with which men and women believe they have a right to impose a private will upon a fellowcreature a kind intention or a cruel intention made the act seem no less a crime as she looked upon it in that brief moment of illumination\\n\\n     and yet she had loved him  sometimes often she had not what did it matter what could love the unsolved mystery count for in face of this possession of selfassertion which she suddenly recognized as the strongest impulse of her being\\n\\n     free body and soul free she kept whispering\\n\\n     josephine was kneeling before the closed door with her lips to the keyhole imploring for admission louise open the door i beg open the door  you will make yourself ill what are you doing louise for heavens sake open the door\\n\\n     go away i am not making myself ill no she was drinking in a very elixir of life through that open window\\n\\n     her fancy was running riot along those days ahead of her spring days and summer days and all sorts of days that would be her own she breathed a quick prayer that life might be long it was only yesterday she had thought with a shudder that life might be long\\n\\n     she arose at length and opened the door to her sisters importunities there was a feverish triumph in her eyes and she carried herself unwittingly like a goddess of victory she clasped her sisters waist and together they descended the stairs richards stood waiting for them at the bottom\\n\\n     some one was opening the front door with a latchkey it was brently mallard who entered a little travelstained composedly carrying his gripsack and umbrella he had been far from the scene of accident and did not even know there had been one he stood amazed at josephines piercing cry at richards quick motion to screen him from the view of his wife\\n\\n     but richards was too late\\n\\n     when the doctors came they said she had died of heart disease  of joy that kills'"
      ]
     },
     "execution_count": 57,
     "metadata": {},
     "output_type": "execute_result"
    }
   ],
   "source": [
    "#Now we will remove all punctuation from sting\n",
    "\n",
    "file_cleaned = file_lower.translate(str.maketrans('','',string.punctuation))\n",
    "file_cleaned"
   ]
  },
  {
   "cell_type": "markdown",
   "metadata": {},
   "source": [
    "Still we can see \\n in our text, let's replace all \\n with space ''"
   ]
  },
  {
   "cell_type": "code",
   "execution_count": 58,
   "metadata": {},
   "outputs": [],
   "source": [
    "clean_text = file_cleaned.replace('\\n', '')"
   ]
  },
  {
   "cell_type": "code",
   "execution_count": 59,
   "metadata": {},
   "outputs": [
    {
     "data": {
      "text/plain": [
       "'knowing that mrs mallard was afflicted with a heart trouble great care was taken to break to her as gently as possible the news of her husbands death     it was her sister josephine who told her in broken sentences veiled hints that revealed in half concealing her husbands friend richards was there too near her it was he who had been in the newspaper office when intelligence of the railroad disaster was received with brently mallards name leading the list of killed he had only taken the time to assure himself of its truth by a second telegram and had hastened to forestall any less careful less tender friend in bearing the sad message     she did not hear the story as many women have heard the same with a paralyzed inability to accept its significance she wept at once with sudden wild abandonment in her sisters arms when the storm of grief had spent itself she went away to her room alone she would have no one follow her     there stood facing the open window a comfortable roomy armchair into this she sank pressed down by a physical exhaustion that haunted her body and seemed to reach into her soul     she could see in the open square before her house the tops of trees that were all aquiver with the new spring life the delicious breath of rain was in the air in the street below a peddler was crying his wares the notes of a distant song which some one was singing reached her faintly and countless sparrows were twittering in the eaves     there were patches of blue sky showing here and there through the clouds that had met and piled one above the other in the west facing her window     she sat with her head thrown back upon the cushion of the chair quite motionless except when a sob came up into her throat and shook her as a child who has cried itself to sleep continues to sob in its dreams  2       she was young with a fair calm face whose lines bespoke repression and even a certain strength but now there was a dull stare in her eyes whose gaze was fixed away off yonder on one of those patches of blue sky it was not a glance of reflection but rather indicated a suspension of intelligent thought     there was something coming to her and she was waiting for it fearfully what was it she did not know it was too subtle and elusive to name but she felt it creeping out of the sky reaching toward her through the sounds the scents the color that filled the air     now her bosom rose and fell tumultuously she was beginning to recognize this thing that was approaching to possess her and she was striving to beat it back with her will  as powerless as her two white slender hands would have been     when she abandoned herself a little whispered word escaped her slightly parted lips she said it over and over under her breath free free free the vacant stare and the look of terror that had followed it went from her eyes they stayed keen and bright her pulses beat fast and the coursing blood warmed and relaxed every inch of her body     she did not stop to ask if it were or were not a monstrous joy that held her a clear and exalted perception enabled her to dismiss the suggestion as trivial     she knew that she would weep again when she saw the kind tender hands folded in death the face that had never looked save with love upon her fixed and gray and dead but she saw beyond that bitter moment a long procession of years to come that would belong to her absolutely and she opened and spread her arms out to them in welcome     there would be no one to live for during those coming years she would live for herself there would be no powerful will bending hers in that blind persistence with which men and women believe they have a right to impose a private will upon a fellowcreature a kind intention or a cruel intention made the act seem no less a crime as she looked upon it in that brief moment of illumination     and yet she had loved him  sometimes often she had not what did it matter what could love the unsolved mystery count for in face of this possession of selfassertion which she suddenly recognized as the strongest impulse of her being     free body and soul free she kept whispering     josephine was kneeling before the closed door with her lips to the keyhole imploring for admission louise open the door i beg open the door  you will make yourself ill what are you doing louise for heavens sake open the door     go away i am not making myself ill no she was drinking in a very elixir of life through that open window     her fancy was running riot along those days ahead of her spring days and summer days and all sorts of days that would be her own she breathed a quick prayer that life might be long it was only yesterday she had thought with a shudder that life might be long     she arose at length and opened the door to her sisters importunities there was a feverish triumph in her eyes and she carried herself unwittingly like a goddess of victory she clasped her sisters waist and together they descended the stairs richards stood waiting for them at the bottom     some one was opening the front door with a latchkey it was brently mallard who entered a little travelstained composedly carrying his gripsack and umbrella he had been far from the scene of accident and did not even know there had been one he stood amazed at josephines piercing cry at richards quick motion to screen him from the view of his wife     but richards was too late     when the doctors came they said she had died of heart disease  of joy that kills'"
      ]
     },
     "execution_count": 59,
     "metadata": {},
     "output_type": "execute_result"
    }
   ],
   "source": [
    "clean_text"
   ]
  },
  {
   "cell_type": "markdown",
   "metadata": {},
   "source": [
    "We can see in our text there is more space between two words, we will remove it too"
   ]
  },
  {
   "cell_type": "code",
   "execution_count": 60,
   "metadata": {},
   "outputs": [],
   "source": [
    "clean_text = clean_text.replace('     ', ' ')"
   ]
  },
  {
   "cell_type": "code",
   "execution_count": 62,
   "metadata": {},
   "outputs": [
    {
     "data": {
      "text/plain": [
       "'knowing that mrs mallard was afflicted with a heart trouble great care was taken to break to her as gently as possible the news of her husbands death it was her sister josephine who told her in broken sentences veiled hints that revealed in half concealing her husbands friend richards was there too near her it was he who had been in the newspaper office when intelligence of the railroad disaster was received with brently mallards name leading the list of killed he had only taken the time to assure himself of its truth by a second telegram and had hastened to forestall any less careful less tender friend in bearing the sad message she did not hear the story as many women have heard the same with a paralyzed inability to accept its significance she wept at once with sudden wild abandonment in her sisters arms when the storm of grief had spent itself she went away to her room alone she would have no one follow her there stood facing the open window a comfortable roomy armchair into this she sank pressed down by a physical exhaustion that haunted her body and seemed to reach into her soul she could see in the open square before her house the tops of trees that were all aquiver with the new spring life the delicious breath of rain was in the air in the street below a peddler was crying his wares the notes of a distant song which some one was singing reached her faintly and countless sparrows were twittering in the eaves there were patches of blue sky showing here and there through the clouds that had met and piled one above the other in the west facing her window she sat with her head thrown back upon the cushion of the chair quite motionless except when a sob came up into her throat and shook her as a child who has cried itself to sleep continues to sob in its dreams  2   she was young with a fair calm face whose lines bespoke repression and even a certain strength but now there was a dull stare in her eyes whose gaze was fixed away off yonder on one of those patches of blue sky it was not a glance of reflection but rather indicated a suspension of intelligent thought there was something coming to her and she was waiting for it fearfully what was it she did not know it was too subtle and elusive to name but she felt it creeping out of the sky reaching toward her through the sounds the scents the color that filled the air now her bosom rose and fell tumultuously she was beginning to recognize this thing that was approaching to possess her and she was striving to beat it back with her will  as powerless as her two white slender hands would have been when she abandoned herself a little whispered word escaped her slightly parted lips she said it over and over under her breath free free free the vacant stare and the look of terror that had followed it went from her eyes they stayed keen and bright her pulses beat fast and the coursing blood warmed and relaxed every inch of her body she did not stop to ask if it were or were not a monstrous joy that held her a clear and exalted perception enabled her to dismiss the suggestion as trivial she knew that she would weep again when she saw the kind tender hands folded in death the face that had never looked save with love upon her fixed and gray and dead but she saw beyond that bitter moment a long procession of years to come that would belong to her absolutely and she opened and spread her arms out to them in welcome there would be no one to live for during those coming years she would live for herself there would be no powerful will bending hers in that blind persistence with which men and women believe they have a right to impose a private will upon a fellowcreature a kind intention or a cruel intention made the act seem no less a crime as she looked upon it in that brief moment of illumination and yet she had loved him  sometimes often she had not what did it matter what could love the unsolved mystery count for in face of this possession of selfassertion which she suddenly recognized as the strongest impulse of her being free body and soul free she kept whispering josephine was kneeling before the closed door with her lips to the keyhole imploring for admission louise open the door i beg open the door  you will make yourself ill what are you doing louise for heavens sake open the door go away i am not making myself ill no she was drinking in a very elixir of life through that open window her fancy was running riot along those days ahead of her spring days and summer days and all sorts of days that would be her own she breathed a quick prayer that life might be long it was only yesterday she had thought with a shudder that life might be long she arose at length and opened the door to her sisters importunities there was a feverish triumph in her eyes and she carried herself unwittingly like a goddess of victory she clasped her sisters waist and together they descended the stairs richards stood waiting for them at the bottom some one was opening the front door with a latchkey it was brently mallard who entered a little travelstained composedly carrying his gripsack and umbrella he had been far from the scene of accident and did not even know there had been one he stood amazed at josephines piercing cry at richards quick motion to screen him from the view of his wife but richards was too late when the doctors came they said she had died of heart disease  of joy that kills'"
      ]
     },
     "execution_count": 62,
     "metadata": {},
     "output_type": "execute_result"
    }
   ],
   "source": [
    "clean_text"
   ]
  },
  {
   "cell_type": "markdown",
   "metadata": {},
   "source": [
    "As we have clear our text by replacing punctuations and blank spaces, now, we will remove stopwords from our text data"
   ]
  },
  {
   "cell_type": "code",
   "execution_count": 63,
   "metadata": {},
   "outputs": [],
   "source": [
    "#Lets convert text into tokens \n",
    "\n",
    "tokenized_words = word_tokenize(clean_text, \"english\")"
   ]
  },
  {
   "cell_type": "code",
   "execution_count": 65,
   "metadata": {
    "scrolled": true
   },
   "outputs": [
    {
     "data": {
      "text/plain": [
       "1012"
      ]
     },
     "execution_count": 65,
     "metadata": {},
     "output_type": "execute_result"
    }
   ],
   "source": [
    "len(tokenized_words)"
   ]
  },
  {
   "cell_type": "code",
   "execution_count": 66,
   "metadata": {},
   "outputs": [],
   "source": [
    "#Removing stopwords\n",
    "\n",
    "cleaned_list = []\n",
    "\n",
    "for word in tokenized_words:\n",
    "    if word not in stopwords.words('english'):\n",
    "        cleaned_list.append(word)"
   ]
  },
  {
   "cell_type": "markdown",
   "metadata": {},
   "source": [
    "Now we will use Lemmatization to convert it into base form"
   ]
  },
  {
   "cell_type": "code",
   "execution_count": 68,
   "metadata": {},
   "outputs": [],
   "source": [
    "base_words = []\n",
    "\n",
    "wnl = WordNetLemmatizer()\n",
    "\n",
    "for word in cleaned_list:\n",
    "    word = wnl.lemmatize(word)\n",
    "    base_words.append(word)"
   ]
  },
  {
   "cell_type": "code",
   "execution_count": 70,
   "metadata": {},
   "outputs": [],
   "source": [
    "#Now we will see the sentiments on story\n",
    "emotion_list = []\n",
    "with open('emotions.txt', 'r') as file:\n",
    "    for line in file:\n",
    "        clear_line = line.replace(\"\\n\", '').replace(\",\", '').replace(\"'\", '').strip()\n",
    "        word, emotion = clear_line.split(':')\n",
    "\n",
    "        if word in base_words:\n",
    "            emotion_list.append(emotion)\n",
    "            \n",
    "w = Counter(emotion_list)"
   ]
  },
  {
   "cell_type": "code",
   "execution_count": 72,
   "metadata": {},
   "outputs": [
    {
     "data": {
      "image/png": "[encoded data removed]",
      "text/plain": [
       "<Figure size 432x288 with 1 Axes>"
      ]
     },
     "metadata": {
      "needs_background": "light"
     },
     "output_type": "display_data"
    }
   ],
   "source": [
    "fig, ax1 = plt.subplots()\n",
    "ax1.bar(w.keys(), w.values())\n",
    "fig.autofmt_xdate()\n",
    "plt.savefig('graph.png')\n",
    "plt.show()"
   ]
  },
  {
   "cell_type": "markdown",
   "metadata": {},
   "source": [
    "Looks like the story we imported has mix emotions i.e. story is sad as well as happy emotions."
   ]
  },
  {
   "cell_type": "markdown",
   "metadata": {},
   "source": [
    "Here we have imported story as a document to check the sentiments on it."
   ]
  }
 ],
 "metadata": {
  "kernelspec": {
   "display_name": "Python 3",
   "language": "python",
   "name": "python3"
  },
  "language_info": {
   "codemirror_mode": {
    "name": "ipython",
    "version": 3
   },
   "file_extension": ".py",
   "mimetype": "text/x-python",
   "name": "python",
   "nbconvert_exporter": "python",
   "pygments_lexer": "ipython3",
   "version": "3.7.4"
  }
 },
 "nbformat": 4,
 "nbformat_minor": 2
}
