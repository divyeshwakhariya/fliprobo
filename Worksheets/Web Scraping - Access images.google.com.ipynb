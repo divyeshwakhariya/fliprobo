{
 "cells": [
  {
   "cell_type": "markdown",
   "metadata": {},
   "source": [
    "### Problem Statement: \n",
    "\n",
    "#### Write a python program to access the search bar and search button on images.google.com"
   ]
  },
  {
   "cell_type": "code",
   "execution_count": 1,
   "metadata": {},
   "outputs": [],
   "source": [
    "import requests\n",
    "from requests import get\n",
    "from selenium import webdriver\n",
    "from bs4 import BeautifulSoup"
   ]
  },
  {
   "cell_type": "code",
   "execution_count": 2,
   "metadata": {},
   "outputs": [],
   "source": [
    "#Defining google image URl\n",
    "url = \"https://images.google.com/\"\n",
    "\n",
    "#Defining chrom driver path \n",
    "driverpath = 'C:/Python/Python37/chrome/chromedriver.exe'"
   ]
  },
  {
   "cell_type": "code",
   "execution_count": 3,
   "metadata": {},
   "outputs": [],
   "source": [
    "#Initializing webdriver with driver variable\n",
    "driver = webdriver.Chrome(driverpath)\n",
    "driver.get(url)   #getting url\n",
    "content = driver.page_source #fetching content of web page\n",
    "soup = BeautifulSoup(content, \"html.parser\") #parsing web page data using html parser\n",
    "\n",
    "#accessing the search box\n",
    "searchbox = driver.find_elements_by_xpath(\"//input[@class='gLFyf gsfi']\")[0]\n",
    "\n",
    "#adding value to input \n",
    "searchbox.send_keys(\"MS Dhoni\")\n",
    "\n",
    "#accessing search button\n",
    "searchbutton = driver.find_elements_by_xpath(\"//button[@class='Tg7LZd']\")[0]\n",
    "\n",
    "#clicking search button\n",
    "searchbutton.click()\n",
    "\n"
   ]
  },
  {
   "cell_type": "markdown",
   "metadata": {},
   "source": [
    "### Conclusion"
   ]
  },
  {
   "cell_type": "markdown",
   "metadata": {},
   "source": [
    "In this script, I've have access search bar and search button. For curiosity, I've tried to put text in search bar and clicked on search button to perform image search on the key \"MS Dhoni\". Script is working fine as I expected.  "
   ]
  }
 ],
 "metadata": {
  "kernelspec": {
   "display_name": "Python 3",
   "language": "python",
   "name": "python3"
  },
  "language_info": {
   "codemirror_mode": {
    "name": "ipython",
    "version": 3
   },
   "file_extension": ".py",
   "mimetype": "text/x-python",
   "name": "python",
   "nbconvert_exporter": "python",
   "pygments_lexer": "ipython3",
   "version": "3.7.4"
  }
 },
 "nbformat": 4,
 "nbformat_minor": 2
}
