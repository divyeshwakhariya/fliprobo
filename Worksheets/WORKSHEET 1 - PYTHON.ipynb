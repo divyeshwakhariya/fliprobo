{
 "cells": [
  {
   "cell_type": "markdown",
   "metadata": {},
   "source": [
    "#### 11. Write a python program to find the factorial of a number."
   ]
  },
  {
   "cell_type": "code",
   "execution_count": 32,
   "metadata": {},
   "outputs": [
    {
     "name": "stdout",
     "output_type": "stream",
     "text": [
      "Enter your value: 3\n",
      "Factorial of 3 is 6\n"
     ]
    }
   ],
   "source": [
    "val = input(\"Enter your value: \") \n",
    "val = int(val)\n",
    "\n",
    "\n",
    "if(val==0):\n",
    "    print('cannot find factorial of 0')\n",
    "elif(val<0):\n",
    "    print(\"cannot find factorial of negative value\")\n",
    "else:\n",
    "\n",
    "    fact = 1\n",
    "\n",
    "    for i in range(1, val+1):\n",
    "        fact = fact * i\n",
    "    \n",
    "    print('Factorial of {} is {}'.format(val,fact))\n"
   ]
  },
  {
   "cell_type": "markdown",
   "metadata": {},
   "source": [
    "#### 12. Write a python program to find whether a number is prime or composite."
   ]
  },
  {
   "cell_type": "code",
   "execution_count": 43,
   "metadata": {},
   "outputs": [
    {
     "name": "stdout",
     "output_type": "stream",
     "text": [
      "Enter your value: 11\n",
      "11  is a prime number\n"
     ]
    }
   ],
   "source": [
    "val = input(\"Enter your value: \") \n",
    "val = int(val)\n",
    "\n",
    "if(val>1):\n",
    "    for i in range(2, val):\n",
    "        if(val%i==0):\n",
    "            print(val, 'is not a prime number')\n",
    "            print('{} *  {} is {}'.format(i,int(val/i),val))\n",
    "            break\n",
    "    else:\n",
    "        print(val,' is a prime number')\n",
    "else:\n",
    "    print(val,' is not a prime number')"
   ]
  },
  {
   "cell_type": "markdown",
   "metadata": {},
   "source": [
    "#### 13. Write a python program to check whether a given string is palindrome or not."
   ]
  },
  {
   "cell_type": "code",
   "execution_count": 47,
   "metadata": {},
   "outputs": [
    {
     "name": "stdout",
     "output_type": "stream",
     "text": [
      "Enter your string: sfsdfsdf\n",
      "sfsdfsdf is not a palindrome string\n"
     ]
    }
   ],
   "source": [
    "string = input(\"Enter your string: \") \n",
    "string2 = ''\n",
    "\n",
    "for i in string:\n",
    "    string2 = i+ string2\n",
    "    \n",
    "if(string==string2):\n",
    "    print(string,' is a palindrome string')\n",
    "else:\n",
    "    print(string, 'is not a palindrome string')"
   ]
  },
  {
   "cell_type": "markdown",
   "metadata": {},
   "source": [
    "#### 14. Write a Python program to get the third side of right-angled triangle from two given sides."
   ]
  },
  {
   "cell_type": "code",
   "execution_count": 48,
   "metadata": {},
   "outputs": [
    {
     "name": "stdout",
     "output_type": "stream",
     "text": [
      "Input lengths of triangle sides:\n",
      "a: 2\n",
      "b: 5\n",
      "The length third side is 5.385164807134504\n"
     ]
    }
   ],
   "source": [
    "from math import sqrt\n",
    "print(\"Input lengths of triangle sides:\")\n",
    "a = float(input(\"a: \"))\n",
    "b = float(input(\"b: \"))\n",
    "\n",
    "c = sqrt(a**2 + b**2)\n",
    "print(\"The length third side is\", c )\n"
   ]
  },
  {
   "cell_type": "markdown",
   "metadata": {},
   "source": [
    "#### 15. Write a python program to print the frequency of each of the characters present in a given string"
   ]
  },
  {
   "cell_type": "code",
   "execution_count": 49,
   "metadata": {},
   "outputs": [],
   "source": [
    "def count_freq(string):\n",
    "    \n",
    "    ndict = {}\n",
    "    \n",
    "    for i in string:\n",
    "        keys = ndict.keys()\n",
    "        \n",
    "        if i in keys:\n",
    "            ndict[i] += 1\n",
    "        else:\n",
    "            ndict[i] = 1\n",
    "            \n",
    "    return ndict\n",
    "    "
   ]
  },
  {
   "cell_type": "code",
   "execution_count": 52,
   "metadata": {},
   "outputs": [
    {
     "name": "stdout",
     "output_type": "stream",
     "text": [
      "Enter your string: have a good day\n"
     ]
    },
    {
     "data": {
      "text/plain": [
       "{'h': 1, 'a': 3, 'v': 1, 'e': 1, ' ': 3, 'g': 1, 'o': 2, 'd': 2, 'y': 1}"
      ]
     },
     "execution_count": 52,
     "metadata": {},
     "output_type": "execute_result"
    }
   ],
   "source": [
    "string = input(\"Enter your string: \") \n",
    "count_freq(string)"
   ]
  }
 ],
 "metadata": {
  "kernelspec": {
   "display_name": "Python 3",
   "language": "python",
   "name": "python3"
  },
  "language_info": {
   "codemirror_mode": {
    "name": "ipython",
    "version": 3
   },
   "file_extension": ".py",
   "mimetype": "text/x-python",
   "name": "python",
   "nbconvert_exporter": "python",
   "pygments_lexer": "ipython3",
   "version": "3.7.4"
  }
 },
 "nbformat": 4,
 "nbformat_minor": 2
}
