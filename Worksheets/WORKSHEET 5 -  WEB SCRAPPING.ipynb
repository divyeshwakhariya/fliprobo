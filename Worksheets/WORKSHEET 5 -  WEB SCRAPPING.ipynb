{
 "cells": [
  {
   "cell_type": "markdown",
   "metadata": {},
   "source": [
    "#### 1. Write a python program to display all the header tags from ‘en.wikipedia.org/wiki/Main_Page’."
   ]
  },
  {
   "cell_type": "code",
   "execution_count": 1,
   "metadata": {},
   "outputs": [],
   "source": [
    "import requests\n",
    "from requests import get\n",
    "from bs4 import BeautifulSoup"
   ]
  },
  {
   "cell_type": "code",
   "execution_count": 6,
   "metadata": {},
   "outputs": [],
   "source": [
    "url = 'https://en.wikipedia.org/wiki/Main_Page'"
   ]
  },
  {
   "cell_type": "code",
   "execution_count": 8,
   "metadata": {},
   "outputs": [],
   "source": [
    "response = requests.get(url)\n",
    "soup = BeautifulSoup(response.content)\n"
   ]
  },
  {
   "cell_type": "code",
   "execution_count": 25,
   "metadata": {},
   "outputs": [
    {
     "name": "stdout",
     "output_type": "stream",
     "text": [
      "Below are the headers present in page\n",
      "Main Page\n",
      "From today's featured article\n",
      "Did you know ...\n",
      "In the news\n",
      "On this day\n",
      "Today's featured picture\n",
      "Other areas of Wikipedia\n",
      "Wikipedia's sister projects\n",
      "Wikipedia languages\n",
      "Navigation menu\n",
      "\n",
      "Personal tools\n",
      "\n",
      "\n",
      "Namespaces\n",
      "\n",
      "\n",
      "Variants\n",
      "\n",
      "\n",
      "Views\n",
      "\n",
      "\n",
      "More\n",
      "\n",
      "\n",
      "Search\n",
      "\n",
      "\n",
      "Navigation\n",
      "\n",
      "\n",
      "Contribute\n",
      "\n",
      "\n",
      "Tools\n",
      "\n",
      "\n",
      "Print/export\n",
      "\n",
      "\n",
      "In other projects\n",
      "\n",
      "\n",
      "Languages\n",
      "\n"
     ]
    }
   ],
   "source": [
    "print(\"Below are the headers present in page\")\n",
    "headers = soup.find_all(['h1','h2','h3','h4','h5','h6'])\n",
    "for head in headers:\n",
    "    print(head.text)"
   ]
  },
  {
   "cell_type": "markdown",
   "metadata": {},
   "source": [
    "#### 2. Write a python program to display IMDB’s Top rated 100 movies’ data(i.e. Name, IMDB rating, duration, director, star cast - 10 main characters)"
   ]
  },
  {
   "cell_type": "code",
   "execution_count": 40,
   "metadata": {},
   "outputs": [],
   "source": [
    "from selenium import webdriver"
   ]
  },
  {
   "cell_type": "code",
   "execution_count": 41,
   "metadata": {},
   "outputs": [],
   "source": [
    "url = \"https://www.imdb.com/search/title/?groups=top_1000&sort=user_rating,desc&count=100&view=advanced\"\n",
    "#Defining chrom driver path \n",
    "driverpath = 'C:/Python/Python37/chrome/chromedriver.exe'"
   ]
  },
  {
   "cell_type": "code",
   "execution_count": 42,
   "metadata": {},
   "outputs": [],
   "source": [
    "driver = webdriver.Chrome(driverpath)\n",
    "driver.get(url)   #getting url\n",
    "content = driver.page_source #fetching content of web page\n",
    "soup = BeautifulSoup(content, \"html.parser\") #parsing web page data using html parser"
   ]
  },
  {
   "cell_type": "code",
   "execution_count": 49,
   "metadata": {
    "scrolled": true
   },
   "outputs": [],
   "source": [
    "movies = soup.find_all('h3',class_=\"lister-item-header\")"
   ]
  },
  {
   "cell_type": "code",
   "execution_count": 76,
   "metadata": {},
   "outputs": [],
   "source": [
    "#getting movie titles\n",
    "titles = [movie.find('a').text for movie in movies]"
   ]
  },
  {
   "cell_type": "code",
   "execution_count": 77,
   "metadata": {},
   "outputs": [],
   "source": [
    "#getting imdb rating\n",
    "ratings = soup.find_all('div','inline-block ratings-imdb-rating')"
   ]
  },
  {
   "cell_type": "code",
   "execution_count": 78,
   "metadata": {},
   "outputs": [],
   "source": [
    "#getting movie titles\n",
    "imdb_rating = [rating.find('strong').text for rating in ratings]"
   ]
  },
  {
   "cell_type": "code",
   "execution_count": 118,
   "metadata": {},
   "outputs": [],
   "source": [
    "directors = soup.find_all('div','lister-item-content')\n",
    "\n",
    "#getting directors\n",
    "imdb_director = [director.find('p','').find('a').text for director in directors]"
   ]
  },
  {
   "cell_type": "code",
   "execution_count": 151,
   "metadata": {},
   "outputs": [],
   "source": [
    "actors = soup.find_all('div','lister-item-content')\n",
    "#getting directors\n",
    "actor = [actor.find('p','').find_all('a')[1:] for actor in actors]\n",
    "\n",
    "imdb_actors = []\n",
    "for act in actor:\n",
    "    stars = []\n",
    "    for ac in act:\n",
    "        actors = ac.text\n",
    "        stars.append(actors)\n",
    "    imdb_actors.append(stars)\n",
    "        \n"
   ]
  },
  {
   "cell_type": "code",
   "execution_count": 166,
   "metadata": {},
   "outputs": [],
   "source": [
    "time = soup.find_all('span','runtime')"
   ]
  },
  {
   "cell_type": "code",
   "execution_count": 170,
   "metadata": {},
   "outputs": [],
   "source": [
    "imdb_duration = [duration.text for duration in time]"
   ]
  },
  {
   "cell_type": "code",
   "execution_count": 171,
   "metadata": {},
   "outputs": [],
   "source": [
    "import pandas as pd"
   ]
  },
  {
   "cell_type": "code",
   "execution_count": 183,
   "metadata": {},
   "outputs": [],
   "source": [
    "data = {'Movie Name':titles,'Rating':imdb_rating,'Director':imdb_director,'Star Cast':imdb_actors,'Duration':imdb_duration}"
   ]
  },
  {
   "cell_type": "code",
   "execution_count": 184,
   "metadata": {},
   "outputs": [],
   "source": [
    "df = pd.DataFrame(data,)"
   ]
  },
  {
   "cell_type": "code",
   "execution_count": 187,
   "metadata": {},
   "outputs": [
    {
     "data": {
      "text/html": [
       "<div>\n",
       "<style scoped>\n",
       "    .dataframe tbody tr th:only-of-type {\n",
       "        vertical-align: middle;\n",
       "    }\n",
       "\n",
       "    .dataframe tbody tr th {\n",
       "        vertical-align: top;\n",
       "    }\n",
       "\n",
       "    .dataframe thead th {\n",
       "        text-align: right;\n",
       "    }\n",
       "</style>\n",
       "<table border=\"1\" class=\"dataframe\">\n",
       "  <thead>\n",
       "    <tr style=\"text-align: right;\">\n",
       "      <th></th>\n",
       "      <th>Movie Name</th>\n",
       "      <th>Rating</th>\n",
       "      <th>Director</th>\n",
       "      <th>Star Cast</th>\n",
       "      <th>Duration</th>\n",
       "    </tr>\n",
       "  </thead>\n",
       "  <tbody>\n",
       "    <tr>\n",
       "      <th>26</th>\n",
       "      <td>Se7en</td>\n",
       "      <td>8.6</td>\n",
       "      <td>David Fincher</td>\n",
       "      <td>[Morgan Freeman, Brad Pitt, Kevin Spacey, Andr...</td>\n",
       "      <td>127 min</td>\n",
       "    </tr>\n",
       "    <tr>\n",
       "      <th>3</th>\n",
       "      <td>The Godfather: Part II</td>\n",
       "      <td>9.0</td>\n",
       "      <td>Francis Ford Coppola</td>\n",
       "      <td>[Al Pacino, Robert De Niro, Robert Duvall, Dia...</td>\n",
       "      <td>202 min</td>\n",
       "    </tr>\n",
       "    <tr>\n",
       "      <th>21</th>\n",
       "      <td>City of God</td>\n",
       "      <td>8.6</td>\n",
       "      <td>Fernando Meirelles</td>\n",
       "      <td>[Kátia Lund, Alexandre Rodrigues, Leandro Firm...</td>\n",
       "      <td>130 min</td>\n",
       "    </tr>\n",
       "    <tr>\n",
       "      <th>90</th>\n",
       "      <td>7 Kogustaki Mucize</td>\n",
       "      <td>8.3</td>\n",
       "      <td>Mehmet Ada Öztekin</td>\n",
       "      <td>[Aras Bulut Iynemli, Nisa Sofiya Aksongur, Den...</td>\n",
       "      <td>132 min</td>\n",
       "    </tr>\n",
       "    <tr>\n",
       "      <th>55</th>\n",
       "      <td>Your Name.</td>\n",
       "      <td>8.4</td>\n",
       "      <td>Makoto Shinkai</td>\n",
       "      <td>[Ryûnosuke Kamiki, Mone Kamishiraishi, Ryô Nar...</td>\n",
       "      <td>106 min</td>\n",
       "    </tr>\n",
       "    <tr>\n",
       "      <th>95</th>\n",
       "      <td>Amélie</td>\n",
       "      <td>8.3</td>\n",
       "      <td>Jean-Pierre Jeunet</td>\n",
       "      <td>[Audrey Tautou, Mathieu Kassovitz, Rufus, Lore...</td>\n",
       "      <td>122 min</td>\n",
       "    </tr>\n",
       "    <tr>\n",
       "      <th>69</th>\n",
       "      <td>Princess Mononoke</td>\n",
       "      <td>8.4</td>\n",
       "      <td>Hayao Miyazaki</td>\n",
       "      <td>[Yôji Matsuda, Yuriko Ishida, Yûko Tanaka, Bil...</td>\n",
       "      <td>134 min</td>\n",
       "    </tr>\n",
       "    <tr>\n",
       "      <th>54</th>\n",
       "      <td>Ayla: The Daughter of War</td>\n",
       "      <td>8.4</td>\n",
       "      <td>Can Ulkay</td>\n",
       "      <td>[Çetin Tekindor, Ismail Hacioglu, Kyung-jin Le...</td>\n",
       "      <td>125 min</td>\n",
       "    </tr>\n",
       "    <tr>\n",
       "      <th>36</th>\n",
       "      <td>The Departed</td>\n",
       "      <td>8.5</td>\n",
       "      <td>Martin Scorsese</td>\n",
       "      <td>[Leonardo DiCaprio, Matt Damon, Jack Nicholson...</td>\n",
       "      <td>151 min</td>\n",
       "    </tr>\n",
       "    <tr>\n",
       "      <th>49</th>\n",
       "      <td>Psycho</td>\n",
       "      <td>8.5</td>\n",
       "      <td>Alfred Hitchcock</td>\n",
       "      <td>[Anthony Perkins, Janet Leigh, Vera Miles, Joh...</td>\n",
       "      <td>109 min</td>\n",
       "    </tr>\n",
       "  </tbody>\n",
       "</table>\n",
       "</div>"
      ],
      "text/plain": [
       "                   Movie Name Rating              Director  \\\n",
       "26                      Se7en    8.6         David Fincher   \n",
       "3      The Godfather: Part II    9.0  Francis Ford Coppola   \n",
       "21                City of God    8.6    Fernando Meirelles   \n",
       "90         7 Kogustaki Mucize    8.3    Mehmet Ada Öztekin   \n",
       "55                 Your Name.    8.4        Makoto Shinkai   \n",
       "95                     Amélie    8.3    Jean-Pierre Jeunet   \n",
       "69          Princess Mononoke    8.4        Hayao Miyazaki   \n",
       "54  Ayla: The Daughter of War    8.4             Can Ulkay   \n",
       "36               The Departed    8.5       Martin Scorsese   \n",
       "49                     Psycho    8.5      Alfred Hitchcock   \n",
       "\n",
       "                                            Star Cast Duration  \n",
       "26  [Morgan Freeman, Brad Pitt, Kevin Spacey, Andr...  127 min  \n",
       "3   [Al Pacino, Robert De Niro, Robert Duvall, Dia...  202 min  \n",
       "21  [Kátia Lund, Alexandre Rodrigues, Leandro Firm...  130 min  \n",
       "90  [Aras Bulut Iynemli, Nisa Sofiya Aksongur, Den...  132 min  \n",
       "55  [Ryûnosuke Kamiki, Mone Kamishiraishi, Ryô Nar...  106 min  \n",
       "95  [Audrey Tautou, Mathieu Kassovitz, Rufus, Lore...  122 min  \n",
       "69  [Yôji Matsuda, Yuriko Ishida, Yûko Tanaka, Bil...  134 min  \n",
       "54  [Çetin Tekindor, Ismail Hacioglu, Kyung-jin Le...  125 min  \n",
       "36  [Leonardo DiCaprio, Matt Damon, Jack Nicholson...  151 min  \n",
       "49  [Anthony Perkins, Janet Leigh, Vera Miles, Joh...  109 min  "
      ]
     },
     "execution_count": 187,
     "metadata": {},
     "output_type": "execute_result"
    }
   ],
   "source": [
    "df.sample(10)"
   ]
  },
  {
   "cell_type": "markdown",
   "metadata": {},
   "source": [
    "#### 5. Write a python program to scrap cricket rankings from ‘www.icc-cricket.com’. You have to scrap:"
   ]
  },
  {
   "cell_type": "markdown",
   "metadata": {},
   "source": [
    "#### i) Top 10 ODI teams."
   ]
  },
  {
   "cell_type": "code",
   "execution_count": 191,
   "metadata": {},
   "outputs": [],
   "source": [
    "url = 'https://www.icc-cricket.com/rankings/mens/team-rankings/odi'"
   ]
  },
  {
   "cell_type": "code",
   "execution_count": 192,
   "metadata": {},
   "outputs": [],
   "source": [
    "response = requests.get(url)\n",
    "soup = BeautifulSoup(response.content)\n"
   ]
  },
  {
   "cell_type": "code",
   "execution_count": 206,
   "metadata": {},
   "outputs": [],
   "source": [
    "teams = soup.find_all('span','u-hide-phablet')[:10]"
   ]
  },
  {
   "cell_type": "code",
   "execution_count": 208,
   "metadata": {},
   "outputs": [
    {
     "name": "stdout",
     "output_type": "stream",
     "text": [
      "Top 10 ODI team\n",
      "England\n",
      "India\n",
      "New Zealand\n",
      "Australia\n",
      "South Africa\n",
      "Pakistan\n",
      "Bangladesh\n",
      "Sri Lanka\n",
      "West Indies\n",
      "Afghanistan\n"
     ]
    }
   ],
   "source": [
    "print('Top 10 ODI team')\n",
    "for team in teams:\n",
    "    print(team.text)"
   ]
  },
  {
   "cell_type": "markdown",
   "metadata": {},
   "source": [
    "#### ii) Top 10 ODI Batsmen"
   ]
  },
  {
   "cell_type": "code",
   "execution_count": 209,
   "metadata": {},
   "outputs": [],
   "source": [
    "url = 'https://www.icc-cricket.com/rankings/mens/player-rankings/odi/batting'"
   ]
  },
  {
   "cell_type": "code",
   "execution_count": 210,
   "metadata": {},
   "outputs": [],
   "source": [
    "response = requests.get(url)\n",
    "soup = BeautifulSoup(response.content)"
   ]
  },
  {
   "cell_type": "code",
   "execution_count": 246,
   "metadata": {},
   "outputs": [],
   "source": [
    "first = soup.find('div','rankings-block__banner--name-large')"
   ]
  },
  {
   "cell_type": "code",
   "execution_count": 247,
   "metadata": {},
   "outputs": [],
   "source": [
    "top_one = first.text"
   ]
  },
  {
   "cell_type": "code",
   "execution_count": 248,
   "metadata": {},
   "outputs": [
    {
     "data": {
      "text/plain": [
       "'Virat Kohli'"
      ]
     },
     "execution_count": 248,
     "metadata": {},
     "output_type": "execute_result"
    }
   ],
   "source": [
    "top_one"
   ]
  },
  {
   "cell_type": "code",
   "execution_count": 249,
   "metadata": {},
   "outputs": [],
   "source": [
    "others = soup.findAll('td','table-body__cell rankings-table__name name')[:9]"
   ]
  },
  {
   "cell_type": "code",
   "execution_count": 250,
   "metadata": {},
   "outputs": [],
   "source": [
    "top_ten = [player.find('a').text for player in others]"
   ]
  },
  {
   "cell_type": "code",
   "execution_count": 251,
   "metadata": {},
   "outputs": [
    {
     "data": {
      "text/plain": [
       "['Rohit Sharma',\n",
       " 'Babar Azam',\n",
       " 'Ross Taylor',\n",
       " 'Francois du Plessis',\n",
       " 'Kane Williamson',\n",
       " 'Aaron Finch',\n",
       " 'David Warner',\n",
       " 'Quinton de Kock',\n",
       " 'Jonny Bairstow']"
      ]
     },
     "execution_count": 251,
     "metadata": {},
     "output_type": "execute_result"
    }
   ],
   "source": [
    "top_ten"
   ]
  },
  {
   "cell_type": "code",
   "execution_count": 252,
   "metadata": {},
   "outputs": [],
   "source": [
    "top_ten.insert(0,top_one)"
   ]
  },
  {
   "cell_type": "code",
   "execution_count": 254,
   "metadata": {},
   "outputs": [
    {
     "data": {
      "text/plain": [
       "['Virat Kohli',\n",
       " 'Rohit Sharma',\n",
       " 'Babar Azam',\n",
       " 'Ross Taylor',\n",
       " 'Francois du Plessis',\n",
       " 'Kane Williamson',\n",
       " 'Aaron Finch',\n",
       " 'David Warner',\n",
       " 'Quinton de Kock',\n",
       " 'Jonny Bairstow']"
      ]
     },
     "execution_count": 254,
     "metadata": {},
     "output_type": "execute_result"
    }
   ],
   "source": [
    "top_ten"
   ]
  },
  {
   "cell_type": "code",
   "execution_count": 256,
   "metadata": {},
   "outputs": [
    {
     "data": {
      "text/plain": [
       "10"
      ]
     },
     "execution_count": 256,
     "metadata": {},
     "output_type": "execute_result"
    }
   ],
   "source": [
    "len(top_ten)"
   ]
  },
  {
   "cell_type": "markdown",
   "metadata": {},
   "source": [
    "#### iii) Top 10 ODI bowlers"
   ]
  },
  {
   "cell_type": "code",
   "execution_count": 257,
   "metadata": {},
   "outputs": [],
   "source": [
    "url = 'https://www.icc-cricket.com/rankings/mens/player-rankings/odi/bowling'"
   ]
  },
  {
   "cell_type": "code",
   "execution_count": 258,
   "metadata": {},
   "outputs": [],
   "source": [
    "response = requests.get(url)\n",
    "soup = BeautifulSoup(response.content)"
   ]
  },
  {
   "cell_type": "code",
   "execution_count": 259,
   "metadata": {},
   "outputs": [],
   "source": [
    "first = soup.find('div','rankings-block__banner--name-large')"
   ]
  },
  {
   "cell_type": "code",
   "execution_count": 260,
   "metadata": {},
   "outputs": [],
   "source": [
    "top_one = first.text"
   ]
  },
  {
   "cell_type": "code",
   "execution_count": 261,
   "metadata": {},
   "outputs": [
    {
     "data": {
      "text/plain": [
       "'Trent Boult'"
      ]
     },
     "execution_count": 261,
     "metadata": {},
     "output_type": "execute_result"
    }
   ],
   "source": [
    "top_one"
   ]
  },
  {
   "cell_type": "code",
   "execution_count": 262,
   "metadata": {},
   "outputs": [],
   "source": [
    "others = soup.findAll('td','table-body__cell rankings-table__name name')[:9]"
   ]
  },
  {
   "cell_type": "code",
   "execution_count": 263,
   "metadata": {},
   "outputs": [],
   "source": [
    "top_ten = [player.find('a').text for player in others]"
   ]
  },
  {
   "cell_type": "code",
   "execution_count": 264,
   "metadata": {},
   "outputs": [
    {
     "data": {
      "text/plain": [
       "['Jasprit Bumrah',\n",
       " 'Mujeeb Ur Rahman',\n",
       " 'Chris Woakes',\n",
       " 'Kagiso Rabada',\n",
       " 'Pat Cummins',\n",
       " 'Mohammad Amir',\n",
       " 'Josh Hazlewood',\n",
       " 'Matt Henry',\n",
       " 'Jofra Archer']"
      ]
     },
     "execution_count": 264,
     "metadata": {},
     "output_type": "execute_result"
    }
   ],
   "source": [
    "top_ten"
   ]
  },
  {
   "cell_type": "code",
   "execution_count": 265,
   "metadata": {},
   "outputs": [],
   "source": [
    "top_ten.insert(0,top_one)"
   ]
  },
  {
   "cell_type": "code",
   "execution_count": 266,
   "metadata": {},
   "outputs": [
    {
     "data": {
      "text/plain": [
       "['Trent Boult',\n",
       " 'Jasprit Bumrah',\n",
       " 'Mujeeb Ur Rahman',\n",
       " 'Chris Woakes',\n",
       " 'Kagiso Rabada',\n",
       " 'Pat Cummins',\n",
       " 'Mohammad Amir',\n",
       " 'Josh Hazlewood',\n",
       " 'Matt Henry',\n",
       " 'Jofra Archer']"
      ]
     },
     "execution_count": 266,
     "metadata": {},
     "output_type": "execute_result"
    }
   ],
   "source": [
    "top_ten"
   ]
  },
  {
   "cell_type": "code",
   "execution_count": 267,
   "metadata": {},
   "outputs": [
    {
     "data": {
      "text/plain": [
       "10"
      ]
     },
     "execution_count": 267,
     "metadata": {},
     "output_type": "execute_result"
    }
   ],
   "source": [
    "len(top_ten)"
   ]
  },
  {
   "cell_type": "markdown",
   "metadata": {},
   "source": [
    "#### 4. Write a python program to scrap book name, author name, genre and book review of 5 books from ‘www.bookpage.com’"
   ]
  },
  {
   "cell_type": "code",
   "execution_count": 268,
   "metadata": {},
   "outputs": [],
   "source": [
    "url = 'https://bookpage.com/reviews?book_genre=fiction&page=1'"
   ]
  },
  {
   "cell_type": "code",
   "execution_count": 271,
   "metadata": {},
   "outputs": [],
   "source": [
    "response = requests.get(url)\n",
    "soup = BeautifulSoup(response.content)"
   ]
  },
  {
   "cell_type": "code",
   "execution_count": 287,
   "metadata": {},
   "outputs": [],
   "source": [
    "container = soup.find_all('div','flex-article-content')[:6]"
   ]
  },
  {
   "cell_type": "code",
   "execution_count": 288,
   "metadata": {},
   "outputs": [],
   "source": [
    "book_name = []\n",
    "for title in container:\n",
    "    bookname = title.find('h4','italic')\n",
    "    book_name.append(bookname.find('a').text)"
   ]
  },
  {
   "cell_type": "code",
   "execution_count": 301,
   "metadata": {},
   "outputs": [],
   "source": [
    "author_name = []\n",
    "for author in container:\n",
    "    authorname = author.find('p','sans bold').text\n",
    "    author_name.append(authorname)"
   ]
  },
  {
   "cell_type": "code",
   "execution_count": 313,
   "metadata": {},
   "outputs": [],
   "source": [
    "book_genre = []\n",
    "for genre in container:\n",
    "    bookgenre = genre.find('p','genre-links hidden-phone')\n",
    "    genrelist = bookgenre.find('a').text\n",
    "\n",
    "        \n",
    "    book_genre.append(genrelist)"
   ]
  },
  {
   "cell_type": "code",
   "execution_count": 314,
   "metadata": {},
   "outputs": [
    {
     "data": {
      "text/plain": [
       "['Fiction', 'Fiction', 'Fiction', 'Fiction', 'Fiction', 'Fiction']"
      ]
     },
     "execution_count": 314,
     "metadata": {},
     "output_type": "execute_result"
    }
   ],
   "source": [
    "book_genre"
   ]
  },
  {
   "cell_type": "code",
   "execution_count": 315,
   "metadata": {},
   "outputs": [],
   "source": [
    "book_review = []\n",
    "for reviews in container:\n",
    "    review = reviews.find('p','excerpt').text\n",
    "    book_review.append(review)"
   ]
  },
  {
   "cell_type": "code",
   "execution_count": 316,
   "metadata": {},
   "outputs": [
    {
     "data": {
      "text/plain": [
       "['\\n',\n",
       " '\\nNeil Gaiman is generally categorized as a writer of fantasy or speculative fiction, but as the 52 selections in The Neil Gaiman Reader confirm, the beloved storyteller’s gifts defy neat classification. This doorstop-size volume will surely be welcomed by Gaiman’s legion of fans, but...\\n',\n",
       " '\\nA long time ago, amid circumstances that no one seems so sure about anymore, a small Jewish village in Poland fell off the map of the world.\\n',\n",
       " '\\nThe liminal space between art, artist and audience takes an unexpected, beautiful and haunting form in Scott O’Connor’s masterful Zero Zone, which brings to light the intangible thoughts and feelings swirling around an interactive art installation in the desert.\\n',\n",
       " '\\nThe Hollow Places is one of those books that keeps you up at night, either because you can’t put it down or because you’re scared to turn off the lights and go to bed. You’ve been warned.\\n',\n",
       " '\\nOn the eve of World War II, Elspeth Kent and young Nancy Plummer meet aboard a ship as they travel to Chefoo School, a missionary school in northern China. Nancy is already homesick for her family, especially her mother, while Elspeth has come to teach and reinvent herself, having lost the man...\\n']"
      ]
     },
     "execution_count": 316,
     "metadata": {},
     "output_type": "execute_result"
    }
   ],
   "source": [
    "book_review"
   ]
  },
  {
   "cell_type": "code",
   "execution_count": 317,
   "metadata": {},
   "outputs": [],
   "source": [
    "data = {'Book Name':book_name,'Author Name':author_name,'Genre':book_genre,'Review':book_review}"
   ]
  },
  {
   "cell_type": "code",
   "execution_count": 318,
   "metadata": {},
   "outputs": [],
   "source": [
    "df = pd.DataFrame(data)"
   ]
  },
  {
   "cell_type": "code",
   "execution_count": 319,
   "metadata": {},
   "outputs": [
    {
     "data": {
      "text/html": [
       "<div>\n",
       "<style scoped>\n",
       "    .dataframe tbody tr th:only-of-type {\n",
       "        vertical-align: middle;\n",
       "    }\n",
       "\n",
       "    .dataframe tbody tr th {\n",
       "        vertical-align: top;\n",
       "    }\n",
       "\n",
       "    .dataframe thead th {\n",
       "        text-align: right;\n",
       "    }\n",
       "</style>\n",
       "<table border=\"1\" class=\"dataframe\">\n",
       "  <thead>\n",
       "    <tr style=\"text-align: right;\">\n",
       "      <th></th>\n",
       "      <th>Book Name</th>\n",
       "      <th>Author Name</th>\n",
       "      <th>Genre</th>\n",
       "      <th>Review</th>\n",
       "    </tr>\n",
       "  </thead>\n",
       "  <tbody>\n",
       "    <tr>\n",
       "      <th>0</th>\n",
       "      <td>Cobble Hill</td>\n",
       "      <td>\\nCecily von Ziegesar\\n</td>\n",
       "      <td>Fiction</td>\n",
       "      <td>\\n</td>\n",
       "    </tr>\n",
       "    <tr>\n",
       "      <th>1</th>\n",
       "      <td>The Neil Gaiman Reader</td>\n",
       "      <td>\\nNeil Gaiman\\n</td>\n",
       "      <td>Fiction</td>\n",
       "      <td>\\nNeil Gaiman is generally categorized as a wr...</td>\n",
       "    </tr>\n",
       "    <tr>\n",
       "      <th>2</th>\n",
       "      <td>★ The Lost Shtetl</td>\n",
       "      <td>\\nMax Gross\\n</td>\n",
       "      <td>Fiction</td>\n",
       "      <td>\\nA long time ago, amid circumstances that no ...</td>\n",
       "    </tr>\n",
       "    <tr>\n",
       "      <th>3</th>\n",
       "      <td>★ Zero Zone</td>\n",
       "      <td>\\nScott O'Connor\\n</td>\n",
       "      <td>Fiction</td>\n",
       "      <td>\\nThe liminal space between art, artist and au...</td>\n",
       "    </tr>\n",
       "    <tr>\n",
       "      <th>4</th>\n",
       "      <td>★ The Hollow Places</td>\n",
       "      <td>\\nT. Kingfisher\\n</td>\n",
       "      <td>Fiction</td>\n",
       "      <td>\\nThe Hollow Places is one of those books that...</td>\n",
       "    </tr>\n",
       "    <tr>\n",
       "      <th>5</th>\n",
       "      <td>When We Were Young &amp; Brave</td>\n",
       "      <td>\\nHazel Gaynor\\n</td>\n",
       "      <td>Fiction</td>\n",
       "      <td>\\nOn the eve of World War II, Elspeth Kent and...</td>\n",
       "    </tr>\n",
       "  </tbody>\n",
       "</table>\n",
       "</div>"
      ],
      "text/plain": [
       "                    Book Name              Author Name    Genre  \\\n",
       "0                 Cobble Hill  \\nCecily von Ziegesar\\n  Fiction   \n",
       "1      The Neil Gaiman Reader          \\nNeil Gaiman\\n  Fiction   \n",
       "2           ★ The Lost Shtetl            \\nMax Gross\\n  Fiction   \n",
       "3                 ★ Zero Zone       \\nScott O'Connor\\n  Fiction   \n",
       "4         ★ The Hollow Places        \\nT. Kingfisher\\n  Fiction   \n",
       "5  When We Were Young & Brave         \\nHazel Gaynor\\n  Fiction   \n",
       "\n",
       "                                              Review  \n",
       "0                                                 \\n  \n",
       "1  \\nNeil Gaiman is generally categorized as a wr...  \n",
       "2  \\nA long time ago, amid circumstances that no ...  \n",
       "3  \\nThe liminal space between art, artist and au...  \n",
       "4  \\nThe Hollow Places is one of those books that...  \n",
       "5  \\nOn the eve of World War II, Elspeth Kent and...  "
      ]
     },
     "execution_count": 319,
     "metadata": {},
     "output_type": "execute_result"
    }
   ],
   "source": [
    "df"
   ]
  },
  {
   "cell_type": "code",
   "execution_count": null,
   "metadata": {},
   "outputs": [],
   "source": []
  }
 ],
 "metadata": {
  "kernelspec": {
   "display_name": "Python 3",
   "language": "python",
   "name": "python3"
  },
  "language_info": {
   "codemirror_mode": {
    "name": "ipython",
    "version": 3
   },
   "file_extension": ".py",
   "mimetype": "text/x-python",
   "name": "python",
   "nbconvert_exporter": "python",
   "pygments_lexer": "ipython3",
   "version": "3.7.4"
  }
 },
 "nbformat": 4,
 "nbformat_minor": 2
}
