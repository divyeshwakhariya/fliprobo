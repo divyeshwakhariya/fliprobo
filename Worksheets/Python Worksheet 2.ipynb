{
  "nbformat": 4,
  "nbformat_minor": 0,
  "metadata": {
    "colab": {
      "name": "Python Worksheet 2.ipynb",
      "provenance": [],
      "collapsed_sections": []
    },
    "kernelspec": {
      "name": "python3",
      "display_name": "Python 3"
    }
  },
  "cells": [
    {
      "cell_type": "markdown",
      "metadata": {
        "id": "hkVCxVrEOnoX",
        "colab_type": "text"
      },
      "source": [
        "12. Are strings mutable in python? Suppose you have a string “I+Love+Python”, write a small code to replace ‘+’ with space in python.\n",
        "\n",
        "Answer: No, strings are not mutable strings are immutable.\n",
        "\n",
        "Solution:"
      ]
    },
    {
      "cell_type": "code",
      "metadata": {
        "id": "kpjADpj_F4EB",
        "colab_type": "code",
        "colab": {
          "base_uri": "https://localhost:8080/",
          "height": 34
        },
        "outputId": "966f8d70-328c-47e0-92e4-a54bbd0ba6bf"
      },
      "source": [
        "string = \"I+Love+Python\"\n",
        "new_string = string.replace(\"+\", \" \")\n",
        "\n",
        "print(new_string)"
      ],
      "execution_count": 1,
      "outputs": [
        {
          "output_type": "stream",
          "text": [
            "I Love Python\n"
          ],
          "name": "stdout"
        }
      ]
    },
    {
      "cell_type": "markdown",
      "metadata": {
        "id": "8r2x8gEkPS4g",
        "colab_type": "text"
      },
      "source": [
        "13. What does the function ord() do in python? Explain with example. Also, write down the function for getting\n",
        "the datatype of a variable in python."
      ]
    },
    {
      "cell_type": "code",
      "metadata": {
        "id": "PE48TXf0O452",
        "colab_type": "code",
        "colab": {}
      },
      "source": [
        "def data_type(var):\n",
        "  return type(var)"
      ],
      "execution_count": 2,
      "outputs": []
    },
    {
      "cell_type": "code",
      "metadata": {
        "id": "0XZlrvgtF1da",
        "colab_type": "code",
        "colab": {
          "base_uri": "https://localhost:8080/",
          "height": 51
        },
        "outputId": "c44eb8d7-fa55-4aef-e47d-429a9b69e900"
      },
      "source": [
        "var_datatype = data_type(new_string)\n",
        "print('Datatype is')\n",
        "var_datatype"
      ],
      "execution_count": 3,
      "outputs": [
        {
          "output_type": "stream",
          "text": [
            "Datatype is\n"
          ],
          "name": "stdout"
        },
        {
          "output_type": "execute_result",
          "data": {
            "text/plain": [
              "str"
            ]
          },
          "metadata": {
            "tags": []
          },
          "execution_count": 3
        }
      ]
    },
    {
      "cell_type": "markdown",
      "metadata": {
        "id": "u2FYHfjDSMKi",
        "colab_type": "text"
      },
      "source": [
        "14. Write a python program to solve a quadratic equation of the form 𝑎𝑥\n",
        "2 + 𝑏𝑥 + 𝑐 = 0. Where a, b and c are to\n",
        "be taken by user input. Handle the erroneous input, such as ‘a’ should not be equal to 0."
      ]
    },
    {
      "cell_type": "code",
      "metadata": {
        "id": "Qds8n5xUW1PF",
        "colab_type": "code",
        "colab": {}
      },
      "source": [
        ""
      ],
      "execution_count": 4,
      "outputs": []
    },
    {
      "cell_type": "code",
      "metadata": {
        "id": "dTX0T1FDRgE0",
        "colab_type": "code",
        "colab": {
          "base_uri": "https://localhost:8080/",
          "height": 85
        },
        "outputId": "6abeec40-9ae4-44ab-d7cf-5a46f14efdf7"
      },
      "source": [
        "import cmath \n",
        "a = float(input('Enter a: '))  \n",
        "b = float(input('Enter b: '))  \n",
        "c = float(input('Enter c: '))  \n",
        "\n",
        "if(a==0):\n",
        "  print('a cannot be 0')\n",
        "else:\n",
        "    \n",
        "\n",
        "  # calculate the discriminant\n",
        "  d = (b**2) - (4*a*c)\n",
        "\n",
        "  # find two solutions\n",
        "  sol1 = (-b-cmath.sqrt(d))/(2*a)\n",
        "  sol2 = (-b+cmath.sqrt(d))/(2*a)\n",
        "\n",
        "  print('The solution are {0} and {1}'.format(sol1,sol2))"
      ],
      "execution_count": 9,
      "outputs": [
        {
          "output_type": "stream",
          "text": [
            "Enter a: 44\n",
            "Enter b: 5\n",
            "Enter c: 5\n",
            "The solution are (-0.056818181818181816-0.3322770799366692j) and (-0.056818181818181816+0.3322770799366692j)\n"
          ],
          "name": "stdout"
        }
      ]
    },
    {
      "cell_type": "markdown",
      "metadata": {
        "id": "R_9L4IDdarfV",
        "colab_type": "text"
      },
      "source": [
        "15. Write a python program to find the sum of first ‘n’ natural numbers without using any loop. Ask user to input the value of ‘n’."
      ]
    },
    {
      "cell_type": "code",
      "metadata": {
        "id": "0aFsuavGan87",
        "colab_type": "code",
        "colab": {}
      },
      "source": [
        "def inputNumber(message):\n",
        "  while True:\n",
        "    try:\n",
        "       userInput = int(input(message))       \n",
        "    except ValueError:\n",
        "       print(\"Not a int! Try again.\")\n",
        "       continue\n",
        "    else:\n",
        "       return userInput \n",
        "       break \n",
        "     \n",
        " "
      ],
      "execution_count": 17,
      "outputs": []
    },
    {
      "cell_type": "code",
      "metadata": {
        "id": "MNIF5rdBa0jR",
        "colab_type": "code",
        "colab": {
          "base_uri": "https://localhost:8080/",
          "height": 51
        },
        "outputId": "fc7b9962-e468-4ee1-f773-e52b2a85b520"
      },
      "source": [
        "n = inputNumber(\"Enter value of N: \")\n",
        "\n",
        "sum = int(n*(n+1)/2)\n",
        "print('sum of first ‘n’ natural for {} is {}'.format(n,sum))"
      ],
      "execution_count": 25,
      "outputs": [
        {
          "output_type": "stream",
          "text": [
            "Enter value of N: 5\n",
            "sum of first ‘n’ natural for 5 is 15\n"
          ],
          "name": "stdout"
        }
      ]
    },
    {
      "cell_type": "code",
      "metadata": {
        "id": "PrlSTnnca2vk",
        "colab_type": "code",
        "colab": {}
      },
      "source": [
        ""
      ],
      "execution_count": null,
      "outputs": []
    }
  ]
}