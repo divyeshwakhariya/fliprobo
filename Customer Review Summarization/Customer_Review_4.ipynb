{
  "nbformat": 4,
  "nbformat_minor": 0,
  "metadata": {
    "colab": {
      "name": "Customer Review 4.ipynb",
      "provenance": [],
      "collapsed_sections": []
    },
    "kernelspec": {
      "name": "python3",
      "display_name": "Python 3"
    }
  },
  "cells": [
    {
      "cell_type": "code",
      "metadata": {
        "id": "6UNgAPeGl7B6"
      },
      "source": [
        "import pandas as pd\n",
        "path = \"/content/drive/My Drive/datasets/Cell_Phones_and_Accessories.json\"\n",
        "df = pd.read_json(path)"
      ],
      "execution_count": 2,
      "outputs": []
    },
    {
      "cell_type": "markdown",
      "metadata": {
        "id": "Pm-ILiEYmdWw"
      },
      "source": [
        "**Importing Libraries**"
      ]
    },
    {
      "cell_type": "code",
      "metadata": {
        "id": "oKrTEb7Emf5Q"
      },
      "source": [
        "import numpy as np\n",
        "import seaborn as sns\n",
        "import matplotlib.pyplot as plt\n",
        "import functools\n",
        "import re\n",
        "import nltk\n",
        "from nltk.corpus import stopwords\n",
        "import string\n",
        "from nltk.tokenize import word_tokenize\n",
        "import gensim\n",
        "from sklearn.feature_extraction.text import TfidfVectorizer\n",
        "from nltk.stem import WordNetLemmatizer \n",
        "\n",
        "import warnings\n",
        "warnings.filterwarnings('ignore')"
      ],
      "execution_count": 58,
      "outputs": []
    },
    {
      "cell_type": "code",
      "metadata": {
        "id": "d4PAmaf_m4f5",
        "outputId": "96c6e592-d2be-4443-b0a9-781fbf4e6f8e",
        "colab": {
          "base_uri": "https://localhost:8080/",
          "height": 279
        }
      },
      "source": [
        "df.head()"
      ],
      "execution_count": 4,
      "outputs": [
        {
          "output_type": "execute_result",
          "data": {
            "text/html": [
              "<div>\n",
              "<style scoped>\n",
              "    .dataframe tbody tr th:only-of-type {\n",
              "        vertical-align: middle;\n",
              "    }\n",
              "\n",
              "    .dataframe tbody tr th {\n",
              "        vertical-align: top;\n",
              "    }\n",
              "\n",
              "    .dataframe thead th {\n",
              "        text-align: right;\n",
              "    }\n",
              "</style>\n",
              "<table border=\"1\" class=\"dataframe\">\n",
              "  <thead>\n",
              "    <tr style=\"text-align: right;\">\n",
              "      <th></th>\n",
              "      <th>Rating</th>\n",
              "      <th>Rev_verify</th>\n",
              "      <th>Review_Date</th>\n",
              "      <th>IC</th>\n",
              "      <th>Prod_meta</th>\n",
              "      <th>Reviewer_Name</th>\n",
              "      <th>Review</th>\n",
              "      <th>Rev_summ</th>\n",
              "      <th>Review_timestamp</th>\n",
              "      <th>Useful</th>\n",
              "      <th>Prod_img</th>\n",
              "    </tr>\n",
              "  </thead>\n",
              "  <tbody>\n",
              "    <tr>\n",
              "      <th>0</th>\n",
              "      <td>5</td>\n",
              "      <td>True</td>\n",
              "      <td>09 1, 2015</td>\n",
              "      <td>B009XD5TPQ</td>\n",
              "      <td>None</td>\n",
              "      <td>Sunny  Zoeller</td>\n",
              "      <td>Bought it for my husband. He's very happy with it</td>\n",
              "      <td>He's very happy with</td>\n",
              "      <td>1441065600</td>\n",
              "      <td>None</td>\n",
              "      <td>None</td>\n",
              "    </tr>\n",
              "    <tr>\n",
              "      <th>1</th>\n",
              "      <td>5</td>\n",
              "      <td>True</td>\n",
              "      <td>01 9, 2016</td>\n",
              "      <td>B016MF3P3K</td>\n",
              "      <td>None</td>\n",
              "      <td>Denise Lesley</td>\n",
              "      <td>Great screen protector.  Doesn't even seem as ...</td>\n",
              "      <td>Five Stars</td>\n",
              "      <td>1452297600</td>\n",
              "      <td>None</td>\n",
              "      <td>None</td>\n",
              "    </tr>\n",
              "    <tr>\n",
              "      <th>2</th>\n",
              "      <td>5</td>\n",
              "      <td>True</td>\n",
              "      <td>04 21, 2013</td>\n",
              "      <td>B008DC8N5G</td>\n",
              "      <td>None</td>\n",
              "      <td>Emir</td>\n",
              "      <td>Saved me lots of money! it's not gorilla glass...</td>\n",
              "      <td>As long as you know how to put it on!</td>\n",
              "      <td>1366502400</td>\n",
              "      <td>None</td>\n",
              "      <td>None</td>\n",
              "    </tr>\n",
              "    <tr>\n",
              "      <th>3</th>\n",
              "      <td>3</td>\n",
              "      <td>True</td>\n",
              "      <td>02 27, 2013</td>\n",
              "      <td>B0089CH3TM</td>\n",
              "      <td>{'Color:': ' Green'}</td>\n",
              "      <td>Alyse</td>\n",
              "      <td>The material and fit is very nice, but the col...</td>\n",
              "      <td>Good case overall</td>\n",
              "      <td>1361923200</td>\n",
              "      <td>3</td>\n",
              "      <td>None</td>\n",
              "    </tr>\n",
              "    <tr>\n",
              "      <th>4</th>\n",
              "      <td>4</td>\n",
              "      <td>True</td>\n",
              "      <td>12 19, 2013</td>\n",
              "      <td>B00AKZWGAC</td>\n",
              "      <td>None</td>\n",
              "      <td>TechGuy</td>\n",
              "      <td>This last me about 3 days till i have to charg...</td>\n",
              "      <td>Awesome Battery</td>\n",
              "      <td>1387411200</td>\n",
              "      <td>None</td>\n",
              "      <td>None</td>\n",
              "    </tr>\n",
              "  </tbody>\n",
              "</table>\n",
              "</div>"
            ],
            "text/plain": [
              "   Rating  Rev_verify  Review_Date  ... Review_timestamp Useful Prod_img\n",
              "0       5        True   09 1, 2015  ...       1441065600   None     None\n",
              "1       5        True   01 9, 2016  ...       1452297600   None     None\n",
              "2       5        True  04 21, 2013  ...       1366502400   None     None\n",
              "3       3        True  02 27, 2013  ...       1361923200      3     None\n",
              "4       4        True  12 19, 2013  ...       1387411200   None     None\n",
              "\n",
              "[5 rows x 11 columns]"
            ]
          },
          "metadata": {
            "tags": []
          },
          "execution_count": 4
        }
      ]
    },
    {
      "cell_type": "markdown",
      "metadata": {
        "id": "UfWdS7GBnOAl"
      },
      "source": [
        "**Checking null values**"
      ]
    },
    {
      "cell_type": "code",
      "metadata": {
        "id": "W3u2nU6OnKmb",
        "outputId": "66ac3875-e5db-4273-afef-554a401cc475",
        "colab": {
          "base_uri": "https://localhost:8080/",
          "height": 218
        }
      },
      "source": [
        "df.isnull().sum()"
      ],
      "execution_count": 5,
      "outputs": [
        {
          "output_type": "execute_result",
          "data": {
            "text/plain": [
              "Rating                   0\n",
              "Rev_verify               0\n",
              "Review_Date              0\n",
              "IC                       0\n",
              "Prod_meta           352624\n",
              "Reviewer_Name           91\n",
              "Review                 530\n",
              "Rev_summ               355\n",
              "Review_timestamp         0\n",
              "Useful              698250\n",
              "Prod_img            742256\n",
              "dtype: int64"
            ]
          },
          "metadata": {
            "tags": []
          },
          "execution_count": 5
        }
      ]
    },
    {
      "cell_type": "markdown",
      "metadata": {
        "id": "jvKciMuknjSN"
      },
      "source": [
        "In our dataset, review and rev_summary having null values. We will drop that column having null values"
      ]
    },
    {
      "cell_type": "code",
      "metadata": {
        "id": "bJIeRb8unQ6N"
      },
      "source": [
        "df.dropna(subset=['Review','Rev_summ'], inplace=True)"
      ],
      "execution_count": 6,
      "outputs": []
    },
    {
      "cell_type": "code",
      "metadata": {
        "id": "fQcSXnyioUXv",
        "outputId": "1f11f9b5-1d57-4b97-c876-08ba9d3f51d7",
        "colab": {
          "base_uri": "https://localhost:8080/",
          "height": 218
        }
      },
      "source": [
        "df.isnull().sum()"
      ],
      "execution_count": 7,
      "outputs": [
        {
          "output_type": "execute_result",
          "data": {
            "text/plain": [
              "Rating                   0\n",
              "Rev_verify               0\n",
              "Review_Date              0\n",
              "IC                       0\n",
              "Prod_meta           352259\n",
              "Reviewer_Name           89\n",
              "Review                   0\n",
              "Rev_summ                 0\n",
              "Review_timestamp         0\n",
              "Useful              697443\n",
              "Prod_img            741480\n",
              "dtype: int64"
            ]
          },
          "metadata": {
            "tags": []
          },
          "execution_count": 7
        }
      ]
    },
    {
      "cell_type": "markdown",
      "metadata": {
        "id": "3twZRQ80oldm"
      },
      "source": [
        "Now we have dropped na values from Review and Rev_summ, no na values are present in that columna"
      ]
    },
    {
      "cell_type": "markdown",
      "metadata": {
        "id": "1BWNzJGUpCfz"
      },
      "source": [
        "Lets drop the column which are having high null values along with the unnecessary columns"
      ]
    },
    {
      "cell_type": "code",
      "metadata": {
        "id": "34PuFdMgqmEa",
        "outputId": "9218268d-c98a-4c1f-e772-10a2cf0f8f7b",
        "colab": {
          "base_uri": "https://localhost:8080/",
          "height": 414
        }
      },
      "source": [
        "#Checking the count of verified reviews\n",
        "\n",
        "sns.countplot('Rev_verify',data=df)\n",
        "plt.show()\n",
        "\n",
        "print('Lets check the count of the Verified and Unverified reviews')\n",
        "print(df.Rev_verify.value_counts())\n",
        "\n",
        "print('Lets check the % of the Verified and Unverified reviews')\n",
        "(df.Rev_verify.value_counts()/len(df.Rev_verify))*100"
      ],
      "execution_count": 8,
      "outputs": [
        {
          "output_type": "display_data",
          "data": {
            "image/png": "[encoded data removed]",
            "text/plain": [
              "<Figure size 432x288 with 1 Axes>"
            ]
          },
          "metadata": {
            "tags": [],
            "needs_background": "light"
          }
        },
        {
          "output_type": "stream",
          "text": [
            "Lets check the count of the Verified and Unverified reviews\n",
            "True     664660\n",
            "False     94942\n",
            "Name: Rev_verify, dtype: int64\n",
            "Lets check the % of the Verified and Unverified reviews\n"
          ],
          "name": "stdout"
        },
        {
          "output_type": "execute_result",
          "data": {
            "text/plain": [
              "True     87.501086\n",
              "False    12.498914\n",
              "Name: Rev_verify, dtype: float64"
            ]
          },
          "metadata": {
            "tags": []
          },
          "execution_count": 8
        }
      ]
    },
    {
      "cell_type": "markdown",
      "metadata": {
        "id": "cl_Ju9FbvONS"
      },
      "source": [
        "Here we are having 12% of the reviews which are unverified, we will drop that values at the time of keywords extraction"
      ]
    },
    {
      "cell_type": "markdown",
      "metadata": {
        "id": "PS71tpxhwGvO"
      },
      "source": [
        "### Lets find out the min rating, maximum rating and average rating for each product."
      ]
    },
    {
      "cell_type": "code",
      "metadata": {
        "id": "47jxDH-Tqydr"
      },
      "source": [
        "#Average Rating\n",
        "\n",
        "average_ratings = round(df.groupby(['IC'])['Rating'].mean().reset_index(),2)"
      ],
      "execution_count": 9,
      "outputs": []
    },
    {
      "cell_type": "code",
      "metadata": {
        "id": "f3BatqPrzV-x",
        "outputId": "ca8d3042-9e7f-487a-9b95-97f6067f7497",
        "colab": {
          "base_uri": "https://localhost:8080/",
          "height": 34
        }
      },
      "source": [
        "average_ratings.head()\n",
        "average_ratings.shape"
      ],
      "execution_count": 10,
      "outputs": [
        {
          "output_type": "execute_result",
          "data": {
            "text/plain": [
              "(48133, 2)"
            ]
          },
          "metadata": {
            "tags": []
          },
          "execution_count": 10
        }
      ]
    },
    {
      "cell_type": "code",
      "metadata": {
        "id": "SrMUc2oxw68K"
      },
      "source": [
        "minimum_ratings = df.groupby(['IC'])['Rating'].min().reset_index()"
      ],
      "execution_count": 11,
      "outputs": []
    },
    {
      "cell_type": "code",
      "metadata": {
        "id": "8BajTgmV0DBY",
        "outputId": "227c2495-9216-4f55-a831-b495c2b03627",
        "colab": {
          "base_uri": "https://localhost:8080/",
          "height": 34
        }
      },
      "source": [
        "minimum_ratings.head()\n",
        "minimum_ratings.shape"
      ],
      "execution_count": 12,
      "outputs": [
        {
          "output_type": "execute_result",
          "data": {
            "text/plain": [
              "(48133, 2)"
            ]
          },
          "metadata": {
            "tags": []
          },
          "execution_count": 12
        }
      ]
    },
    {
      "cell_type": "code",
      "metadata": {
        "id": "7JFUQ5pr0GhZ"
      },
      "source": [
        "maximum_ratings = df.groupby(['IC'])['Rating'].max().reset_index()"
      ],
      "execution_count": 13,
      "outputs": []
    },
    {
      "cell_type": "code",
      "metadata": {
        "id": "LGdcKtpm0PGS",
        "outputId": "248e421f-ed18-4b64-de83-67319aaf15bd",
        "colab": {
          "base_uri": "https://localhost:8080/",
          "height": 34
        }
      },
      "source": [
        "maximum_ratings.head()\n",
        "maximum_ratings.shape"
      ],
      "execution_count": 14,
      "outputs": [
        {
          "output_type": "execute_result",
          "data": {
            "text/plain": [
              "(48133, 2)"
            ]
          },
          "metadata": {
            "tags": []
          },
          "execution_count": 14
        }
      ]
    },
    {
      "cell_type": "code",
      "metadata": {
        "id": "w3usIaBz0Tlg",
        "outputId": "c1c566d3-918e-40a6-9db9-477e48c3ed87",
        "colab": {
          "base_uri": "https://localhost:8080/",
          "height": 34
        }
      },
      "source": [
        "total_ratings = df.groupby(['IC'])['Rating'].count().reset_index()\n",
        "total_ratings.head()\n",
        "total_ratings.shape"
      ],
      "execution_count": 15,
      "outputs": [
        {
          "output_type": "execute_result",
          "data": {
            "text/plain": [
              "(48133, 2)"
            ]
          },
          "metadata": {
            "tags": []
          },
          "execution_count": 15
        }
      ]
    },
    {
      "cell_type": "code",
      "metadata": {
        "id": "XC8VKRMSKV9z"
      },
      "source": [
        "##Getting the unique IC value\n",
        "\n",
        "unique_ic = df['IC'].unique()\n",
        "\n",
        "#Creating a data frame from ic values\n",
        "df_ic = pd.DataFrame(data=unique_ic,columns=['IC'])"
      ],
      "execution_count": 16,
      "outputs": []
    },
    {
      "cell_type": "code",
      "metadata": {
        "id": "yQrvETEJFzOc"
      },
      "source": [
        "#Finding the rating counts for each rating value i.e. 1 2 3 4 5\n",
        "\n",
        "one_star_rating = round(df[df['Rating']==1].groupby(['IC'])['Rating'].count().reset_index())\n",
        "two_star_rating = round(df[df['Rating']==2].groupby(['IC'])['Rating'].count().reset_index())\n",
        "three_star_rating = round(df[df['Rating']==3].groupby(['IC'])['Rating'].count().reset_index())\n",
        "four_star_rating = round(df[df['Rating']==4].groupby(['IC'])['Rating'].count().reset_index())\n",
        "five_star_rating = round(df[df['Rating']==5].groupby(['IC'])['Rating'].count().reset_index())"
      ],
      "execution_count": 17,
      "outputs": []
    },
    {
      "cell_type": "code",
      "metadata": {
        "id": "JnC2MhDvlyF9"
      },
      "source": [
        "df_indi_rating_count = df_ic.merge(one_star_rating,on='IC',how='left').merge(two_star_rating,how='left',on='IC').merge(three_star_rating,how='left',on='IC').merge(four_star_rating,how='left',on='IC').merge(five_star_rating,how='left',on='IC')"
      ],
      "execution_count": 18,
      "outputs": []
    },
    {
      "cell_type": "code",
      "metadata": {
        "id": "AmkMMM7inUKg"
      },
      "source": [
        "df_indi_rating_count.columns = ['IC','1 star ratings','2 star ratings','3 star ratings','4 star ratings','5 star ratings']"
      ],
      "execution_count": 19,
      "outputs": []
    },
    {
      "cell_type": "code",
      "metadata": {
        "id": "PgrexV4xuL7I",
        "outputId": "088b595d-dd53-4f08-9a09-3e79290165d3",
        "colab": {
          "base_uri": "https://localhost:8080/",
          "height": 134
        }
      },
      "source": [
        "#Replacing all NaN values with 0\n",
        "\n",
        "df_indi_rating_count = df_indi_rating_count.fillna(0)\n",
        "df_indi_rating_count.isnull().sum()"
      ],
      "execution_count": 20,
      "outputs": [
        {
          "output_type": "execute_result",
          "data": {
            "text/plain": [
              "IC                0\n",
              "1 star ratings    0\n",
              "2 star ratings    0\n",
              "3 star ratings    0\n",
              "4 star ratings    0\n",
              "5 star ratings    0\n",
              "dtype: int64"
            ]
          },
          "metadata": {
            "tags": []
          },
          "execution_count": 20
        }
      ]
    },
    {
      "cell_type": "code",
      "metadata": {
        "id": "E7ZoWkLPxPl7"
      },
      "source": [
        "##Converting float values to int\n",
        "\n",
        "for col in df_indi_rating_count.select_dtypes(include=['float']).columns:\n",
        "  df_indi_rating_count[col] = df_indi_rating_count[col].astype(int)"
      ],
      "execution_count": 21,
      "outputs": []
    },
    {
      "cell_type": "code",
      "metadata": {
        "id": "UgVXVkaYwqsI",
        "outputId": "24a3e0dd-8c57-4af6-cebc-5c44d429fb81",
        "colab": {
          "base_uri": "https://localhost:8080/",
          "height": 343
        }
      },
      "source": [
        "df_indi_rating_count.sample(10)"
      ],
      "execution_count": 22,
      "outputs": [
        {
          "output_type": "execute_result",
          "data": {
            "text/html": [
              "<div>\n",
              "<style scoped>\n",
              "    .dataframe tbody tr th:only-of-type {\n",
              "        vertical-align: middle;\n",
              "    }\n",
              "\n",
              "    .dataframe tbody tr th {\n",
              "        vertical-align: top;\n",
              "    }\n",
              "\n",
              "    .dataframe thead th {\n",
              "        text-align: right;\n",
              "    }\n",
              "</style>\n",
              "<table border=\"1\" class=\"dataframe\">\n",
              "  <thead>\n",
              "    <tr style=\"text-align: right;\">\n",
              "      <th></th>\n",
              "      <th>IC</th>\n",
              "      <th>1 star ratings</th>\n",
              "      <th>2 star ratings</th>\n",
              "      <th>3 star ratings</th>\n",
              "      <th>4 star ratings</th>\n",
              "      <th>5 star ratings</th>\n",
              "    </tr>\n",
              "  </thead>\n",
              "  <tbody>\n",
              "    <tr>\n",
              "      <th>37537</th>\n",
              "      <td>B0175PZH5K</td>\n",
              "      <td>0</td>\n",
              "      <td>1</td>\n",
              "      <td>1</td>\n",
              "      <td>1</td>\n",
              "      <td>1</td>\n",
              "    </tr>\n",
              "    <tr>\n",
              "      <th>5006</th>\n",
              "      <td>B00YE6WRPW</td>\n",
              "      <td>3</td>\n",
              "      <td>1</td>\n",
              "      <td>2</td>\n",
              "      <td>1</td>\n",
              "      <td>0</td>\n",
              "    </tr>\n",
              "    <tr>\n",
              "      <th>24336</th>\n",
              "      <td>B01EJBGCM0</td>\n",
              "      <td>0</td>\n",
              "      <td>0</td>\n",
              "      <td>1</td>\n",
              "      <td>1</td>\n",
              "      <td>2</td>\n",
              "    </tr>\n",
              "    <tr>\n",
              "      <th>32101</th>\n",
              "      <td>B009KY49UE</td>\n",
              "      <td>0</td>\n",
              "      <td>0</td>\n",
              "      <td>0</td>\n",
              "      <td>7</td>\n",
              "      <td>6</td>\n",
              "    </tr>\n",
              "    <tr>\n",
              "      <th>16872</th>\n",
              "      <td>B00CASNSKO</td>\n",
              "      <td>0</td>\n",
              "      <td>0</td>\n",
              "      <td>0</td>\n",
              "      <td>1</td>\n",
              "      <td>5</td>\n",
              "    </tr>\n",
              "    <tr>\n",
              "      <th>28708</th>\n",
              "      <td>B0050WSWIU</td>\n",
              "      <td>1</td>\n",
              "      <td>0</td>\n",
              "      <td>0</td>\n",
              "      <td>0</td>\n",
              "      <td>2</td>\n",
              "    </tr>\n",
              "    <tr>\n",
              "      <th>17657</th>\n",
              "      <td>B00VSRTVH2</td>\n",
              "      <td>1</td>\n",
              "      <td>1</td>\n",
              "      <td>1</td>\n",
              "      <td>0</td>\n",
              "      <td>2</td>\n",
              "    </tr>\n",
              "    <tr>\n",
              "      <th>46014</th>\n",
              "      <td>B01EO2XT0W</td>\n",
              "      <td>0</td>\n",
              "      <td>1</td>\n",
              "      <td>1</td>\n",
              "      <td>0</td>\n",
              "      <td>1</td>\n",
              "    </tr>\n",
              "    <tr>\n",
              "      <th>34028</th>\n",
              "      <td>B00RSMO856</td>\n",
              "      <td>0</td>\n",
              "      <td>0</td>\n",
              "      <td>0</td>\n",
              "      <td>3</td>\n",
              "      <td>4</td>\n",
              "    </tr>\n",
              "    <tr>\n",
              "      <th>25866</th>\n",
              "      <td>B0121OJXZK</td>\n",
              "      <td>0</td>\n",
              "      <td>0</td>\n",
              "      <td>0</td>\n",
              "      <td>0</td>\n",
              "      <td>3</td>\n",
              "    </tr>\n",
              "  </tbody>\n",
              "</table>\n",
              "</div>"
            ],
            "text/plain": [
              "               IC  1 star ratings  ...  4 star ratings  5 star ratings\n",
              "37537  B0175PZH5K               0  ...               1               1\n",
              "5006   B00YE6WRPW               3  ...               1               0\n",
              "24336  B01EJBGCM0               0  ...               1               2\n",
              "32101  B009KY49UE               0  ...               7               6\n",
              "16872  B00CASNSKO               0  ...               1               5\n",
              "28708  B0050WSWIU               1  ...               0               2\n",
              "17657  B00VSRTVH2               1  ...               0               2\n",
              "46014  B01EO2XT0W               0  ...               0               1\n",
              "34028  B00RSMO856               0  ...               3               4\n",
              "25866  B0121OJXZK               0  ...               0               3\n",
              "\n",
              "[10 rows x 6 columns]"
            ]
          },
          "metadata": {
            "tags": []
          },
          "execution_count": 22
        }
      ]
    },
    {
      "cell_type": "code",
      "metadata": {
        "id": "GIxdFDSvCqji"
      },
      "source": [
        "df_rating_set = [total_ratings, average_ratings, maximum_ratings, minimum_ratings,df_indi_rating_count]"
      ],
      "execution_count": 23,
      "outputs": []
    },
    {
      "cell_type": "code",
      "metadata": {
        "id": "H4sbMB5qCwj_"
      },
      "source": [
        "df_rating_data = functools.reduce(lambda left,right: pd.merge(left,right,on='IC'), df_rating_set)"
      ],
      "execution_count": 24,
      "outputs": []
    },
    {
      "cell_type": "code",
      "metadata": {
        "id": "d7wnx8lsC3Lr"
      },
      "source": [
        "df_rating_data.columns=['IC','Total rating','Average rating','Maximum rating','Minimum rating','1 star ratings','2 star ratings','3 star ratings','4 star ratings','5 star ratings']"
      ],
      "execution_count": 25,
      "outputs": []
    },
    {
      "cell_type": "code",
      "metadata": {
        "id": "vQs86JaeEzLd",
        "outputId": "d9b0a32b-17ae-440c-bc82-64d496ca924f",
        "colab": {
          "base_uri": "https://localhost:8080/",
          "height": 34
        }
      },
      "source": [
        "df_rating_data.shape"
      ],
      "execution_count": 26,
      "outputs": [
        {
          "output_type": "execute_result",
          "data": {
            "text/plain": [
              "(48133, 10)"
            ]
          },
          "metadata": {
            "tags": []
          },
          "execution_count": 26
        }
      ]
    },
    {
      "cell_type": "code",
      "metadata": {
        "id": "h9O9s5EXs4DC",
        "outputId": "31c9e99f-707b-49c1-ad88-225b9ac0444d",
        "colab": {
          "base_uri": "https://localhost:8080/",
          "height": 402
        }
      },
      "source": [
        "df_rating_data"
      ],
      "execution_count": 27,
      "outputs": [
        {
          "output_type": "execute_result",
          "data": {
            "text/html": [
              "<div>\n",
              "<style scoped>\n",
              "    .dataframe tbody tr th:only-of-type {\n",
              "        vertical-align: middle;\n",
              "    }\n",
              "\n",
              "    .dataframe tbody tr th {\n",
              "        vertical-align: top;\n",
              "    }\n",
              "\n",
              "    .dataframe thead th {\n",
              "        text-align: right;\n",
              "    }\n",
              "</style>\n",
              "<table border=\"1\" class=\"dataframe\">\n",
              "  <thead>\n",
              "    <tr style=\"text-align: right;\">\n",
              "      <th></th>\n",
              "      <th>IC</th>\n",
              "      <th>Total rating</th>\n",
              "      <th>Average rating</th>\n",
              "      <th>Maximum rating</th>\n",
              "      <th>Minimum rating</th>\n",
              "      <th>1 star ratings</th>\n",
              "      <th>2 star ratings</th>\n",
              "      <th>3 star ratings</th>\n",
              "      <th>4 star ratings</th>\n",
              "      <th>5 star ratings</th>\n",
              "    </tr>\n",
              "  </thead>\n",
              "  <tbody>\n",
              "    <tr>\n",
              "      <th>0</th>\n",
              "      <td>7508492919</td>\n",
              "      <td>40</td>\n",
              "      <td>4.30</td>\n",
              "      <td>5</td>\n",
              "      <td>1</td>\n",
              "      <td>1</td>\n",
              "      <td>1</td>\n",
              "      <td>4</td>\n",
              "      <td>13</td>\n",
              "      <td>21</td>\n",
              "    </tr>\n",
              "    <tr>\n",
              "      <th>1</th>\n",
              "      <td>7532385086</td>\n",
              "      <td>7</td>\n",
              "      <td>3.29</td>\n",
              "      <td>5</td>\n",
              "      <td>1</td>\n",
              "      <td>2</td>\n",
              "      <td>0</td>\n",
              "      <td>1</td>\n",
              "      <td>2</td>\n",
              "      <td>2</td>\n",
              "    </tr>\n",
              "    <tr>\n",
              "      <th>2</th>\n",
              "      <td>7887421268</td>\n",
              "      <td>13</td>\n",
              "      <td>3.54</td>\n",
              "      <td>5</td>\n",
              "      <td>1</td>\n",
              "      <td>3</td>\n",
              "      <td>1</td>\n",
              "      <td>1</td>\n",
              "      <td>2</td>\n",
              "      <td>6</td>\n",
              "    </tr>\n",
              "    <tr>\n",
              "      <th>3</th>\n",
              "      <td>8199900164</td>\n",
              "      <td>4</td>\n",
              "      <td>3.75</td>\n",
              "      <td>5</td>\n",
              "      <td>2</td>\n",
              "      <td>0</td>\n",
              "      <td>1</td>\n",
              "      <td>1</td>\n",
              "      <td>0</td>\n",
              "      <td>2</td>\n",
              "    </tr>\n",
              "    <tr>\n",
              "      <th>4</th>\n",
              "      <td>8288853439</td>\n",
              "      <td>11</td>\n",
              "      <td>3.82</td>\n",
              "      <td>5</td>\n",
              "      <td>1</td>\n",
              "      <td>2</td>\n",
              "      <td>1</td>\n",
              "      <td>0</td>\n",
              "      <td>2</td>\n",
              "      <td>6</td>\n",
              "    </tr>\n",
              "    <tr>\n",
              "      <th>...</th>\n",
              "      <td>...</td>\n",
              "      <td>...</td>\n",
              "      <td>...</td>\n",
              "      <td>...</td>\n",
              "      <td>...</td>\n",
              "      <td>...</td>\n",
              "      <td>...</td>\n",
              "      <td>...</td>\n",
              "      <td>...</td>\n",
              "      <td>...</td>\n",
              "    </tr>\n",
              "    <tr>\n",
              "      <th>48128</th>\n",
              "      <td>B01HJBS5C2</td>\n",
              "      <td>12</td>\n",
              "      <td>3.25</td>\n",
              "      <td>5</td>\n",
              "      <td>1</td>\n",
              "      <td>2</td>\n",
              "      <td>3</td>\n",
              "      <td>1</td>\n",
              "      <td>2</td>\n",
              "      <td>4</td>\n",
              "    </tr>\n",
              "    <tr>\n",
              "      <th>48129</th>\n",
              "      <td>B01HJC7N4C</td>\n",
              "      <td>5</td>\n",
              "      <td>4.60</td>\n",
              "      <td>5</td>\n",
              "      <td>3</td>\n",
              "      <td>0</td>\n",
              "      <td>0</td>\n",
              "      <td>1</td>\n",
              "      <td>0</td>\n",
              "      <td>4</td>\n",
              "    </tr>\n",
              "    <tr>\n",
              "      <th>48130</th>\n",
              "      <td>B01HJCN1UC</td>\n",
              "      <td>22</td>\n",
              "      <td>4.73</td>\n",
              "      <td>5</td>\n",
              "      <td>4</td>\n",
              "      <td>0</td>\n",
              "      <td>0</td>\n",
              "      <td>0</td>\n",
              "      <td>6</td>\n",
              "      <td>16</td>\n",
              "    </tr>\n",
              "    <tr>\n",
              "      <th>48131</th>\n",
              "      <td>B01HJCN55I</td>\n",
              "      <td>11</td>\n",
              "      <td>4.45</td>\n",
              "      <td>5</td>\n",
              "      <td>2</td>\n",
              "      <td>0</td>\n",
              "      <td>2</td>\n",
              "      <td>0</td>\n",
              "      <td>0</td>\n",
              "      <td>9</td>\n",
              "    </tr>\n",
              "    <tr>\n",
              "      <th>48132</th>\n",
              "      <td>B01HJH9IN6</td>\n",
              "      <td>6</td>\n",
              "      <td>2.83</td>\n",
              "      <td>5</td>\n",
              "      <td>1</td>\n",
              "      <td>2</td>\n",
              "      <td>1</td>\n",
              "      <td>1</td>\n",
              "      <td>0</td>\n",
              "      <td>2</td>\n",
              "    </tr>\n",
              "  </tbody>\n",
              "</table>\n",
              "<p>48133 rows × 10 columns</p>\n",
              "</div>"
            ],
            "text/plain": [
              "               IC  Total rating  ...  4 star ratings  5 star ratings\n",
              "0      7508492919            40  ...              13              21\n",
              "1      7532385086             7  ...               2               2\n",
              "2      7887421268            13  ...               2               6\n",
              "3      8199900164             4  ...               0               2\n",
              "4      8288853439            11  ...               2               6\n",
              "...           ...           ...  ...             ...             ...\n",
              "48128  B01HJBS5C2            12  ...               2               4\n",
              "48129  B01HJC7N4C             5  ...               0               4\n",
              "48130  B01HJCN1UC            22  ...               6              16\n",
              "48131  B01HJCN55I            11  ...               0               9\n",
              "48132  B01HJH9IN6             6  ...               0               2\n",
              "\n",
              "[48133 rows x 10 columns]"
            ]
          },
          "metadata": {
            "tags": []
          },
          "execution_count": 27
        }
      ]
    },
    {
      "cell_type": "code",
      "metadata": {
        "id": "Qr_0hcXJ1vM1"
      },
      "source": [
        "df_rating_data.to_csv('df_rating_data.csv',index_label=False)"
      ],
      "execution_count": 28,
      "outputs": []
    },
    {
      "cell_type": "code",
      "metadata": {
        "id": "4lFWKeazoWi0"
      },
      "source": [
        "#Droping Rev_verify, Review_date, Prod_meta, Reviewer_Name, Review_timestamp, Useful and Prod_img and Review \n",
        "\n",
        "#We will extract our keywords and product summary based on the Rev summary\n",
        "\n",
        "df_ext = df.loc[:,['IC','Rev_summ']]"
      ],
      "execution_count": 29,
      "outputs": []
    },
    {
      "cell_type": "code",
      "metadata": {
        "id": "PQsr4_Sj3OsI",
        "outputId": "4644b757-5b43-470d-d4b7-c268910049a3",
        "colab": {
          "base_uri": "https://localhost:8080/",
          "height": 67
        }
      },
      "source": [
        "#checking for the null values\n",
        "df_ext.isnull().sum()"
      ],
      "execution_count": 30,
      "outputs": [
        {
          "output_type": "execute_result",
          "data": {
            "text/plain": [
              "IC          0\n",
              "Rev_summ    0\n",
              "dtype: int64"
            ]
          },
          "metadata": {
            "tags": []
          },
          "execution_count": 30
        }
      ]
    },
    {
      "cell_type": "code",
      "metadata": {
        "id": "F2iMhszzmJvj"
      },
      "source": [
        "df_ext[\"Rev Length\"]= df_ext[\"Rev_summ\"].str.len() "
      ],
      "execution_count": 31,
      "outputs": []
    },
    {
      "cell_type": "code",
      "metadata": {
        "id": "LnYXNbgb3w18"
      },
      "source": [
        "df_ext.sort_values(\"IC\", inplace = True) "
      ],
      "execution_count": 32,
      "outputs": []
    },
    {
      "cell_type": "code",
      "metadata": {
        "id": "hIfhUL2D4t7Y",
        "outputId": "9f01a775-2861-44c2-dd3e-173e9dfc258a",
        "colab": {
          "base_uri": "https://localhost:8080/",
          "height": 34
        }
      },
      "source": [
        "df_ext.shape"
      ],
      "execution_count": 33,
      "outputs": [
        {
          "output_type": "execute_result",
          "data": {
            "text/plain": [
              "(759602, 3)"
            ]
          },
          "metadata": {
            "tags": []
          },
          "execution_count": 33
        }
      ]
    },
    {
      "cell_type": "code",
      "metadata": {
        "id": "76gBaAeR5XAJ"
      },
      "source": [
        "#Dropping duplicate values from dataframe\n",
        "\n",
        "df_ext.drop_duplicates(inplace=True)"
      ],
      "execution_count": 34,
      "outputs": []
    },
    {
      "cell_type": "code",
      "metadata": {
        "id": "CYViJbvC8F5M",
        "outputId": "df110da6-1878-45bb-bb60-4815291aa30a",
        "colab": {
          "base_uri": "https://localhost:8080/",
          "height": 34
        }
      },
      "source": [
        "df_ext.shape"
      ],
      "execution_count": 35,
      "outputs": [
        {
          "output_type": "execute_result",
          "data": {
            "text/plain": [
              "(608602, 3)"
            ]
          },
          "metadata": {
            "tags": []
          },
          "execution_count": 35
        }
      ]
    },
    {
      "cell_type": "code",
      "metadata": {
        "id": "KpexeEAOFtMb",
        "outputId": "1054f174-3b42-412b-8dd9-5148df6f653b",
        "colab": {
          "base_uri": "https://localhost:8080/",
          "height": 84
        }
      },
      "source": [
        "df_ext.nunique()"
      ],
      "execution_count": 36,
      "outputs": [
        {
          "output_type": "execute_result",
          "data": {
            "text/plain": [
              "IC             48133\n",
              "Rev_summ      366596\n",
              "Rev Length       153\n",
              "dtype: int64"
            ]
          },
          "metadata": {
            "tags": []
          },
          "execution_count": 36
        }
      ]
    },
    {
      "cell_type": "code",
      "metadata": {
        "id": "vFNyJcnf8HG_"
      },
      "source": [
        "#Here we have dropped 1.5L rows from the data frame which were duplicate"
      ],
      "execution_count": null,
      "outputs": []
    },
    {
      "cell_type": "code",
      "metadata": {
        "id": "3sSrTst8DxAc",
        "outputId": "5df9392f-6796-46ca-fd1e-e2faab8d0db8",
        "colab": {
          "base_uri": "https://localhost:8080/",
          "height": 428
        }
      },
      "source": [
        "#plotting distribution of string \n",
        "\n",
        "fig, ax = plt.subplots(figsize =(10, 7)) \n",
        "ax.hist(df_ext['Rev Length'], bins = [0, 25, 50, 75, 100]) \n",
        "  \n",
        "# Show plot \n",
        "plt.show() "
      ],
      "execution_count": 47,
      "outputs": [
        {
          "output_type": "display_data",
          "data": {
            "image/png": "[encoded data removed]",
            "text/plain": [
              "<Figure size 720x504 with 1 Axes>"
            ]
          },
          "metadata": {
            "tags": [],
            "needs_background": "light"
          }
        }
      ]
    },
    {
      "cell_type": "code",
      "metadata": {
        "id": "AS6Mijo9ETeV"
      },
      "source": [
        "#Merging data set review on IC\n",
        "df_merge = df_ext.groupby(['IC'])['Rev_summ'].apply('. '.join).reset_index()"
      ],
      "execution_count": 48,
      "outputs": []
    },
    {
      "cell_type": "code",
      "metadata": {
        "id": "qlMZoEw-Ep1M",
        "outputId": "c989928b-732d-4d29-b527-fca030d46e54",
        "colab": {
          "base_uri": "https://localhost:8080/",
          "height": 34
        }
      },
      "source": [
        "df_merge.shape"
      ],
      "execution_count": 50,
      "outputs": [
        {
          "output_type": "execute_result",
          "data": {
            "text/plain": [
              "(48133, 2)"
            ]
          },
          "metadata": {
            "tags": []
          },
          "execution_count": 50
        }
      ]
    },
    {
      "cell_type": "code",
      "metadata": {
        "id": "ecnHLlPI2xDo",
        "outputId": "f0406940-cd1c-4464-f318-02f93275709c",
        "colab": {
          "base_uri": "https://localhost:8080/",
          "height": 428
        }
      },
      "source": [
        "#plotting distribution of string \n",
        "df_merge[\"Rev Length\"]= df_merge[\"Rev_summ\"].str.len() \n",
        "fig, ax = plt.subplots(figsize =(10, 7)) \n",
        "ax.hist(df_merge['Rev Length'], bins = [0, 25, 50, 75, 100]) \n",
        "  \n",
        "# Show plot \n",
        "plt.show() "
      ],
      "execution_count": 54,
      "outputs": [
        {
          "output_type": "display_data",
          "data": {
            "image/png": "[encoded data removed]",
            "text/plain": [
              "<Figure size 720x504 with 1 Axes>"
            ]
          },
          "metadata": {
            "tags": [],
            "needs_background": "light"
          }
        }
      ]
    },
    {
      "cell_type": "markdown",
      "metadata": {
        "id": "X9H3sN6x4GM_"
      },
      "source": [
        "# **EXTRACTING SUMMARY AND KEYWORDS FROM REVIEW**"
      ]
    },
    {
      "cell_type": "code",
      "metadata": {
        "id": "Zd0t4mlE4BtB"
      },
      "source": [
        "df_merge.rename(columns={\"IC\":'Product_name',\"Rev_summ\":'prod_des'},inplace=True)"
      ],
      "execution_count": 55,
      "outputs": []
    },
    {
      "cell_type": "code",
      "metadata": {
        "id": "jgFLARVBaQmW"
      },
      "source": [
        "data = df_merge"
      ],
      "execution_count": 56,
      "outputs": []
    },
    {
      "cell_type": "code",
      "metadata": {
        "id": "57U3qPRnaYet",
        "outputId": "ae86e1d6-5274-4840-e38a-81b189a2cb9a",
        "colab": {
          "base_uri": "https://localhost:8080/",
          "height": 67
        }
      },
      "source": [
        "nltk.download('wordnet')"
      ],
      "execution_count": 57,
      "outputs": [
        {
          "output_type": "stream",
          "text": [
            "[nltk_data] Downloading package wordnet to /root/nltk_data...\n",
            "[nltk_data]   Unzipping corpora/wordnet.zip.\n"
          ],
          "name": "stdout"
        },
        {
          "output_type": "execute_result",
          "data": {
            "text/plain": [
              "True"
            ]
          },
          "metadata": {
            "tags": []
          },
          "execution_count": 57
        }
      ]
    },
    {
      "cell_type": "code",
      "metadata": {
        "id": "MZ_3pF2kaZrL"
      },
      "source": [
        "import spacy\n",
        "nlp = spacy.load(\"en_core_web_sm\")"
      ],
      "execution_count": 59,
      "outputs": []
    },
    {
      "cell_type": "code",
      "metadata": {
        "id": "H1wNlcd4akS_",
        "outputId": "f99e58fa-8bad-4991-96c2-8110305dd9b8",
        "colab": {
          "base_uri": "https://localhost:8080/",
          "height": 134
        }
      },
      "source": [
        "nltk.download('stopwords')\n",
        "nltk.download('punkt')\n",
        "nltk.download('wordnet')"
      ],
      "execution_count": 60,
      "outputs": [
        {
          "output_type": "stream",
          "text": [
            "[nltk_data] Downloading package stopwords to /root/nltk_data...\n",
            "[nltk_data]   Unzipping corpora/stopwords.zip.\n",
            "[nltk_data] Downloading package punkt to /root/nltk_data...\n",
            "[nltk_data]   Unzipping tokenizers/punkt.zip.\n",
            "[nltk_data] Downloading package wordnet to /root/nltk_data...\n",
            "[nltk_data]   Package wordnet is already up-to-date!\n"
          ],
          "name": "stdout"
        },
        {
          "output_type": "execute_result",
          "data": {
            "text/plain": [
              "True"
            ]
          },
          "metadata": {
            "tags": []
          },
          "execution_count": 60
        }
      ]
    },
    {
      "cell_type": "code",
      "metadata": {
        "id": "p6zR5kZgalXa"
      },
      "source": [
        "def extract_noun(doc):\n",
        "  return ([i for i in nlp(doc) if i.pos_=='NOUN'],[i for i in nlp(doc) if i.pos_=='PROPN'])"
      ],
      "execution_count": 61,
      "outputs": []
    },
    {
      "cell_type": "code",
      "metadata": {
        "id": "axv1CytwamdC"
      },
      "source": [
        "data['noun_keywords'] =  data['prod_des'].apply(extract_noun)\n"
      ],
      "execution_count": 62,
      "outputs": []
    },
    {
      "cell_type": "code",
      "metadata": {
        "id": "MqvkZOGxan25",
        "outputId": "463bca18-9ae3-4d85-dcc5-0db3d920041a",
        "colab": {
          "base_uri": "https://localhost:8080/",
          "height": 195
        }
      },
      "source": [
        "data.head()"
      ],
      "execution_count": 63,
      "outputs": [
        {
          "output_type": "execute_result",
          "data": {
            "text/html": [
              "<div>\n",
              "<style scoped>\n",
              "    .dataframe tbody tr th:only-of-type {\n",
              "        vertical-align: middle;\n",
              "    }\n",
              "\n",
              "    .dataframe tbody tr th {\n",
              "        vertical-align: top;\n",
              "    }\n",
              "\n",
              "    .dataframe thead th {\n",
              "        text-align: right;\n",
              "    }\n",
              "</style>\n",
              "<table border=\"1\" class=\"dataframe\">\n",
              "  <thead>\n",
              "    <tr style=\"text-align: right;\">\n",
              "      <th></th>\n",
              "      <th>Product_name</th>\n",
              "      <th>prod_des</th>\n",
              "      <th>Rev Length</th>\n",
              "      <th>noun_keywords</th>\n",
              "    </tr>\n",
              "  </thead>\n",
              "  <tbody>\n",
              "    <tr>\n",
              "      <th>0</th>\n",
              "      <td>7508492919</td>\n",
              "      <td>Cute. I can't stop using this case!. Bling cut...</td>\n",
              "      <td>540</td>\n",
              "      <td>([case, case, Bing, price, case, case, tightt,...</td>\n",
              "    </tr>\n",
              "    <tr>\n",
              "      <th>1</th>\n",
              "      <td>7532385086</td>\n",
              "      <td>A waste of money!. One Star. htc evo cover. No...</td>\n",
              "      <td>123</td>\n",
              "      <td>([waste, money, evo, product], [Star, htc, Sta...</td>\n",
              "    </tr>\n",
              "    <tr>\n",
              "      <th>2</th>\n",
              "      <td>7887421268</td>\n",
              "      <td>Five Stars. plastic with suede. good deal. Thi...</td>\n",
              "      <td>190</td>\n",
              "      <td>([Stars, plastic, suede, deal, case, fit], [St...</td>\n",
              "    </tr>\n",
              "    <tr>\n",
              "      <th>3</th>\n",
              "      <td>8199900164</td>\n",
              "      <td>item didn't work. Five Stars. I</td>\n",
              "      <td>31</td>\n",
              "      <td>([item, Stars], [])</td>\n",
              "    </tr>\n",
              "    <tr>\n",
              "      <th>4</th>\n",
              "      <td>8288853439</td>\n",
              "      <td>Galaxy S4 Charger. Works Great.... GOOD BUY. L...</td>\n",
              "      <td>140</td>\n",
              "      <td>([BUY, Stars, charger, Stars, charger], [Galax...</td>\n",
              "    </tr>\n",
              "  </tbody>\n",
              "</table>\n",
              "</div>"
            ],
            "text/plain": [
              "  Product_name  ...                                      noun_keywords\n",
              "0   7508492919  ...  ([case, case, Bing, price, case, case, tightt,...\n",
              "1   7532385086  ...  ([waste, money, evo, product], [Star, htc, Sta...\n",
              "2   7887421268  ...  ([Stars, plastic, suede, deal, case, fit], [St...\n",
              "3   8199900164  ...                                ([item, Stars], [])\n",
              "4   8288853439  ...  ([BUY, Stars, charger, Stars, charger], [Galax...\n",
              "\n",
              "[5 rows x 4 columns]"
            ]
          },
          "metadata": {
            "tags": []
          },
          "execution_count": 63
        }
      ]
    },
    {
      "cell_type": "code",
      "metadata": {
        "id": "4AT3oR1MkJPr"
      },
      "source": [
        "df_noun_out = pd.DataFrame(data = {'Product_name': data['Product_name'],'prod_des':data['prod_des'],'keywords':data['noun_keywords']})\n"
      ],
      "execution_count": 66,
      "outputs": []
    },
    {
      "cell_type": "code",
      "metadata": {
        "id": "goR4hoy6kP2s",
        "outputId": "da17b2f2-a39e-45ab-b13d-7fedf1b0cfd4",
        "colab": {
          "base_uri": "https://localhost:8080/",
          "height": 343
        }
      },
      "source": [
        "df_noun_out.sample(10)\n"
      ],
      "execution_count": 69,
      "outputs": [
        {
          "output_type": "execute_result",
          "data": {
            "text/html": [
              "<div>\n",
              "<style scoped>\n",
              "    .dataframe tbody tr th:only-of-type {\n",
              "        vertical-align: middle;\n",
              "    }\n",
              "\n",
              "    .dataframe tbody tr th {\n",
              "        vertical-align: top;\n",
              "    }\n",
              "\n",
              "    .dataframe thead th {\n",
              "        text-align: right;\n",
              "    }\n",
              "</style>\n",
              "<table border=\"1\" class=\"dataframe\">\n",
              "  <thead>\n",
              "    <tr style=\"text-align: right;\">\n",
              "      <th></th>\n",
              "      <th>Product_name</th>\n",
              "      <th>prod_des</th>\n",
              "      <th>keywords</th>\n",
              "    </tr>\n",
              "  </thead>\n",
              "  <tbody>\n",
              "    <tr>\n",
              "      <th>25496</th>\n",
              "      <td>B00O2E0FWS</td>\n",
              "      <td>Tough case for a tough lady.. Five Stars. Good...</td>\n",
              "      <td>([case, lady, Stars, Coverage, case, case], [C...</td>\n",
              "    </tr>\n",
              "    <tr>\n",
              "      <th>37748</th>\n",
              "      <td>B01541LZNK</td>\n",
              "      <td>Light up from the edges!. Four Stars. Five Sta...</td>\n",
              "      <td>([edges, Stars, Stars, picture, case, people, ...</td>\n",
              "    </tr>\n",
              "    <tr>\n",
              "      <th>1503</th>\n",
              "      <td>B003M2Y4HS</td>\n",
              "      <td>Broken. Pretty good case for what it is. Exact...</td>\n",
              "      <td>([case], [kinda])</td>\n",
              "    </tr>\n",
              "    <tr>\n",
              "      <th>2539</th>\n",
              "      <td>B004MHNBN0</td>\n",
              "      <td>Sooooo Cute!!. She loves it !! Thanks. Five St...</td>\n",
              "      <td>([Thanks, Stars, case, case, Heart, love, cove...</td>\n",
              "    </tr>\n",
              "    <tr>\n",
              "      <th>30283</th>\n",
              "      <td>B00TPG2YQ8</td>\n",
              "      <td>Super good phone. Loving it!. Unexpectedly goo...</td>\n",
              "      <td>([phone, flaw, Stars, Stars], [])</td>\n",
              "    </tr>\n",
              "    <tr>\n",
              "      <th>35455</th>\n",
              "      <td>B011EJNUE8</td>\n",
              "      <td>very inexpensive and works great. Great value....</td>\n",
              "      <td>([value, Stars, Stars, cable, job, charm], [St...</td>\n",
              "    </tr>\n",
              "    <tr>\n",
              "      <th>637</th>\n",
              "      <td>B00170I3ME</td>\n",
              "      <td>Worth the price. great product. Waste of money...</td>\n",
              "      <td>([price, product, Waste, money, Stars], [])</td>\n",
              "    </tr>\n",
              "    <tr>\n",
              "      <th>47151</th>\n",
              "      <td>B01G8MGFF2</td>\n",
              "      <td>It's no runway model, but it is great at prote...</td>\n",
              "      <td>([runway, model, phone, Stars, Product, piece,...</td>\n",
              "    </tr>\n",
              "    <tr>\n",
              "      <th>29075</th>\n",
              "      <td>B00RZNZJX8</td>\n",
              "      <td>Okay.. ... last update to lollipop my phone's ...</td>\n",
              "      <td>([update, phone, battery, power, bank, charger...</td>\n",
              "    </tr>\n",
              "    <tr>\n",
              "      <th>15325</th>\n",
              "      <td>B00FQFFSZ6</td>\n",
              "      <td>I like it. Five Stars. Great product. Melody</td>\n",
              "      <td>([Stars, product, Melody], [])</td>\n",
              "    </tr>\n",
              "  </tbody>\n",
              "</table>\n",
              "</div>"
            ],
            "text/plain": [
              "      Product_name  ...                                           keywords\n",
              "25496   B00O2E0FWS  ...  ([case, lady, Stars, Coverage, case, case], [C...\n",
              "37748   B01541LZNK  ...  ([edges, Stars, Stars, picture, case, people, ...\n",
              "1503    B003M2Y4HS  ...                                  ([case], [kinda])\n",
              "2539    B004MHNBN0  ...  ([Thanks, Stars, case, case, Heart, love, cove...\n",
              "30283   B00TPG2YQ8  ...                  ([phone, flaw, Stars, Stars], [])\n",
              "35455   B011EJNUE8  ...  ([value, Stars, Stars, cable, job, charm], [St...\n",
              "637     B00170I3ME  ...        ([price, product, Waste, money, Stars], [])\n",
              "47151   B01G8MGFF2  ...  ([runway, model, phone, Stars, Product, piece,...\n",
              "29075   B00RZNZJX8  ...  ([update, phone, battery, power, bank, charger...\n",
              "15325   B00FQFFSZ6  ...                     ([Stars, product, Melody], [])\n",
              "\n",
              "[10 rows x 3 columns]"
            ]
          },
          "metadata": {
            "tags": []
          },
          "execution_count": 69
        }
      ]
    },
    {
      "cell_type": "code",
      "metadata": {
        "id": "O1XaFANPkROT"
      },
      "source": [
        "def tuple_to_list(t):\n",
        "  l1,l2 = t\n",
        "  l1.extend(l2)\n",
        "  return [str(i) for i in l1]"
      ],
      "execution_count": 70,
      "outputs": []
    },
    {
      "cell_type": "code",
      "metadata": {
        "id": "WNaJFg0ukmoh"
      },
      "source": [
        "data['keywords'] = df_noun_out['keywords'].apply(tuple_to_list)\n"
      ],
      "execution_count": 71,
      "outputs": []
    },
    {
      "cell_type": "code",
      "metadata": {
        "id": "QZlao7QYknxy",
        "outputId": "5ec4e2c3-e14e-4b91-a351-085538e1e96e",
        "colab": {
          "base_uri": "https://localhost:8080/",
          "height": 218
        }
      },
      "source": [
        "data['keywords']\n"
      ],
      "execution_count": 72,
      "outputs": [
        {
          "output_type": "execute_result",
          "data": {
            "text/plain": [
              "0        [case, case, Bing, price, case, case, tightt, ...\n",
              "1           [waste, money, evo, product, Star, htc, Stars]\n",
              "2        [Stars, plastic, suede, deal, case, fit, Star,...\n",
              "3                                            [item, Stars]\n",
              "4        [BUY, Stars, charger, Stars, charger, Galaxy, ...\n",
              "                               ...                        \n",
              "48128    [headphone, holes, case, holster, case, needs,...\n",
              "48129    [experience, one, headset, device, family, fun...\n",
              "48130    [Stars, product, nylon, cord, cable, thanks, c...\n",
              "48131                    [cable, cable, Stars, Stars, Buy]\n",
              "48132           [crack, Stars, cover, folks, money, price]\n",
              "Name: keywords, Length: 48133, dtype: object"
            ]
          },
          "metadata": {
            "tags": []
          },
          "execution_count": 72
        }
      ]
    },
    {
      "cell_type": "code",
      "metadata": {
        "id": "OEWxCwDukqMK"
      },
      "source": [
        "df = [' '.join(i) for i in data['keywords']]\n"
      ],
      "execution_count": 73,
      "outputs": []
    },
    {
      "cell_type": "code",
      "metadata": {
        "id": "rcno_ig4ksD6",
        "outputId": "693cbbf8-7c77-4e8e-e220-50073f6e552b",
        "colab": {
          "base_uri": "https://localhost:8080/",
          "height": 50
        }
      },
      "source": [
        "vectorizer1 = TfidfVectorizer(df,lowercase = True, analyzer='word', stop_words='english', min_df = 0.1,max_df = 0.9)\n",
        "tfidfmat1 = vectorizer1.fit_transform(df)\n",
        "print(\"TFIDF shape: \", tfidfmat1.shape)\n",
        "print(\"Terms in TFIDF: \",vectorizer1.get_feature_names())\n",
        "terms = vectorizer1.get_feature_names()"
      ],
      "execution_count": 74,
      "outputs": [
        {
          "output_type": "stream",
          "text": [
            "TFIDF shape:  (48133, 11)\n",
            "Terms in TFIDF:  ['case', 'fit', 'iphone', 'phone', 'price', 'product', 'protection', 'quality', 'screen', 'star', 'stars']\n"
          ],
          "name": "stdout"
        }
      ]
    },
    {
      "cell_type": "code",
      "metadata": {
        "id": "jmqwRWz3ktbm"
      },
      "source": [
        "def topn(tfidfmat,n):\n",
        "  lst = []\n",
        "  lst = [tfidfmat.todense()[i].argsort()[:,-n:] for i in range(tfidfmat.shape[0])]\n",
        "  return lst"
      ],
      "execution_count": 75,
      "outputs": []
    },
    {
      "cell_type": "code",
      "metadata": {
        "id": "_bEam3Q0kxSq"
      },
      "source": [
        "\n",
        "def get_topn_multi_keywords(tfidfmat,n,terms):\n",
        "  topn_lst_indices = topn(tfidfmat,n)\n",
        "  topn_lst_indices = np.array(topn_lst_indices).reshape((tfidfmat.shape[0],n))\n",
        "  doc_keywords = [[terms[i] for i in l] for l in topn_lst_indices]\n",
        "  return doc_keywords"
      ],
      "execution_count": 76,
      "outputs": []
    },
    {
      "cell_type": "code",
      "metadata": {
        "id": "JpcLN_ujkyvu",
        "outputId": "6830ba27-154a-4775-e76f-47bd7b760e30",
        "colab": {
          "base_uri": "https://localhost:8080/",
          "height": 402
        }
      },
      "source": [
        "doc_keywords = get_topn_multi_keywords(tfidfmat1,3,terms)\n",
        "df_tfidf_out1 = pd.DataFrame(data = {'Product_name': data['Product_name'],'prod_des':data['prod_des'],'multi_keywords':doc_keywords})\n",
        "df_tfidf_out1"
      ],
      "execution_count": 77,
      "outputs": [
        {
          "output_type": "execute_result",
          "data": {
            "text/html": [
              "<div>\n",
              "<style scoped>\n",
              "    .dataframe tbody tr th:only-of-type {\n",
              "        vertical-align: middle;\n",
              "    }\n",
              "\n",
              "    .dataframe tbody tr th {\n",
              "        vertical-align: top;\n",
              "    }\n",
              "\n",
              "    .dataframe thead th {\n",
              "        text-align: right;\n",
              "    }\n",
              "</style>\n",
              "<table border=\"1\" class=\"dataframe\">\n",
              "  <thead>\n",
              "    <tr style=\"text-align: right;\">\n",
              "      <th></th>\n",
              "      <th>Product_name</th>\n",
              "      <th>prod_des</th>\n",
              "      <th>multi_keywords</th>\n",
              "    </tr>\n",
              "  </thead>\n",
              "  <tbody>\n",
              "    <tr>\n",
              "      <th>0</th>\n",
              "      <td>7508492919</td>\n",
              "      <td>Cute. I can't stop using this case!. Bling cut...</td>\n",
              "      <td>[iphone, phone, case]</td>\n",
              "    </tr>\n",
              "    <tr>\n",
              "      <th>1</th>\n",
              "      <td>7532385086</td>\n",
              "      <td>A waste of money!. One Star. htc evo cover. No...</td>\n",
              "      <td>[stars, product, star]</td>\n",
              "    </tr>\n",
              "    <tr>\n",
              "      <th>2</th>\n",
              "      <td>7887421268</td>\n",
              "      <td>Five Stars. plastic with suede. good deal. Thi...</td>\n",
              "      <td>[stars, star, fit]</td>\n",
              "    </tr>\n",
              "    <tr>\n",
              "      <th>3</th>\n",
              "      <td>8199900164</td>\n",
              "      <td>item didn't work. Five Stars. I</td>\n",
              "      <td>[screen, star, stars]</td>\n",
              "    </tr>\n",
              "    <tr>\n",
              "      <th>4</th>\n",
              "      <td>8288853439</td>\n",
              "      <td>Galaxy S4 Charger. Works Great.... GOOD BUY. L...</td>\n",
              "      <td>[screen, star, stars]</td>\n",
              "    </tr>\n",
              "    <tr>\n",
              "      <th>...</th>\n",
              "      <td>...</td>\n",
              "      <td>...</td>\n",
              "      <td>...</td>\n",
              "    </tr>\n",
              "    <tr>\n",
              "      <th>48128</th>\n",
              "      <td>B01HJBS5C2</td>\n",
              "      <td>(Hybrid Carbon Fiber) Charger and headphone ho...</td>\n",
              "      <td>[stars, star, case]</td>\n",
              "    </tr>\n",
              "    <tr>\n",
              "      <th>48129</th>\n",
              "      <td>B01HJC7N4C</td>\n",
              "      <td>My first experience with VR, and it's a very p...</td>\n",
              "      <td>[screen, star, stars]</td>\n",
              "    </tr>\n",
              "    <tr>\n",
              "      <th>48130</th>\n",
              "      <td>B01HJCN1UC</td>\n",
              "      <td>Four Stars. Five Stars. Durable and well made....</td>\n",
              "      <td>[star, product, stars]</td>\n",
              "    </tr>\n",
              "    <tr>\n",
              "      <th>48131</th>\n",
              "      <td>B01HJCN55I</td>\n",
              "      <td>I really like the cable. Good cable. Worth.. G...</td>\n",
              "      <td>[screen, star, stars]</td>\n",
              "    </tr>\n",
              "    <tr>\n",
              "      <th>48132</th>\n",
              "      <td>B01HJH9IN6</td>\n",
              "      <td>Looked great, before crack.. Five Stars. Good ...</td>\n",
              "      <td>[star, stars, price]</td>\n",
              "    </tr>\n",
              "  </tbody>\n",
              "</table>\n",
              "<p>48133 rows × 3 columns</p>\n",
              "</div>"
            ],
            "text/plain": [
              "      Product_name  ...          multi_keywords\n",
              "0       7508492919  ...   [iphone, phone, case]\n",
              "1       7532385086  ...  [stars, product, star]\n",
              "2       7887421268  ...      [stars, star, fit]\n",
              "3       8199900164  ...   [screen, star, stars]\n",
              "4       8288853439  ...   [screen, star, stars]\n",
              "...            ...  ...                     ...\n",
              "48128   B01HJBS5C2  ...     [stars, star, case]\n",
              "48129   B01HJC7N4C  ...   [screen, star, stars]\n",
              "48130   B01HJCN1UC  ...  [star, product, stars]\n",
              "48131   B01HJCN55I  ...   [screen, star, stars]\n",
              "48132   B01HJH9IN6  ...    [star, stars, price]\n",
              "\n",
              "[48133 rows x 3 columns]"
            ]
          },
          "metadata": {
            "tags": []
          },
          "execution_count": 77
        }
      ]
    },
    {
      "cell_type": "code",
      "metadata": {
        "id": "3nJYW8dzk0EV"
      },
      "source": [
        "def preprocessing(s):\n",
        "  s = re.sub('[!\"#$%&\\'()*+,-./:;<=>?@[\\\\]^_`{|}~]','',s)\n",
        "  s = re.sub(r\"http\\S+\",'', s)  \n",
        "  d = nlp(s)\n",
        "  lemmas = [token.lemma_ for token in d if not token.is_stop]\n",
        "  return lemmas"
      ],
      "execution_count": 78,
      "outputs": []
    },
    {
      "cell_type": "code",
      "metadata": {
        "id": "fMRaiCoymcnI"
      },
      "source": [
        "pre_df = [preprocessing(i) for i in df]\n"
      ],
      "execution_count": 79,
      "outputs": []
    },
    {
      "cell_type": "code",
      "metadata": {
        "id": "8w9lfx9xmwJB",
        "outputId": "1d19a266-9d15-4bc3-828b-71a928baf473",
        "colab": {
          "base_uri": "https://localhost:8080/",
          "height": 554
        }
      },
      "source": [
        "pre_df[0]\n"
      ],
      "execution_count": 80,
      "outputs": [
        {
          "output_type": "execute_result",
          "data": {
            "text/plain": [
              "['case',\n",
              " 'case',\n",
              " 'Bing',\n",
              " 'price',\n",
              " 'case',\n",
              " 'case',\n",
              " 'tightt',\n",
              " 'plastic',\n",
              " 'phone',\n",
              " 'cover',\n",
              " 'ADORABLE',\n",
              " 'REST',\n",
              " 'Bling',\n",
              " 'bow',\n",
              " 'case',\n",
              " 'case',\n",
              " 'Great',\n",
              " 'Gift',\n",
              " 'Luv',\n",
              " 'luv',\n",
              " 'luv',\n",
              " 'iPhone',\n",
              " 'BEAUTIFUL',\n",
              " 'ble',\n",
              " 'PHONE',\n",
              " 'CASE',\n",
              " 'star',\n",
              " 'GONNA',\n",
              " 'sara',\n",
              " 'Cute',\n",
              " 'Crystal',\n",
              " 'Bow']"
            ]
          },
          "metadata": {
            "tags": []
          },
          "execution_count": 80
        }
      ]
    },
    {
      "cell_type": "code",
      "metadata": {
        "id": "CuhE4XAiqJg2"
      },
      "source": [
        "docs = [' '.join(i) for i in pre_df]"
      ],
      "execution_count": 81,
      "outputs": []
    },
    {
      "cell_type": "code",
      "metadata": {
        "id": "GELN83F4qNAs",
        "outputId": "538518d4-1b5e-401d-84e6-2ed1f255e2ee",
        "colab": {
          "base_uri": "https://localhost:8080/",
          "height": 34
        }
      },
      "source": [
        "vectorizer2 = TfidfVectorizer(docs,lowercase = True, min_df = 0.05,max_df = 0.95)\n",
        "tfidfmat2 = vectorizer2.fit_transform(docs)\n",
        "tfidfmat2.shape"
      ],
      "execution_count": 82,
      "outputs": [
        {
          "output_type": "execute_result",
          "data": {
            "text/plain": [
              "(48133, 30)"
            ]
          },
          "metadata": {
            "tags": []
          },
          "execution_count": 82
        }
      ]
    },
    {
      "cell_type": "code",
      "metadata": {
        "id": "kuR50yoRqOlQ",
        "outputId": "125984c3-28d4-454e-dc7b-a19d0003954b",
        "colab": {
          "base_uri": "https://localhost:8080/",
          "height": 34
        }
      },
      "source": [
        "vectorizer2.get_feature_names()[:5]\n"
      ],
      "execution_count": 83,
      "outputs": [
        {
          "output_type": "execute_result",
          "data": {
            "text/plain": [
              "['battery', 'buy', 'case', 'charge', 'charger']"
            ]
          },
          "metadata": {
            "tags": []
          },
          "execution_count": 83
        }
      ]
    },
    {
      "cell_type": "code",
      "metadata": {
        "id": "ShjMC5H9qQpW",
        "outputId": "7de3317f-9141-4b52-e54a-9e996bc5c7bd",
        "colab": {
          "base_uri": "https://localhost:8080/",
          "height": 402
        }
      },
      "source": [
        "max_ind = [np.argmax(i) for i in tfidfmat2.todense()]\n",
        "terms2 = vectorizer2.get_feature_names()\n",
        "doc_keywords = [terms2[i] for i in max_ind]\n",
        "df_tfidf_out2 = pd.DataFrame(data = {'Product_name': data['Product_name'],'prod_des':data['prod_des'],'keywords':doc_keywords})\n",
        "df_tfidf_out2"
      ],
      "execution_count": 84,
      "outputs": [
        {
          "output_type": "execute_result",
          "data": {
            "text/html": [
              "<div>\n",
              "<style scoped>\n",
              "    .dataframe tbody tr th:only-of-type {\n",
              "        vertical-align: middle;\n",
              "    }\n",
              "\n",
              "    .dataframe tbody tr th {\n",
              "        vertical-align: top;\n",
              "    }\n",
              "\n",
              "    .dataframe thead th {\n",
              "        text-align: right;\n",
              "    }\n",
              "</style>\n",
              "<table border=\"1\" class=\"dataframe\">\n",
              "  <thead>\n",
              "    <tr style=\"text-align: right;\">\n",
              "      <th></th>\n",
              "      <th>Product_name</th>\n",
              "      <th>prod_des</th>\n",
              "      <th>keywords</th>\n",
              "    </tr>\n",
              "  </thead>\n",
              "  <tbody>\n",
              "    <tr>\n",
              "      <th>0</th>\n",
              "      <td>7508492919</td>\n",
              "      <td>Cute. I can't stop using this case!. Bling cut...</td>\n",
              "      <td>case</td>\n",
              "    </tr>\n",
              "    <tr>\n",
              "      <th>1</th>\n",
              "      <td>7532385086</td>\n",
              "      <td>A waste of money!. One Star. htc evo cover. No...</td>\n",
              "      <td>money</td>\n",
              "    </tr>\n",
              "    <tr>\n",
              "      <th>2</th>\n",
              "      <td>7887421268</td>\n",
              "      <td>Five Stars. plastic with suede. good deal. Thi...</td>\n",
              "      <td>protector</td>\n",
              "    </tr>\n",
              "    <tr>\n",
              "      <th>3</th>\n",
              "      <td>8199900164</td>\n",
              "      <td>item didn't work. Five Stars. I</td>\n",
              "      <td>item</td>\n",
              "    </tr>\n",
              "    <tr>\n",
              "      <th>4</th>\n",
              "      <td>8288853439</td>\n",
              "      <td>Galaxy S4 Charger. Works Great.... GOOD BUY. L...</td>\n",
              "      <td>charger</td>\n",
              "    </tr>\n",
              "    <tr>\n",
              "      <th>...</th>\n",
              "      <td>...</td>\n",
              "      <td>...</td>\n",
              "      <td>...</td>\n",
              "    </tr>\n",
              "    <tr>\n",
              "      <th>48128</th>\n",
              "      <td>B01HJBS5C2</td>\n",
              "      <td>(Hybrid Carbon Fiber) Charger and headphone ho...</td>\n",
              "      <td>phone</td>\n",
              "    </tr>\n",
              "    <tr>\n",
              "      <th>48129</th>\n",
              "      <td>B01HJC7N4C</td>\n",
              "      <td>My first experience with VR, and it's a very p...</td>\n",
              "      <td>stars</td>\n",
              "    </tr>\n",
              "    <tr>\n",
              "      <th>48130</th>\n",
              "      <td>B01HJCN1UC</td>\n",
              "      <td>Four Stars. Five Stars. Durable and well made....</td>\n",
              "      <td>star</td>\n",
              "    </tr>\n",
              "    <tr>\n",
              "      <th>48131</th>\n",
              "      <td>B01HJCN55I</td>\n",
              "      <td>I really like the cable. Good cable. Worth.. G...</td>\n",
              "      <td>buy</td>\n",
              "    </tr>\n",
              "    <tr>\n",
              "      <th>48132</th>\n",
              "      <td>B01HJH9IN6</td>\n",
              "      <td>Looked great, before crack.. Five Stars. Good ...</td>\n",
              "      <td>cover</td>\n",
              "    </tr>\n",
              "  </tbody>\n",
              "</table>\n",
              "<p>48133 rows × 3 columns</p>\n",
              "</div>"
            ],
            "text/plain": [
              "      Product_name  ...   keywords\n",
              "0       7508492919  ...       case\n",
              "1       7532385086  ...      money\n",
              "2       7887421268  ...  protector\n",
              "3       8199900164  ...       item\n",
              "4       8288853439  ...    charger\n",
              "...            ...  ...        ...\n",
              "48128   B01HJBS5C2  ...      phone\n",
              "48129   B01HJC7N4C  ...      stars\n",
              "48130   B01HJCN1UC  ...       star\n",
              "48131   B01HJCN55I  ...        buy\n",
              "48132   B01HJH9IN6  ...      cover\n",
              "\n",
              "[48133 rows x 3 columns]"
            ]
          },
          "metadata": {
            "tags": []
          },
          "execution_count": 84
        }
      ]
    },
    {
      "cell_type": "code",
      "metadata": {
        "id": "Hi1dTGOJqScY",
        "outputId": "4172813f-7327-44d4-e228-d931bc84ca39",
        "colab": {
          "base_uri": "https://localhost:8080/",
          "height": 402
        }
      },
      "source": [
        "doc_keywords = get_topn_multi_keywords(tfidfmat2,3,terms2)\n",
        "df_tfidf_out2 = pd.DataFrame(data = {'Product_name': data['Product_name'],'prod_des':data['prod_des'],'multi_keywords':doc_keywords})\n",
        "df_tfidf_out2"
      ],
      "execution_count": 85,
      "outputs": [
        {
          "output_type": "execute_result",
          "data": {
            "text/html": [
              "<div>\n",
              "<style scoped>\n",
              "    .dataframe tbody tr th:only-of-type {\n",
              "        vertical-align: middle;\n",
              "    }\n",
              "\n",
              "    .dataframe tbody tr th {\n",
              "        vertical-align: top;\n",
              "    }\n",
              "\n",
              "    .dataframe thead th {\n",
              "        text-align: right;\n",
              "    }\n",
              "</style>\n",
              "<table border=\"1\" class=\"dataframe\">\n",
              "  <thead>\n",
              "    <tr style=\"text-align: right;\">\n",
              "      <th></th>\n",
              "      <th>Product_name</th>\n",
              "      <th>prod_des</th>\n",
              "      <th>multi_keywords</th>\n",
              "    </tr>\n",
              "  </thead>\n",
              "  <tbody>\n",
              "    <tr>\n",
              "      <th>0</th>\n",
              "      <td>7508492919</td>\n",
              "      <td>Cute. I can't stop using this case!. Bling cut...</td>\n",
              "      <td>[cover, phone, case]</td>\n",
              "    </tr>\n",
              "    <tr>\n",
              "      <th>1</th>\n",
              "      <td>7532385086</td>\n",
              "      <td>A waste of money!. One Star. htc evo cover. No...</td>\n",
              "      <td>[product, star, money]</td>\n",
              "    </tr>\n",
              "    <tr>\n",
              "      <th>2</th>\n",
              "      <td>7887421268</td>\n",
              "      <td>Five Stars. plastic with suede. good deal. Thi...</td>\n",
              "      <td>[star, fit, protector]</td>\n",
              "    </tr>\n",
              "    <tr>\n",
              "      <th>3</th>\n",
              "      <td>8199900164</td>\n",
              "      <td>item didn't work. Five Stars. I</td>\n",
              "      <td>[work, star, item]</td>\n",
              "    </tr>\n",
              "    <tr>\n",
              "      <th>4</th>\n",
              "      <td>8288853439</td>\n",
              "      <td>Galaxy S4 Charger. Works Great.... GOOD BUY. L...</td>\n",
              "      <td>[buy, galaxy, charger]</td>\n",
              "    </tr>\n",
              "    <tr>\n",
              "      <th>...</th>\n",
              "      <td>...</td>\n",
              "      <td>...</td>\n",
              "      <td>...</td>\n",
              "    </tr>\n",
              "    <tr>\n",
              "      <th>48128</th>\n",
              "      <td>B01HJBS5C2</td>\n",
              "      <td>(Hybrid Carbon Fiber) Charger and headphone ho...</td>\n",
              "      <td>[stars, case, phone]</td>\n",
              "    </tr>\n",
              "    <tr>\n",
              "      <th>48129</th>\n",
              "      <td>B01HJC7N4C</td>\n",
              "      <td>My first experience with VR, and it's a very p...</td>\n",
              "      <td>[job, work, stars]</td>\n",
              "    </tr>\n",
              "    <tr>\n",
              "      <th>48130</th>\n",
              "      <td>B01HJCN1UC</td>\n",
              "      <td>Four Stars. Five Stars. Durable and well made....</td>\n",
              "      <td>[work, product, star]</td>\n",
              "    </tr>\n",
              "    <tr>\n",
              "      <th>48131</th>\n",
              "      <td>B01HJCN55I</td>\n",
              "      <td>I really like the cable. Good cable. Worth.. G...</td>\n",
              "      <td>[star, stars, buy]</td>\n",
              "    </tr>\n",
              "    <tr>\n",
              "      <th>48132</th>\n",
              "      <td>B01HJH9IN6</td>\n",
              "      <td>Looked great, before crack.. Five Stars. Good ...</td>\n",
              "      <td>[price, money, cover]</td>\n",
              "    </tr>\n",
              "  </tbody>\n",
              "</table>\n",
              "<p>48133 rows × 3 columns</p>\n",
              "</div>"
            ],
            "text/plain": [
              "      Product_name  ...          multi_keywords\n",
              "0       7508492919  ...    [cover, phone, case]\n",
              "1       7532385086  ...  [product, star, money]\n",
              "2       7887421268  ...  [star, fit, protector]\n",
              "3       8199900164  ...      [work, star, item]\n",
              "4       8288853439  ...  [buy, galaxy, charger]\n",
              "...            ...  ...                     ...\n",
              "48128   B01HJBS5C2  ...    [stars, case, phone]\n",
              "48129   B01HJC7N4C  ...      [job, work, stars]\n",
              "48130   B01HJCN1UC  ...   [work, product, star]\n",
              "48131   B01HJCN55I  ...      [star, stars, buy]\n",
              "48132   B01HJH9IN6  ...   [price, money, cover]\n",
              "\n",
              "[48133 rows x 3 columns]"
            ]
          },
          "metadata": {
            "tags": []
          },
          "execution_count": 85
        }
      ]
    },
    {
      "cell_type": "code",
      "metadata": {
        "id": "pfDF58txqVT6",
        "outputId": "d9966890-3608-4407-b34a-3619b24b59ef",
        "colab": {
          "base_uri": "https://localhost:8080/",
          "height": 34
        }
      },
      "source": [
        "vectorizer3 = TfidfVectorizer(docs,lowercase = True, min_df = 0.1,max_df = 0.9)\n",
        "tfidfmat3 = vectorizer3.fit_transform(docs)\n",
        "tfidfmat3.shape"
      ],
      "execution_count": 86,
      "outputs": [
        {
          "output_type": "execute_result",
          "data": {
            "text/plain": [
              "(48133, 11)"
            ]
          },
          "metadata": {
            "tags": []
          },
          "execution_count": 86
        }
      ]
    },
    {
      "cell_type": "code",
      "metadata": {
        "id": "nFd3q_1rrN5V",
        "outputId": "16c5b9b3-bdf8-4885-d09e-09205dd98e64",
        "colab": {
          "base_uri": "https://localhost:8080/",
          "height": 402
        }
      },
      "source": [
        "max_ind = [np.argmax(i) for i in tfidfmat3.todense()]\n",
        "terms3 = vectorizer3.get_feature_names()\n",
        "doc_keywords = [terms3[i] for i in max_ind]\n",
        "df_tfidf_out3 = pd.DataFrame(data = {'Product_name': data['Product_name'],'prod_des':data['prod_des'],'keywords':doc_keywords})\n",
        "df_tfidf_out3"
      ],
      "execution_count": 87,
      "outputs": [
        {
          "output_type": "execute_result",
          "data": {
            "text/html": [
              "<div>\n",
              "<style scoped>\n",
              "    .dataframe tbody tr th:only-of-type {\n",
              "        vertical-align: middle;\n",
              "    }\n",
              "\n",
              "    .dataframe tbody tr th {\n",
              "        vertical-align: top;\n",
              "    }\n",
              "\n",
              "    .dataframe thead th {\n",
              "        text-align: right;\n",
              "    }\n",
              "</style>\n",
              "<table border=\"1\" class=\"dataframe\">\n",
              "  <thead>\n",
              "    <tr style=\"text-align: right;\">\n",
              "      <th></th>\n",
              "      <th>Product_name</th>\n",
              "      <th>prod_des</th>\n",
              "      <th>keywords</th>\n",
              "    </tr>\n",
              "  </thead>\n",
              "  <tbody>\n",
              "    <tr>\n",
              "      <th>0</th>\n",
              "      <td>7508492919</td>\n",
              "      <td>Cute. I can't stop using this case!. Bling cut...</td>\n",
              "      <td>case</td>\n",
              "    </tr>\n",
              "    <tr>\n",
              "      <th>1</th>\n",
              "      <td>7532385086</td>\n",
              "      <td>A waste of money!. One Star. htc evo cover. No...</td>\n",
              "      <td>star</td>\n",
              "    </tr>\n",
              "    <tr>\n",
              "      <th>2</th>\n",
              "      <td>7887421268</td>\n",
              "      <td>Five Stars. plastic with suede. good deal. Thi...</td>\n",
              "      <td>fit</td>\n",
              "    </tr>\n",
              "    <tr>\n",
              "      <th>3</th>\n",
              "      <td>8199900164</td>\n",
              "      <td>item didn't work. Five Stars. I</td>\n",
              "      <td>star</td>\n",
              "    </tr>\n",
              "    <tr>\n",
              "      <th>4</th>\n",
              "      <td>8288853439</td>\n",
              "      <td>Galaxy S4 Charger. Works Great.... GOOD BUY. L...</td>\n",
              "      <td>star</td>\n",
              "    </tr>\n",
              "    <tr>\n",
              "      <th>...</th>\n",
              "      <td>...</td>\n",
              "      <td>...</td>\n",
              "      <td>...</td>\n",
              "    </tr>\n",
              "    <tr>\n",
              "      <th>48128</th>\n",
              "      <td>B01HJBS5C2</td>\n",
              "      <td>(Hybrid Carbon Fiber) Charger and headphone ho...</td>\n",
              "      <td>phone</td>\n",
              "    </tr>\n",
              "    <tr>\n",
              "      <th>48129</th>\n",
              "      <td>B01HJC7N4C</td>\n",
              "      <td>My first experience with VR, and it's a very p...</td>\n",
              "      <td>stars</td>\n",
              "    </tr>\n",
              "    <tr>\n",
              "      <th>48130</th>\n",
              "      <td>B01HJCN1UC</td>\n",
              "      <td>Four Stars. Five Stars. Durable and well made....</td>\n",
              "      <td>star</td>\n",
              "    </tr>\n",
              "    <tr>\n",
              "      <th>48131</th>\n",
              "      <td>B01HJCN55I</td>\n",
              "      <td>I really like the cable. Good cable. Worth.. G...</td>\n",
              "      <td>stars</td>\n",
              "    </tr>\n",
              "    <tr>\n",
              "      <th>48132</th>\n",
              "      <td>B01HJH9IN6</td>\n",
              "      <td>Looked great, before crack.. Five Stars. Good ...</td>\n",
              "      <td>price</td>\n",
              "    </tr>\n",
              "  </tbody>\n",
              "</table>\n",
              "<p>48133 rows × 3 columns</p>\n",
              "</div>"
            ],
            "text/plain": [
              "      Product_name                                           prod_des keywords\n",
              "0       7508492919  Cute. I can't stop using this case!. Bling cut...     case\n",
              "1       7532385086  A waste of money!. One Star. htc evo cover. No...     star\n",
              "2       7887421268  Five Stars. plastic with suede. good deal. Thi...      fit\n",
              "3       8199900164                    item didn't work. Five Stars. I     star\n",
              "4       8288853439  Galaxy S4 Charger. Works Great.... GOOD BUY. L...     star\n",
              "...            ...                                                ...      ...\n",
              "48128   B01HJBS5C2  (Hybrid Carbon Fiber) Charger and headphone ho...    phone\n",
              "48129   B01HJC7N4C  My first experience with VR, and it's a very p...    stars\n",
              "48130   B01HJCN1UC  Four Stars. Five Stars. Durable and well made....     star\n",
              "48131   B01HJCN55I  I really like the cable. Good cable. Worth.. G...    stars\n",
              "48132   B01HJH9IN6  Looked great, before crack.. Five Stars. Good ...    price\n",
              "\n",
              "[48133 rows x 3 columns]"
            ]
          },
          "metadata": {
            "tags": []
          },
          "execution_count": 87
        }
      ]
    },
    {
      "cell_type": "code",
      "metadata": {
        "id": "xMwg23GrrP6f",
        "outputId": "7ed6dd1b-6ba3-41c8-a79f-3c5106d5675f",
        "colab": {
          "base_uri": "https://localhost:8080/",
          "height": 402
        }
      },
      "source": [
        "doc_multi_keywords = get_topn_multi_keywords(tfidfmat3,3,terms3)\n",
        "df_tfidf_out3 = pd.DataFrame(data = {'Product_name': data['Product_name'],'prod_des':data['prod_des'],'keywords':doc_multi_keywords})\n",
        "df_tfidf_out3"
      ],
      "execution_count": 88,
      "outputs": [
        {
          "output_type": "execute_result",
          "data": {
            "text/html": [
              "<div>\n",
              "<style scoped>\n",
              "    .dataframe tbody tr th:only-of-type {\n",
              "        vertical-align: middle;\n",
              "    }\n",
              "\n",
              "    .dataframe tbody tr th {\n",
              "        vertical-align: top;\n",
              "    }\n",
              "\n",
              "    .dataframe thead th {\n",
              "        text-align: right;\n",
              "    }\n",
              "</style>\n",
              "<table border=\"1\" class=\"dataframe\">\n",
              "  <thead>\n",
              "    <tr style=\"text-align: right;\">\n",
              "      <th></th>\n",
              "      <th>Product_name</th>\n",
              "      <th>prod_des</th>\n",
              "      <th>keywords</th>\n",
              "    </tr>\n",
              "  </thead>\n",
              "  <tbody>\n",
              "    <tr>\n",
              "      <th>0</th>\n",
              "      <td>7508492919</td>\n",
              "      <td>Cute. I can't stop using this case!. Bling cut...</td>\n",
              "      <td>[iphone, phone, case]</td>\n",
              "    </tr>\n",
              "    <tr>\n",
              "      <th>1</th>\n",
              "      <td>7532385086</td>\n",
              "      <td>A waste of money!. One Star. htc evo cover. No...</td>\n",
              "      <td>[stars, product, star]</td>\n",
              "    </tr>\n",
              "    <tr>\n",
              "      <th>2</th>\n",
              "      <td>7887421268</td>\n",
              "      <td>Five Stars. plastic with suede. good deal. Thi...</td>\n",
              "      <td>[case, star, fit]</td>\n",
              "    </tr>\n",
              "    <tr>\n",
              "      <th>3</th>\n",
              "      <td>8199900164</td>\n",
              "      <td>item didn't work. Five Stars. I</td>\n",
              "      <td>[screen, stars, star]</td>\n",
              "    </tr>\n",
              "    <tr>\n",
              "      <th>4</th>\n",
              "      <td>8288853439</td>\n",
              "      <td>Galaxy S4 Charger. Works Great.... GOOD BUY. L...</td>\n",
              "      <td>[screen, stars, star]</td>\n",
              "    </tr>\n",
              "    <tr>\n",
              "      <th>...</th>\n",
              "      <td>...</td>\n",
              "      <td>...</td>\n",
              "      <td>...</td>\n",
              "    </tr>\n",
              "    <tr>\n",
              "      <th>48128</th>\n",
              "      <td>B01HJBS5C2</td>\n",
              "      <td>(Hybrid Carbon Fiber) Charger and headphone ho...</td>\n",
              "      <td>[stars, case, phone]</td>\n",
              "    </tr>\n",
              "    <tr>\n",
              "      <th>48129</th>\n",
              "      <td>B01HJC7N4C</td>\n",
              "      <td>My first experience with VR, and it's a very p...</td>\n",
              "      <td>[screen, star, stars]</td>\n",
              "    </tr>\n",
              "    <tr>\n",
              "      <th>48130</th>\n",
              "      <td>B01HJCN1UC</td>\n",
              "      <td>Four Stars. Five Stars. Durable and well made....</td>\n",
              "      <td>[stars, product, star]</td>\n",
              "    </tr>\n",
              "    <tr>\n",
              "      <th>48131</th>\n",
              "      <td>B01HJCN55I</td>\n",
              "      <td>I really like the cable. Good cable. Worth.. G...</td>\n",
              "      <td>[screen, star, stars]</td>\n",
              "    </tr>\n",
              "    <tr>\n",
              "      <th>48132</th>\n",
              "      <td>B01HJH9IN6</td>\n",
              "      <td>Looked great, before crack.. Five Stars. Good ...</td>\n",
              "      <td>[star, stars, price]</td>\n",
              "    </tr>\n",
              "  </tbody>\n",
              "</table>\n",
              "<p>48133 rows × 3 columns</p>\n",
              "</div>"
            ],
            "text/plain": [
              "      Product_name  ...                keywords\n",
              "0       7508492919  ...   [iphone, phone, case]\n",
              "1       7532385086  ...  [stars, product, star]\n",
              "2       7887421268  ...       [case, star, fit]\n",
              "3       8199900164  ...   [screen, stars, star]\n",
              "4       8288853439  ...   [screen, stars, star]\n",
              "...            ...  ...                     ...\n",
              "48128   B01HJBS5C2  ...    [stars, case, phone]\n",
              "48129   B01HJC7N4C  ...   [screen, star, stars]\n",
              "48130   B01HJCN1UC  ...  [stars, product, star]\n",
              "48131   B01HJCN55I  ...   [screen, star, stars]\n",
              "48132   B01HJH9IN6  ...    [star, stars, price]\n",
              "\n",
              "[48133 rows x 3 columns]"
            ]
          },
          "metadata": {
            "tags": []
          },
          "execution_count": 88
        }
      ]
    },
    {
      "cell_type": "code",
      "metadata": {
        "id": "g8XcgmPOrRtd",
        "outputId": "59e6edab-428e-414f-fddd-098e24b94d43",
        "colab": {
          "base_uri": "https://localhost:8080/",
          "height": 34
        }
      },
      "source": [
        "\n",
        "vectorizer4 = TfidfVectorizer(docs,lowercase = True, min_df = 0.05,max_df = 0.95,ngram_range=(1,2))\n",
        "tfidfmat4 = vectorizer4.fit_transform(docs)\n",
        "tfidfmat4.shape"
      ],
      "execution_count": 89,
      "outputs": [
        {
          "output_type": "execute_result",
          "data": {
            "text/plain": [
              "(48133, 40)"
            ]
          },
          "metadata": {
            "tags": []
          },
          "execution_count": 89
        }
      ]
    },
    {
      "cell_type": "code",
      "metadata": {
        "id": "g_HNSgAsr9oE"
      },
      "source": [
        "terms4 =  vectorizer4.get_feature_names()\n",
        "doc_multi_keywords4 = get_topn_multi_keywords(tfidfmat4,3,terms4)"
      ],
      "execution_count": 90,
      "outputs": []
    },
    {
      "cell_type": "code",
      "metadata": {
        "id": "B5xTizEYr_5-",
        "outputId": "c43c6614-68ae-48b3-bdc5-c8ffe9fa0020",
        "colab": {
          "base_uri": "https://localhost:8080/",
          "height": 185
        }
      },
      "source": [
        "terms4[:10]\n"
      ],
      "execution_count": 91,
      "outputs": [
        {
          "output_type": "execute_result",
          "data": {
            "text/plain": [
              "['battery',\n",
              " 'buy',\n",
              " 'case',\n",
              " 'case case',\n",
              " 'case phone',\n",
              " 'case star',\n",
              " 'case stars',\n",
              " 'charge',\n",
              " 'charger',\n",
              " 'color']"
            ]
          },
          "metadata": {
            "tags": []
          },
          "execution_count": 91
        }
      ]
    },
    {
      "cell_type": "code",
      "metadata": {
        "id": "e068BDRKtsws",
        "outputId": "dd407a82-262a-4ca0-c7fa-fc6d2c73c752",
        "colab": {
          "base_uri": "https://localhost:8080/",
          "height": 402
        }
      },
      "source": [
        "df_tfidf_multi_out4 = pd.DataFrame(data = {'Product_name': data['Product_name'],'prod_des':data['prod_des'],'multi_keywords':doc_multi_keywords4})\n",
        "df_tfidf_multi_out4"
      ],
      "execution_count": 92,
      "outputs": [
        {
          "output_type": "execute_result",
          "data": {
            "text/html": [
              "<div>\n",
              "<style scoped>\n",
              "    .dataframe tbody tr th:only-of-type {\n",
              "        vertical-align: middle;\n",
              "    }\n",
              "\n",
              "    .dataframe tbody tr th {\n",
              "        vertical-align: top;\n",
              "    }\n",
              "\n",
              "    .dataframe thead th {\n",
              "        text-align: right;\n",
              "    }\n",
              "</style>\n",
              "<table border=\"1\" class=\"dataframe\">\n",
              "  <thead>\n",
              "    <tr style=\"text-align: right;\">\n",
              "      <th></th>\n",
              "      <th>Product_name</th>\n",
              "      <th>prod_des</th>\n",
              "      <th>multi_keywords</th>\n",
              "    </tr>\n",
              "  </thead>\n",
              "  <tbody>\n",
              "    <tr>\n",
              "      <th>0</th>\n",
              "      <td>7508492919</td>\n",
              "      <td>Cute. I can't stop using this case!. Bling cut...</td>\n",
              "      <td>[phone, case case, case]</td>\n",
              "    </tr>\n",
              "    <tr>\n",
              "      <th>1</th>\n",
              "      <td>7532385086</td>\n",
              "      <td>A waste of money!. One Star. htc evo cover. No...</td>\n",
              "      <td>[product, star, money]</td>\n",
              "    </tr>\n",
              "    <tr>\n",
              "      <th>2</th>\n",
              "      <td>7887421268</td>\n",
              "      <td>Five Stars. plastic with suede. good deal. Thi...</td>\n",
              "      <td>[star, fit, protector]</td>\n",
              "    </tr>\n",
              "    <tr>\n",
              "      <th>3</th>\n",
              "      <td>8199900164</td>\n",
              "      <td>item didn't work. Five Stars. I</td>\n",
              "      <td>[work, star, item]</td>\n",
              "    </tr>\n",
              "    <tr>\n",
              "      <th>4</th>\n",
              "      <td>8288853439</td>\n",
              "      <td>Galaxy S4 Charger. Works Great.... GOOD BUY. L...</td>\n",
              "      <td>[buy, galaxy, charger]</td>\n",
              "    </tr>\n",
              "    <tr>\n",
              "      <th>...</th>\n",
              "      <td>...</td>\n",
              "      <td>...</td>\n",
              "      <td>...</td>\n",
              "    </tr>\n",
              "    <tr>\n",
              "      <th>48128</th>\n",
              "      <td>B01HJBS5C2</td>\n",
              "      <td>(Hybrid Carbon Fiber) Charger and headphone ho...</td>\n",
              "      <td>[case, stars star, phone]</td>\n",
              "    </tr>\n",
              "    <tr>\n",
              "      <th>48129</th>\n",
              "      <td>B01HJC7N4C</td>\n",
              "      <td>My first experience with VR, and it's a very p...</td>\n",
              "      <td>[color, work, stars]</td>\n",
              "    </tr>\n",
              "    <tr>\n",
              "      <th>48130</th>\n",
              "      <td>B01HJCN1UC</td>\n",
              "      <td>Four Stars. Five Stars. Durable and well made....</td>\n",
              "      <td>[work, product, star]</td>\n",
              "    </tr>\n",
              "    <tr>\n",
              "      <th>48131</th>\n",
              "      <td>B01HJCN55I</td>\n",
              "      <td>I really like the cable. Good cable. Worth.. G...</td>\n",
              "      <td>[star, stars, buy]</td>\n",
              "    </tr>\n",
              "    <tr>\n",
              "      <th>48132</th>\n",
              "      <td>B01HJH9IN6</td>\n",
              "      <td>Looked great, before crack.. Five Stars. Good ...</td>\n",
              "      <td>[price, money, cover]</td>\n",
              "    </tr>\n",
              "  </tbody>\n",
              "</table>\n",
              "<p>48133 rows × 3 columns</p>\n",
              "</div>"
            ],
            "text/plain": [
              "      Product_name  ...             multi_keywords\n",
              "0       7508492919  ...   [phone, case case, case]\n",
              "1       7532385086  ...     [product, star, money]\n",
              "2       7887421268  ...     [star, fit, protector]\n",
              "3       8199900164  ...         [work, star, item]\n",
              "4       8288853439  ...     [buy, galaxy, charger]\n",
              "...            ...  ...                        ...\n",
              "48128   B01HJBS5C2  ...  [case, stars star, phone]\n",
              "48129   B01HJC7N4C  ...       [color, work, stars]\n",
              "48130   B01HJCN1UC  ...      [work, product, star]\n",
              "48131   B01HJCN55I  ...         [star, stars, buy]\n",
              "48132   B01HJH9IN6  ...      [price, money, cover]\n",
              "\n",
              "[48133 rows x 3 columns]"
            ]
          },
          "metadata": {
            "tags": []
          },
          "execution_count": 92
        }
      ]
    },
    {
      "cell_type": "code",
      "metadata": {
        "id": "rZqnZyYwtvR6",
        "outputId": "83b5d75d-0ad5-46d4-d144-64e542739096",
        "colab": {
          "base_uri": "https://localhost:8080/",
          "height": 34
        }
      },
      "source": [
        "\n",
        "vectorizer5 = TfidfVectorizer(docs,lowercase = True, min_df = 0.02,max_df = 0.95,ngram_range=(1,2))\n",
        "tfidfmat5 = vectorizer5.fit_transform(docs)\n",
        "tfidfmat5.shape"
      ],
      "execution_count": 93,
      "outputs": [
        {
          "output_type": "execute_result",
          "data": {
            "text/plain": [
              "(48133, 123)"
            ]
          },
          "metadata": {
            "tags": []
          },
          "execution_count": 93
        }
      ]
    },
    {
      "cell_type": "code",
      "metadata": {
        "id": "muTYC07JtxL2"
      },
      "source": [
        "\n",
        "terms5 =  vectorizer5.get_feature_names()\n",
        "doc_multi_keywords5 = get_topn_multi_keywords(tfidfmat5,3,terms5)"
      ],
      "execution_count": 94,
      "outputs": []
    },
    {
      "cell_type": "code",
      "metadata": {
        "id": "rfZ1WSIut0aM",
        "outputId": "9b05a75b-c63c-4cff-cacf-6dc15848e922",
        "colab": {
          "base_uri": "https://localhost:8080/",
          "height": 402
        }
      },
      "source": [
        "df_tfidf_multi_out5 = pd.DataFrame(data = {'Product_name': data['Product_name'],'prod_des':data['prod_des'],'multi_keywords':doc_multi_keywords5})\n",
        "df_tfidf_multi_out5"
      ],
      "execution_count": 95,
      "outputs": [
        {
          "output_type": "execute_result",
          "data": {
            "text/html": [
              "<div>\n",
              "<style scoped>\n",
              "    .dataframe tbody tr th:only-of-type {\n",
              "        vertical-align: middle;\n",
              "    }\n",
              "\n",
              "    .dataframe tbody tr th {\n",
              "        vertical-align: top;\n",
              "    }\n",
              "\n",
              "    .dataframe thead th {\n",
              "        text-align: right;\n",
              "    }\n",
              "</style>\n",
              "<table border=\"1\" class=\"dataframe\">\n",
              "  <thead>\n",
              "    <tr style=\"text-align: right;\">\n",
              "      <th></th>\n",
              "      <th>Product_name</th>\n",
              "      <th>prod_des</th>\n",
              "      <th>multi_keywords</th>\n",
              "    </tr>\n",
              "  </thead>\n",
              "  <tbody>\n",
              "    <tr>\n",
              "      <th>0</th>\n",
              "      <td>7508492919</td>\n",
              "      <td>Cute. I can't stop using this case!. Bling cut...</td>\n",
              "      <td>[gift, case case, case]</td>\n",
              "    </tr>\n",
              "    <tr>\n",
              "      <th>1</th>\n",
              "      <td>7532385086</td>\n",
              "      <td>A waste of money!. One Star. htc evo cover. No...</td>\n",
              "      <td>[money, product star, waste]</td>\n",
              "    </tr>\n",
              "    <tr>\n",
              "      <th>2</th>\n",
              "      <td>7887421268</td>\n",
              "      <td>Five Stars. plastic with suede. good deal. Thi...</td>\n",
              "      <td>[star stars, plastic, case fit]</td>\n",
              "    </tr>\n",
              "    <tr>\n",
              "      <th>3</th>\n",
              "      <td>8199900164</td>\n",
              "      <td>item didn't work. Five Stars. I</td>\n",
              "      <td>[year, star, item]</td>\n",
              "    </tr>\n",
              "    <tr>\n",
              "      <th>4</th>\n",
              "      <td>8288853439</td>\n",
              "      <td>Galaxy S4 Charger. Works Great.... GOOD BUY. L...</td>\n",
              "      <td>[buy, galaxy, charger]</td>\n",
              "    </tr>\n",
              "    <tr>\n",
              "      <th>...</th>\n",
              "      <td>...</td>\n",
              "      <td>...</td>\n",
              "      <td>...</td>\n",
              "    </tr>\n",
              "    <tr>\n",
              "      <th>48128</th>\n",
              "      <td>B01HJBS5C2</td>\n",
              "      <td>(Hybrid Carbon Fiber) Charger and headphone ho...</td>\n",
              "      <td>[phone phone, piece, clip]</td>\n",
              "    </tr>\n",
              "    <tr>\n",
              "      <th>48129</th>\n",
              "      <td>B01HJC7N4C</td>\n",
              "      <td>My first experience with VR, and it's a very p...</td>\n",
              "      <td>[year, stars, device]</td>\n",
              "    </tr>\n",
              "    <tr>\n",
              "      <th>48130</th>\n",
              "      <td>B01HJCN1UC</td>\n",
              "      <td>Four Stars. Five Stars. Durable and well made....</td>\n",
              "      <td>[star product, cord, cable]</td>\n",
              "    </tr>\n",
              "    <tr>\n",
              "      <th>48131</th>\n",
              "      <td>B01HJCN55I</td>\n",
              "      <td>I really like the cable. Good cable. Worth.. G...</td>\n",
              "      <td>[buy, star stars, cable]</td>\n",
              "    </tr>\n",
              "    <tr>\n",
              "      <th>48132</th>\n",
              "      <td>B01HJH9IN6</td>\n",
              "      <td>Looked great, before crack.. Five Stars. Good ...</td>\n",
              "      <td>[price, money, cover]</td>\n",
              "    </tr>\n",
              "  </tbody>\n",
              "</table>\n",
              "<p>48133 rows × 3 columns</p>\n",
              "</div>"
            ],
            "text/plain": [
              "      Product_name  ...                   multi_keywords\n",
              "0       7508492919  ...          [gift, case case, case]\n",
              "1       7532385086  ...     [money, product star, waste]\n",
              "2       7887421268  ...  [star stars, plastic, case fit]\n",
              "3       8199900164  ...               [year, star, item]\n",
              "4       8288853439  ...           [buy, galaxy, charger]\n",
              "...            ...  ...                              ...\n",
              "48128   B01HJBS5C2  ...       [phone phone, piece, clip]\n",
              "48129   B01HJC7N4C  ...            [year, stars, device]\n",
              "48130   B01HJCN1UC  ...      [star product, cord, cable]\n",
              "48131   B01HJCN55I  ...         [buy, star stars, cable]\n",
              "48132   B01HJH9IN6  ...            [price, money, cover]\n",
              "\n",
              "[48133 rows x 3 columns]"
            ]
          },
          "metadata": {
            "tags": []
          },
          "execution_count": 95
        }
      ]
    },
    {
      "cell_type": "code",
      "metadata": {
        "id": "uixHGvLPxDgX"
      },
      "source": [
        "\n",
        "def get_tuned_keywords(docs,min_df,max_df,ngram_range,no_of_keywords):\n",
        "  vectorizer5 = TfidfVectorizer(docs,lowercase = True, min_df =min_df,max_df = max_df,ngram_range=ngram_range)\n",
        "  tfidfmat5 = vectorizer5.fit_transform(docs)\n",
        "  print(\"Tfidf shape:\",tfidfmat5.shape)\n",
        "  terms5 =  vectorizer5.get_feature_names()\n",
        "  print(terms5)\n",
        "  doc_multi_keywords5 = get_topn_multi_keywords(tfidfmat5,no_of_keywords,terms5)\n",
        "  df_tfidf_multi_out5 = pd.DataFrame(data = {'Product_name': data['Product_name'],'prod_des':data['prod_des'],'multi_keywords':doc_multi_keywords5})\n",
        "  return(df_tfidf_multi_out5)"
      ],
      "execution_count": 96,
      "outputs": []
    },
    {
      "cell_type": "code",
      "metadata": {
        "id": "qQkRPZJ0xGZL",
        "outputId": "d2c847b5-d99e-4d17-be66-f5e776b10a7b",
        "colab": {
          "base_uri": "https://localhost:8080/",
          "height": 455
        }
      },
      "source": [
        "final_out_task1_df = get_tuned_keywords(docs,0.02,0.95,(1,3),7)\n",
        "final_out_task1_df"
      ],
      "execution_count": 97,
      "outputs": [
        {
          "output_type": "stream",
          "text": [
            "Tfidf shape: (48133, 126)\n",
            "['apple', 'awesome', 'battery', 'bit', 'brand', 'button', 'buy', 'cable', 'car', 'card', 'case', 'case case', 'case case case', 'case color', 'case fit', 'case phone', 'case phone case', 'case price', 'case product', 'case protection', 'case quality', 'case star', 'case stars', 'cell', 'cell phone', 'charge', 'charger', 'clip', 'color', 'cord', 'cover', 'customer', 'customer service', 'day', 'deal', 'design', 'device', 'edge', 'excellent', 'fit', 'galaxy', 'gift', 'glass', 'good', 'great', 'grip', 'hand', 'holder', 'idea', 'iphone', 'issue', 'item', 'job', 'junk', 'leather', 'lg', 'life', 'look', 'lot', 'love', 'material', 'money', 'month', 'mount', 'nice', 'note', 'otterbox', 'perfect', 'phone', 'phone case', 'phone case case', 'phone phone', 'phone star', 'phone stars', 'picture', 'piece', 'plastic', 'port', 'power', 'price', 'price case', 'price star', 'problem', 'product', 'product case', 'product price', 'product star', 'protection', 'protection case', 'protector', 'purchase', 'quality', 'quality case', 'quality product', 'replacement', 'review', 'samsung', 'samsung galaxy', 'screen', 'screen protector', 'seller', 'service', 'size', 'star', 'star case', 'star phone', 'star product', 'star star', 'star stars', 'stars', 'stars case', 'stars star', 'stars stars', 'thing', 'time', 'usb', 'use', 'value', 'wallet', 'waste', 'way', 'week', 'wife', 'work', 'works', 'year']\n"
          ],
          "name": "stdout"
        },
        {
          "output_type": "execute_result",
          "data": {
            "text/html": [
              "<div>\n",
              "<style scoped>\n",
              "    .dataframe tbody tr th:only-of-type {\n",
              "        vertical-align: middle;\n",
              "    }\n",
              "\n",
              "    .dataframe tbody tr th {\n",
              "        vertical-align: top;\n",
              "    }\n",
              "\n",
              "    .dataframe thead th {\n",
              "        text-align: right;\n",
              "    }\n",
              "</style>\n",
              "<table border=\"1\" class=\"dataframe\">\n",
              "  <thead>\n",
              "    <tr style=\"text-align: right;\">\n",
              "      <th></th>\n",
              "      <th>Product_name</th>\n",
              "      <th>prod_des</th>\n",
              "      <th>multi_keywords</th>\n",
              "    </tr>\n",
              "  </thead>\n",
              "  <tbody>\n",
              "    <tr>\n",
              "      <th>0</th>\n",
              "      <td>7508492919</td>\n",
              "      <td>Cute. I can't stop using this case!. Bling cut...</td>\n",
              "      <td>[case star, phone, price case, plastic, gift, ...</td>\n",
              "    </tr>\n",
              "    <tr>\n",
              "      <th>1</th>\n",
              "      <td>7532385086</td>\n",
              "      <td>A waste of money!. One Star. htc evo cover. No...</td>\n",
              "      <td>[glass, excellent, product, star, money, produ...</td>\n",
              "    </tr>\n",
              "    <tr>\n",
              "      <th>2</th>\n",
              "      <td>7887421268</td>\n",
              "      <td>Five Stars. plastic with suede. good deal. Thi...</td>\n",
              "      <td>[star, fit, protector, deal, star stars, plast...</td>\n",
              "    </tr>\n",
              "    <tr>\n",
              "      <th>3</th>\n",
              "      <td>8199900164</td>\n",
              "      <td>item didn't work. Five Stars. I</td>\n",
              "      <td>[deal, day, customer service, great, year, sta...</td>\n",
              "    </tr>\n",
              "    <tr>\n",
              "      <th>4</th>\n",
              "      <td>8288853439</td>\n",
              "      <td>Galaxy S4 Charger. Works Great.... GOOD BUY. L...</td>\n",
              "      <td>[fit, year, stars, star, buy, galaxy, charger]</td>\n",
              "    </tr>\n",
              "    <tr>\n",
              "      <th>...</th>\n",
              "      <td>...</td>\n",
              "      <td>...</td>\n",
              "      <td>...</td>\n",
              "    </tr>\n",
              "    <tr>\n",
              "      <th>48128</th>\n",
              "      <td>B01HJBS5C2</td>\n",
              "      <td>(Hybrid Carbon Fiber) Charger and headphone ho...</td>\n",
              "      <td>[case, stars star, month, phone, phone phone, ...</td>\n",
              "    </tr>\n",
              "    <tr>\n",
              "      <th>48129</th>\n",
              "      <td>B01HJC7N4C</td>\n",
              "      <td>My first experience with VR, and it's a very p...</td>\n",
              "      <td>[design, deal, day, customer service, cover, s...</td>\n",
              "    </tr>\n",
              "    <tr>\n",
              "      <th>48130</th>\n",
              "      <td>B01HJCN1UC</td>\n",
              "      <td>Four Stars. Five Stars. Durable and well made....</td>\n",
              "      <td>[deal, day, product, star, star product, cord,...</td>\n",
              "    </tr>\n",
              "    <tr>\n",
              "      <th>48131</th>\n",
              "      <td>B01HJCN55I</td>\n",
              "      <td>I really like the cable. Good cable. Worth.. G...</td>\n",
              "      <td>[good, fit, star, stars, buy, star stars, cable]</td>\n",
              "    </tr>\n",
              "    <tr>\n",
              "      <th>48132</th>\n",
              "      <td>B01HJH9IN6</td>\n",
              "      <td>Looked great, before crack.. Five Stars. Good ...</td>\n",
              "      <td>[day, customer service, great, stars, price, m...</td>\n",
              "    </tr>\n",
              "  </tbody>\n",
              "</table>\n",
              "<p>48133 rows × 3 columns</p>\n",
              "</div>"
            ],
            "text/plain": [
              "      Product_name  ...                                     multi_keywords\n",
              "0       7508492919  ...  [case star, phone, price case, plastic, gift, ...\n",
              "1       7532385086  ...  [glass, excellent, product, star, money, produ...\n",
              "2       7887421268  ...  [star, fit, protector, deal, star stars, plast...\n",
              "3       8199900164  ...  [deal, day, customer service, great, year, sta...\n",
              "4       8288853439  ...     [fit, year, stars, star, buy, galaxy, charger]\n",
              "...            ...  ...                                                ...\n",
              "48128   B01HJBS5C2  ...  [case, stars star, month, phone, phone phone, ...\n",
              "48129   B01HJC7N4C  ...  [design, deal, day, customer service, cover, s...\n",
              "48130   B01HJCN1UC  ...  [deal, day, product, star, star product, cord,...\n",
              "48131   B01HJCN55I  ...   [good, fit, star, stars, buy, star stars, cable]\n",
              "48132   B01HJH9IN6  ...  [day, customer service, great, stars, price, m...\n",
              "\n",
              "[48133 rows x 3 columns]"
            ]
          },
          "metadata": {
            "tags": []
          },
          "execution_count": 97
        }
      ]
    },
    {
      "cell_type": "code",
      "metadata": {
        "id": "r2jPRf_20ZZ3"
      },
      "source": [
        "final_out_task1_df.to_csv('final_out_task1_df.csv',index=False)"
      ],
      "execution_count": 99,
      "outputs": []
    },
    {
      "cell_type": "code",
      "metadata": {
        "id": "eDmCUuOwxIL2",
        "outputId": "ae69bcbf-d720-4311-9f16-b33c949800bf",
        "colab": {
          "base_uri": "https://localhost:8080/",
          "height": 138
        }
      },
      "source": [
        "\n",
        "i=48130\n",
        "print(\"Original PDP:\\n\",data['prod_des'][i])\n",
        "print(\"After POS:\\n\",docs[i])\n",
        "print(\"Final Keywords:\\n\",final_out_task1_df['multi_keywords'][i])"
      ],
      "execution_count": 101,
      "outputs": [
        {
          "output_type": "stream",
          "text": [
            "Original PDP:\n",
            " Four Stars. Five Stars. Durable and well made. Decent!. Good product. Highly recommend!. but the nylon makes it less flexible than I would have liked.. It Works. It Really Works.. Pretty blue cord. Nice thick cable. thanks for a great cord.... very long cable cord. Keeps my electronics ready for action.. Best of the Best. The cable is perfect. It showed up as promised and is exactly .... Good cable great length.\n",
            "After POS:\n",
            " star product nylon cord cable thank cord cable cord electronics action cable cable length star\n",
            "Final Keywords:\n",
            " ['deal', 'day', 'product', 'star', 'star product', 'cord', 'cable']\n"
          ],
          "name": "stdout"
        }
      ]
    },
    {
      "cell_type": "code",
      "metadata": {
        "id": "NbMt-7sl0BWR"
      },
      "source": [
        "i = 2222\n",
        "print(\"Original PDP:\\n\",data['prod_des'][i]+\"\\n\")\n",
        "doc = nlp(data['prod_des'][i])\n",
        "for chunk in doc.noun_chunks:\n",
        "    print(\"ct:\"+chunk.text+\"\\ncrt:\"+ chunk.root.text+\"\\ncrd:\"+ chunk.root.dep_+\n",
        "            \"\\ncrh:\"+chunk.root.head.text+\"\\n\\n\")"
      ],
      "execution_count": null,
      "outputs": []
    },
    {
      "cell_type": "code",
      "metadata": {
        "id": "SgO-xNZC2_TH",
        "outputId": "8cb65762-0606-44c6-e222-42bc2eac409c",
        "colab": {
          "base_uri": "https://localhost:8080/",
          "height": 67
        }
      },
      "source": [
        "chunk_text = [i.text.lower() for i in doc.noun_chunks]\n",
        "chunk_root_text = [i.root.text.lower() for i in doc.noun_chunks]\n",
        "print(chunk_text)\n",
        "print(chunk_root_text)\n",
        "l = chunk_text\n",
        "lst_kw = final_out_task1_df['multi_keywords'][1]\n",
        "print(lst_kw)"
      ],
      "execution_count": 104,
      "outputs": [
        {
          "output_type": "stream",
          "text": [
            "['gooey film', 'removal', 'a great screen protector', 'bubble', 'i', 'i', 'my phone', 'bubbles', 'best screen protector']\n",
            "['film', 'removal', 'protector', 'bubble', 'i', 'i', 'phone', 'bubbles', 'protector']\n",
            "['glass', 'excellent', 'product', 'star', 'money', 'product star', 'waste']\n"
          ],
          "name": "stdout"
        }
      ]
    },
    {
      "cell_type": "code",
      "metadata": {
        "id": "xLifWfxo21in"
      },
      "source": [
        "def match(lst_kw,lst_crt_ct):\n",
        "  l = []\n",
        "  for i in lst_kw:\n",
        "    for j in lst_crt_ct:\n",
        "      if i in j.split():\n",
        "        #print(i,\":\",j)\n",
        "        l.append(j)\n",
        "  return list(set(l))"
      ],
      "execution_count": 106,
      "outputs": []
    },
    {
      "cell_type": "code",
      "metadata": {
        "id": "vh7TSOaB1HS_"
      },
      "source": [
        "\n",
        "prod_des_lst = [i for i in final_out_task1_df['prod_des']]\n",
        "def extract_ksp(col1,col2):\n",
        "  lst_keywords = col1\n",
        "  prod_des = col2\n",
        "  doc = nlp(prod_des)\n",
        "  lst_chunk_text = [i.text.lower() for i in doc.noun_chunks]\n",
        "  lst_chunk_text.extend([i.root.text.lower() for i in doc.noun_chunks])\n",
        "  return(match(lst_keywords,lst_chunk_text))"
      ],
      "execution_count": 107,
      "outputs": []
    },
    {
      "cell_type": "code",
      "metadata": {
        "id": "prHvmJQf1MVE"
      },
      "source": [
        "out = final_out_task1_df.apply(lambda x: extract_ksp(x.multi_keywords,x.prod_des),axis = 1)\n"
      ],
      "execution_count": 108,
      "outputs": []
    },
    {
      "cell_type": "code",
      "metadata": {
        "id": "3prMRIH01QFW"
      },
      "source": [
        "df_ksp= pd.DataFrame(data = {'IC': data['Product_name'],'Rev_summ':data['prod_des'],'keywords':final_out_task1_df['multi_keywords'],'summary':out})\n",
        "df_ksp.to_csv('final_out.csv',index=False)"
      ],
      "execution_count": 128,
      "outputs": []
    },
    {
      "cell_type": "code",
      "metadata": {
        "id": "wodBMAE75uM7",
        "outputId": "4aa8e3d3-6e51-4810-ef82-2e9faa792768",
        "colab": {
          "base_uri": "https://localhost:8080/",
          "height": 402
        }
      },
      "source": [
        "df_ksp"
      ],
      "execution_count": 129,
      "outputs": [
        {
          "output_type": "execute_result",
          "data": {
            "text/html": [
              "<div>\n",
              "<style scoped>\n",
              "    .dataframe tbody tr th:only-of-type {\n",
              "        vertical-align: middle;\n",
              "    }\n",
              "\n",
              "    .dataframe tbody tr th {\n",
              "        vertical-align: top;\n",
              "    }\n",
              "\n",
              "    .dataframe thead th {\n",
              "        text-align: right;\n",
              "    }\n",
              "</style>\n",
              "<table border=\"1\" class=\"dataframe\">\n",
              "  <thead>\n",
              "    <tr style=\"text-align: right;\">\n",
              "      <th></th>\n",
              "      <th>IC</th>\n",
              "      <th>Rev_summ</th>\n",
              "      <th>keywords</th>\n",
              "      <th>summary</th>\n",
              "    </tr>\n",
              "  </thead>\n",
              "  <tbody>\n",
              "    <tr>\n",
              "      <th>0</th>\n",
              "      <td>7508492919</td>\n",
              "      <td>Cute. I can't stop using this case!. Bling cut...</td>\n",
              "      <td>[case star, phone, price case, plastic, gift, ...</td>\n",
              "      <td>[plastic, the same case, great gift, 4s phone ...</td>\n",
              "    </tr>\n",
              "    <tr>\n",
              "      <th>1</th>\n",
              "      <td>7532385086</td>\n",
              "      <td>A waste of money!. One Star. htc evo cover. No...</td>\n",
              "      <td>[glass, excellent, product, star, money, produ...</td>\n",
              "      <td>[product, money, this product, star, waste, a ...</td>\n",
              "    </tr>\n",
              "    <tr>\n",
              "      <th>2</th>\n",
              "      <td>7887421268</td>\n",
              "      <td>Five Stars. plastic with suede. good deal. Thi...</td>\n",
              "      <td>[star, fit, protector, deal, star stars, plast...</td>\n",
              "      <td>[protector, plastic, fit, star, simple and att...</td>\n",
              "    </tr>\n",
              "    <tr>\n",
              "      <th>3</th>\n",
              "      <td>8199900164</td>\n",
              "      <td>item didn't work. Five Stars. I</td>\n",
              "      <td>[deal, day, customer service, great, year, sta...</td>\n",
              "      <td>[item]</td>\n",
              "    </tr>\n",
              "    <tr>\n",
              "      <th>4</th>\n",
              "      <td>8288853439</td>\n",
              "      <td>Galaxy S4 Charger. Works Great.... GOOD BUY. L...</td>\n",
              "      <td>[fit, year, stars, star, buy, galaxy, charger]</td>\n",
              "      <td>[buy, four stars, charger, stars, galaxy s4 ch...</td>\n",
              "    </tr>\n",
              "    <tr>\n",
              "      <th>...</th>\n",
              "      <td>...</td>\n",
              "      <td>...</td>\n",
              "      <td>...</td>\n",
              "      <td>...</td>\n",
              "    </tr>\n",
              "    <tr>\n",
              "      <th>48128</th>\n",
              "      <td>B01HJBS5C2</td>\n",
              "      <td>(Hybrid Carbon Fiber) Charger and headphone ho...</td>\n",
              "      <td>[case, stars star, month, phone, phone phone, ...</td>\n",
              "      <td>[phone, clip, case, a good solid 2 piece cover...</td>\n",
              "    </tr>\n",
              "    <tr>\n",
              "      <th>48129</th>\n",
              "      <td>B01HJC7N4C</td>\n",
              "      <td>My first experience with VR, and it's a very p...</td>\n",
              "      <td>[design, deal, day, customer service, cover, s...</td>\n",
              "      <td>[this device, three stars, device, stars]</td>\n",
              "    </tr>\n",
              "    <tr>\n",
              "      <th>48130</th>\n",
              "      <td>B01HJCN1UC</td>\n",
              "      <td>Four Stars. Five Stars. Durable and well made....</td>\n",
              "      <td>[deal, day, product, star, star product, cord,...</td>\n",
              "      <td>[product, the cable, good cable great length, ...</td>\n",
              "    </tr>\n",
              "    <tr>\n",
              "      <th>48131</th>\n",
              "      <td>B01HJCN55I</td>\n",
              "      <td>I really like the cable. Good cable. Worth.. G...</td>\n",
              "      <td>[good, fit, star, stars, buy, star stars, cable]</td>\n",
              "      <td>[buy, the cable, stars, great buy, cable, two ...</td>\n",
              "    </tr>\n",
              "    <tr>\n",
              "      <th>48132</th>\n",
              "      <td>B01HJH9IN6</td>\n",
              "      <td>Looked great, before crack.. Five Stars. Good ...</td>\n",
              "      <td>[day, customer service, great, stars, price, m...</td>\n",
              "      <td>[the price, price, stars, money, good cover, c...</td>\n",
              "    </tr>\n",
              "  </tbody>\n",
              "</table>\n",
              "<p>48133 rows × 4 columns</p>\n",
              "</div>"
            ],
            "text/plain": [
              "               IC  ...                                            summary\n",
              "0      7508492919  ...  [plastic, the same case, great gift, 4s phone ...\n",
              "1      7532385086  ...  [product, money, this product, star, waste, a ...\n",
              "2      7887421268  ...  [protector, plastic, fit, star, simple and att...\n",
              "3      8199900164  ...                                             [item]\n",
              "4      8288853439  ...  [buy, four stars, charger, stars, galaxy s4 ch...\n",
              "...           ...  ...                                                ...\n",
              "48128  B01HJBS5C2  ...  [phone, clip, case, a good solid 2 piece cover...\n",
              "48129  B01HJC7N4C  ...          [this device, three stars, device, stars]\n",
              "48130  B01HJCN1UC  ...  [product, the cable, good cable great length, ...\n",
              "48131  B01HJCN55I  ...  [buy, the cable, stars, great buy, cable, two ...\n",
              "48132  B01HJH9IN6  ...  [the price, price, stars, money, good cover, c...\n",
              "\n",
              "[48133 rows x 4 columns]"
            ]
          },
          "metadata": {
            "tags": []
          },
          "execution_count": 129
        }
      ]
    },
    {
      "cell_type": "code",
      "metadata": {
        "id": "lSL6Epw95z5O"
      },
      "source": [
        "\n",
        "df_ksp.to_csv('df_ksp.csv',index=False)"
      ],
      "execution_count": 130,
      "outputs": []
    },
    {
      "cell_type": "code",
      "metadata": {
        "id": "PCjKvt-c6rUm",
        "outputId": "165b7dbc-63cd-43b9-a800-56478714d953",
        "colab": {
          "base_uri": "https://localhost:8080/",
          "height": 34
        }
      },
      "source": [
        "len(df_ksp)"
      ],
      "execution_count": 131,
      "outputs": [
        {
          "output_type": "execute_result",
          "data": {
            "text/plain": [
              "48133"
            ]
          },
          "metadata": {
            "tags": []
          },
          "execution_count": 131
        }
      ]
    },
    {
      "cell_type": "code",
      "metadata": {
        "id": "Ae_kEZ8q56jl",
        "outputId": "53df2af4-192b-488a-aaee-13d5f36478e5",
        "colab": {
          "base_uri": "https://localhost:8080/",
          "height": 185
        }
      },
      "source": [
        "import random\n",
        "n = np.random.randint(0, len(df_ksp), 1)\n",
        "i =45793 # n[0]\n",
        "print(\"Product_name\\n\",df_ksp['IC'][i])\n",
        "print(\"Original PDP:\\n\",df_ksp['Rev_summ'][i])\n",
        "print(\"After POS:\\n\",docs[i])\n",
        "print(\"Apppropriate Keywords:\\n\",df_ksp['keywords'][i])\n",
        "print(\"Summary:\\n\",df_ksp['summary'][i])"
      ],
      "execution_count": 143,
      "outputs": [
        {
          "output_type": "stream",
          "text": [
            "Product_name\n",
            " B01EMY6G2U\n",
            "Original PDP:\n",
            " Works and doesnt damage the mask.. Fits my 1st generation Gear VR. Total false advertising..too small. Definitely a keeper\n",
            "After POS:\n",
            " Works mask generation advertising keeper Gear VR\n",
            "Apppropriate Keywords:\n",
            " ['device', 'design', 'deal', 'day', 'customer service', 'customer', 'works']\n",
            "Summary:\n",
            " ['works']\n"
          ],
          "name": "stdout"
        }
      ]
    },
    {
      "cell_type": "code",
      "metadata": {
        "id": "j06LKXDh9Mz9",
        "outputId": "4e5d8158-8c24-42fe-fbe9-6a7492d7fb2a",
        "colab": {
          "base_uri": "https://localhost:8080/",
          "height": 50
        }
      },
      "source": [
        "print(df_ksp.shape)\n",
        "print(df_rating_data.shape)"
      ],
      "execution_count": 137,
      "outputs": [
        {
          "output_type": "stream",
          "text": [
            "(48133, 4)\n",
            "(48133, 10)\n"
          ],
          "name": "stdout"
        }
      ]
    },
    {
      "cell_type": "code",
      "metadata": {
        "id": "7SJUr-_X6BQA"
      },
      "source": [
        "df_final = df_ksp.merge(df_rating_data,on='IC',how='inner')"
      ],
      "execution_count": 138,
      "outputs": []
    },
    {
      "cell_type": "code",
      "metadata": {
        "id": "ErpJKNWe9Uwx",
        "outputId": "a5572c59-0c94-43fb-f6f0-f34972d37e64",
        "colab": {
          "base_uri": "https://localhost:8080/",
          "height": 528
        }
      },
      "source": [
        "df_final.sample(10)"
      ],
      "execution_count": 140,
      "outputs": [
        {
          "output_type": "execute_result",
          "data": {
            "text/html": [
              "<div>\n",
              "<style scoped>\n",
              "    .dataframe tbody tr th:only-of-type {\n",
              "        vertical-align: middle;\n",
              "    }\n",
              "\n",
              "    .dataframe tbody tr th {\n",
              "        vertical-align: top;\n",
              "    }\n",
              "\n",
              "    .dataframe thead th {\n",
              "        text-align: right;\n",
              "    }\n",
              "</style>\n",
              "<table border=\"1\" class=\"dataframe\">\n",
              "  <thead>\n",
              "    <tr style=\"text-align: right;\">\n",
              "      <th></th>\n",
              "      <th>IC</th>\n",
              "      <th>Rev_summ</th>\n",
              "      <th>keywords</th>\n",
              "      <th>summary</th>\n",
              "      <th>Total rating</th>\n",
              "      <th>Average rating</th>\n",
              "      <th>Maximum rating</th>\n",
              "      <th>Minimum rating</th>\n",
              "      <th>1 star ratings</th>\n",
              "      <th>2 star ratings</th>\n",
              "      <th>3 star ratings</th>\n",
              "      <th>4 star ratings</th>\n",
              "      <th>5 star ratings</th>\n",
              "    </tr>\n",
              "  </thead>\n",
              "  <tbody>\n",
              "    <tr>\n",
              "      <th>40675</th>\n",
              "      <td>B018GTIPLC</td>\n",
              "      <td>Works great !!. Not good. I have a 2013 Nexus ...</td>\n",
              "      <td>[works, cable, day, phone phone, port, price, ...</td>\n",
              "      <td>[price, nice charger, port, works, charger, ba...</td>\n",
              "      <td>27</td>\n",
              "      <td>4.19</td>\n",
              "      <td>5</td>\n",
              "      <td>1</td>\n",
              "      <td>4</td>\n",
              "      <td>0</td>\n",
              "      <td>2</td>\n",
              "      <td>2</td>\n",
              "      <td>19</td>\n",
              "    </tr>\n",
              "    <tr>\n",
              "      <th>45793</th>\n",
              "      <td>B01EMY6G2U</td>\n",
              "      <td>Works and doesnt damage the mask.. Fits my 1st...</td>\n",
              "      <td>[device, design, deal, day, customer service, ...</td>\n",
              "      <td>[works]</td>\n",
              "      <td>4</td>\n",
              "      <td>3.75</td>\n",
              "      <td>5</td>\n",
              "      <td>1</td>\n",
              "      <td>1</td>\n",
              "      <td>0</td>\n",
              "      <td>0</td>\n",
              "      <td>1</td>\n",
              "      <td>2</td>\n",
              "    </tr>\n",
              "    <tr>\n",
              "      <th>46483</th>\n",
              "      <td>B01FHSKVNK</td>\n",
              "      <td>Very thin braided cable, died within a week. B...</td>\n",
              "      <td>[product price, car, week, charger, quality, u...</td>\n",
              "      <td>[car, type-c usb cable, nice cable, charger, g...</td>\n",
              "      <td>30</td>\n",
              "      <td>4.00</td>\n",
              "      <td>5</td>\n",
              "      <td>1</td>\n",
              "      <td>5</td>\n",
              "      <td>1</td>\n",
              "      <td>1</td>\n",
              "      <td>5</td>\n",
              "      <td>18</td>\n",
              "    </tr>\n",
              "    <tr>\n",
              "      <th>17760</th>\n",
              "      <td>B00I4EJWL2</td>\n",
              "      <td>What do you expect for under $5 buckaroos. Fiv...</td>\n",
              "      <td>[galaxy, gift, edge, star, screen, protector, ...</td>\n",
              "      <td>[better screen protectors]</td>\n",
              "      <td>3</td>\n",
              "      <td>3.00</td>\n",
              "      <td>5</td>\n",
              "      <td>1</td>\n",
              "      <td>1</td>\n",
              "      <td>0</td>\n",
              "      <td>1</td>\n",
              "      <td>0</td>\n",
              "      <td>1</td>\n",
              "    </tr>\n",
              "    <tr>\n",
              "      <th>37302</th>\n",
              "      <td>B014J4LACO</td>\n",
              "      <td>Shaky at times.. The case is very bulky and th...</td>\n",
              "      <td>[day, star, case, screen, cover, time, car]</td>\n",
              "      <td>[the case, case, the screen cover, cover]</td>\n",
              "      <td>8</td>\n",
              "      <td>2.75</td>\n",
              "      <td>5</td>\n",
              "      <td>1</td>\n",
              "      <td>2</td>\n",
              "      <td>1</td>\n",
              "      <td>3</td>\n",
              "      <td>1</td>\n",
              "      <td>1</td>\n",
              "    </tr>\n",
              "    <tr>\n",
              "      <th>36206</th>\n",
              "      <td>B01328RFH2</td>\n",
              "      <td>One Star. Cheaply made. Breaks too easy.. Nice...</td>\n",
              "      <td>[value, stars star, charge, month, cable, usb,...</td>\n",
              "      <td>[the usb cable, great replacement, replacement...</td>\n",
              "      <td>9</td>\n",
              "      <td>3.22</td>\n",
              "      <td>5</td>\n",
              "      <td>1</td>\n",
              "      <td>3</td>\n",
              "      <td>0</td>\n",
              "      <td>1</td>\n",
              "      <td>2</td>\n",
              "      <td>3</td>\n",
              "    </tr>\n",
              "    <tr>\n",
              "      <th>3066</th>\n",
              "      <td>B0050MW0Z6</td>\n",
              "      <td>GVanHorn. Five Stars. Ipod working again. Four...</td>\n",
              "      <td>[design, deal, day, customer service, grip, st...</td>\n",
              "      <td>[four stars, stars, five stars]</td>\n",
              "      <td>5</td>\n",
              "      <td>4.00</td>\n",
              "      <td>5</td>\n",
              "      <td>1</td>\n",
              "      <td>1</td>\n",
              "      <td>0</td>\n",
              "      <td>0</td>\n",
              "      <td>1</td>\n",
              "      <td>3</td>\n",
              "    </tr>\n",
              "    <tr>\n",
              "      <th>5604</th>\n",
              "      <td>B006XGIM78</td>\n",
              "      <td>Any Idea. I recommend this for anyone that has...</td>\n",
              "      <td>[great, galaxy, case, phone, iphone, phone cas...</td>\n",
              "      <td>[phone, a case, idea, case, an iphone, a phone...</td>\n",
              "      <td>4</td>\n",
              "      <td>3.25</td>\n",
              "      <td>5</td>\n",
              "      <td>1</td>\n",
              "      <td>1</td>\n",
              "      <td>0</td>\n",
              "      <td>1</td>\n",
              "      <td>1</td>\n",
              "      <td>1</td>\n",
              "    </tr>\n",
              "    <tr>\n",
              "      <th>15750</th>\n",
              "      <td>B00G8SQLQA</td>\n",
              "      <td>Five Stars. Excellent.. i wear this phone case...</td>\n",
              "      <td>[deal, day, star, case, phone, phone case, sta...</td>\n",
              "      <td>[this phone case alot]</td>\n",
              "      <td>8</td>\n",
              "      <td>4.00</td>\n",
              "      <td>5</td>\n",
              "      <td>1</td>\n",
              "      <td>2</td>\n",
              "      <td>0</td>\n",
              "      <td>0</td>\n",
              "      <td>0</td>\n",
              "      <td>6</td>\n",
              "    </tr>\n",
              "    <tr>\n",
              "      <th>2829</th>\n",
              "      <td>B004WOT3FI</td>\n",
              "      <td>Poor Quality. i enjoy this headsets. I talked ...</td>\n",
              "      <td>[product, button, customer service, quality pr...</td>\n",
              "      <td>[product, good product, quality, star, seller,...</td>\n",
              "      <td>32</td>\n",
              "      <td>3.97</td>\n",
              "      <td>5</td>\n",
              "      <td>1</td>\n",
              "      <td>3</td>\n",
              "      <td>1</td>\n",
              "      <td>4</td>\n",
              "      <td>10</td>\n",
              "      <td>14</td>\n",
              "    </tr>\n",
              "  </tbody>\n",
              "</table>\n",
              "</div>"
            ],
            "text/plain": [
              "               IC  ... 5 star ratings\n",
              "40675  B018GTIPLC  ...             19\n",
              "45793  B01EMY6G2U  ...              2\n",
              "46483  B01FHSKVNK  ...             18\n",
              "17760  B00I4EJWL2  ...              1\n",
              "37302  B014J4LACO  ...              1\n",
              "36206  B01328RFH2  ...              3\n",
              "3066   B0050MW0Z6  ...              3\n",
              "5604   B006XGIM78  ...              1\n",
              "15750  B00G8SQLQA  ...              6\n",
              "2829   B004WOT3FI  ...             14\n",
              "\n",
              "[10 rows x 13 columns]"
            ]
          },
          "metadata": {
            "tags": []
          },
          "execution_count": 140
        }
      ]
    },
    {
      "cell_type": "code",
      "metadata": {
        "id": "jVGtYsyV9ZHX"
      },
      "source": [
        "df_final.to_json('Customer_review_summarization.json')"
      ],
      "execution_count": 141,
      "outputs": []
    },
    {
      "cell_type": "code",
      "metadata": {
        "id": "R_XyCmR0BYYx"
      },
      "source": [
        ""
      ],
      "execution_count": null,
      "outputs": []
    },
    {
      "cell_type": "code",
      "metadata": {
        "id": "y-CFRKyk-U4T"
      },
      "source": [
        ""
      ],
      "execution_count": null,
      "outputs": []
    },
    {
      "cell_type": "code",
      "metadata": {
        "id": "COKqK4S909_d"
      },
      "source": [
        ""
      ],
      "execution_count": null,
      "outputs": []
    }
  ]
}